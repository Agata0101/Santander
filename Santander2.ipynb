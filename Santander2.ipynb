{
 "cells": [
  {
   "cell_type": "code",
   "execution_count": 1,
   "metadata": {},
   "outputs": [],
   "source": [
    "import pandas as pd\n",
    "import numpy as np\n",
    "from sklearn.model_selection import StratifiedKFold\n",
    "from scipy.stats import rankdata\n",
    "import lightgbm as lgb\n",
    "from sklearn import metrics\n",
    "import gc\n",
    "import warnings\n",
    "from sklearn.ensemble import RandomForestClassifier\n",
    "from sklearn.model_selection import train_test_split\n",
    "from bayes_opt import BayesianOptimization\n",
    "\n",
    "pd.set_option('display.max_columns', 200)"
   ]
  },
  {
   "cell_type": "code",
   "execution_count": 2,
   "metadata": {},
   "outputs": [],
   "source": [
    "#autoreload reloads modules automatically before entering the execution of code typed at the IPython prompt.\n",
    "%load_ext autoreload\n",
    "#Reload all modules (except those excluded by %aimport) every time before executing the Python code typed.\n",
    "%autoreload 2\n",
    "#include matplotlib graphs in the notebook\n",
    "%matplotlib inline"
   ]
  },
  {
   "cell_type": "code",
   "execution_count": 3,
   "metadata": {},
   "outputs": [],
   "source": [
    "#specify where the data is located\n",
    "PATH = \"C:\\\\Users\\\\Agata\\\\fastai\\\\courses\\\\ml1\\\\data\\\\santander\\\\\""
   ]
  },
  {
   "cell_type": "code",
   "execution_count": 4,
   "metadata": {},
   "outputs": [],
   "source": [
    "train = pd.read_csv(f'{PATH}train.csv')\n",
    "test = pd.read_csv(f'{PATH}test.csv')"
   ]
  },
  {
   "cell_type": "code",
   "execution_count": 5,
   "metadata": {},
   "outputs": [
    {
     "name": "stdout",
     "output_type": "stream",
     "text": [
      "Number of rows and columns in train set (200000, 202)\n",
      "Number of rows and columns in test set (200000, 201)\n"
     ]
    }
   ],
   "source": [
    "print(f'Number of rows and columns in train set {train.shape}')\n",
    "print(f'Number of rows and columns in test set {test.shape}')"
   ]
  },
  {
   "cell_type": "code",
   "execution_count": 6,
   "metadata": {},
   "outputs": [],
   "source": [
    "features = [c for c in train.columns if c not in ['ID_code', 'target']]\n",
    "target = train ['target']"
   ]
  },
  {
   "cell_type": "code",
   "execution_count": 7,
   "metadata": {},
   "outputs": [],
   "source": [
    "df = train[features]\n",
    "y = train ['target']"
   ]
  },
  {
   "cell_type": "code",
   "execution_count": 1,
   "metadata": {},
   "outputs": [],
   "source": [
    "#train.info"
   ]
  },
  {
   "cell_type": "markdown",
   "metadata": {},
   "source": [
    "## Unbalanced target variable\n",
    "Up-sample Minority Class\n",
    "\n",
    "Up-sampling is the process of randomly duplicating observations from the minority class in order to reinforce its signal.\n",
    "\n",
    "I will resample with replacement.\n",
    "\n",
    "\n",
    "Next, we'll create a new DataFrame with an up-sampled minority class. Here are the steps:\n",
    "\n",
    "   1. First, we'll separate observations from each class into different DataFrames.\n",
    "   2. Next, we'll resample the minority class with replacement, setting the number of samples to match that of the majority class.\n",
    "   3. Finally, we'll combine the up-sampled minority class DataFrame with the original majority class DataFrame.\n"
   ]
  },
  {
   "cell_type": "code",
   "execution_count": 8,
   "metadata": {
    "scrolled": true
   },
   "outputs": [
    {
     "name": "stdout",
     "output_type": "stream",
     "text": [
      "0    179902\n",
      "1     20098\n",
      "Name: target, dtype: int64\n"
     ]
    }
   ],
   "source": [
    "print(train['target'].value_counts())"
   ]
  },
  {
   "cell_type": "code",
   "execution_count": 14,
   "metadata": {},
   "outputs": [
    {
     "data": {
      "text/plain": [
       "<matplotlib.axes._subplots.AxesSubplot at 0x23f09b88080>"
      ]
     },
     "execution_count": 14,
     "metadata": {},
     "output_type": "execute_result"
    },
    {
     "data": {
      "image/png": "[encoded data removed]",
      "text/plain": [
       "<Figure size 432x288 with 1 Axes>"
      ]
     },
     "metadata": {
      "needs_background": "light"
     },
     "output_type": "display_data"
    }
   ],
   "source": [
    "import seaborn as sns\n",
    "sns.countplot(train['target'])"
   ]
  },
  {
   "cell_type": "code",
   "execution_count": 10,
   "metadata": {},
   "outputs": [
    {
     "name": "stdout",
     "output_type": "stream",
     "text": [
      "Percentage of target variables with value of 1: 10.049%\n"
     ]
    }
   ],
   "source": [
    "print(\"Percentage of target variables with value of 1: {}%\".format(100 * train[\"target\"].value_counts()[1]/train.shape[0]))"
   ]
  },
  {
   "cell_type": "code",
   "execution_count": 44,
   "metadata": {},
   "outputs": [],
   "source": [
    "from sklearn.utils import resample"
   ]
  },
  {
   "cell_type": "code",
   "execution_count": 45,
   "metadata": {},
   "outputs": [
    {
     "data": {
      "text/plain": [
       "1    179902\n",
       "0    179902\n",
       "Name: target, dtype: int64"
      ]
     },
     "execution_count": 45,
     "metadata": {},
     "output_type": "execute_result"
    }
   ],
   "source": [
    "# Separate majority and minority classes\n",
    "df_majority = train[train['target']==0]\n",
    "df_minority = train[train['target']==1]\n",
    " \n",
    "# Upsample minority class\n",
    "df_minority_upsampled = resample(df_minority, \n",
    "                                 replace=True,     # sample with replacement\n",
    "                                 n_samples=179902,    # to match majority class\n",
    "                                 random_state=123) # reproducible results\n",
    " \n",
    "# Combine majority class with upsampled minority class\n",
    "df_upsampled = pd.concat([df_majority, df_minority_upsampled])\n",
    " \n",
    "# Display new class counts\n",
    "df_upsampled['target'].value_counts()"
   ]
  },
  {
   "cell_type": "code",
   "execution_count": 18,
   "metadata": {},
   "outputs": [
    {
     "data": {
      "text/plain": [
       "359804"
      ]
     },
     "execution_count": 18,
     "metadata": {},
     "output_type": "execute_result"
    }
   ],
   "source": [
    "len(df_upsampled)"
   ]
  },
  {
   "cell_type": "markdown",
   "metadata": {},
   "source": [
    "### Random Froest"
   ]
  },
  {
   "cell_type": "markdown",
   "metadata": {},
   "source": [
    "validation set"
   ]
  },
  {
   "cell_type": "code",
   "execution_count": 19,
   "metadata": {},
   "outputs": [],
   "source": [
    "y = df_upsampled['target']\n",
    "df = df_upsampled[features]"
   ]
  },
  {
   "cell_type": "code",
   "execution_count": null,
   "metadata": {},
   "outputs": [],
   "source": [
    "df = train[features]\n",
    "y = train ['target']"
   ]
  },
  {
   "cell_type": "code",
   "execution_count": 21,
   "metadata": {},
   "outputs": [
    {
     "name": "stdout",
     "output_type": "stream",
     "text": [
      "(287843, 200) (287843,)\n",
      "(71961, 200) (71961,)\n"
     ]
    }
   ],
   "source": [
    "X_train, X_valid, y_train, y_valid = train_test_split(df, y, test_size=0.2)\n",
    "print(X_train.shape, y_train.shape)\n",
    "print(X_valid.shape, y_valid.shape)"
   ]
  },
  {
   "cell_type": "code",
   "execution_count": 22,
   "metadata": {},
   "outputs": [],
   "source": [
    "# print rmse for train and validation set, r2 for train and validation set and oob score if there is one calculated\n",
    "def print_score(m):\n",
    "    res = [ metrics.roc_auc_score(m.predict(X_train), y_train),  metrics.roc_auc_score(m.predict(X_valid), y_valid),\n",
    "                m.score(X_train, y_train), m.score(X_valid, y_valid)]\n",
    "    if hasattr(m, 'oob_score_'): res.append(m.oob_score_)\n",
    "    print(res)"
   ]
  },
  {
   "cell_type": "code",
   "execution_count": 23,
   "metadata": {},
   "outputs": [
    {
     "name": "stderr",
     "output_type": "stream",
     "text": [
      "C:\\Users\\Agata\\Anaconda3\\envs\\fastai\\lib\\site-packages\\sklearn\\ensemble\\forest.py:246: FutureWarning: The default value of n_estimators will change from 10 in version 0.20 to 100 in 0.22.\n",
      "  \"10 in version 0.20 to 100 in 0.22.\", FutureWarning)\n"
     ]
    },
    {
     "name": "stdout",
     "output_type": "stream",
     "text": [
      "[0.9999513354271151, 0.9967187020245944, 0.9999513623746278, 0.9967204457970289]\n"
     ]
    }
   ],
   "source": [
    "m = RandomForestClassifier(n_jobs=-1)\n",
    "m.fit(X_train, y_train)\n",
    "print_score(m)"
   ]
  },
  {
   "cell_type": "markdown",
   "metadata": {},
   "source": [
    "### bayesian optimisation for random forest"
   ]
  },
  {
   "cell_type": "code",
   "execution_count": 24,
   "metadata": {},
   "outputs": [],
   "source": [
    "def RF_bayesian(\n",
    "    min_samples_leaf, \n",
    "    max_features):\n",
    "    \n",
    "    param = {\n",
    "        'n_estimators': 50, \n",
    "        'min_samples_leaf': int(min_samples_leaf), \n",
    "        'max_features': int(max_features),\n",
    "        'n_jobs': -1,\n",
    "        'class_weight': 'balanced'\n",
    "    }  \n",
    "    #assert type(min_samples_leaf) == int\n",
    "    #assert type(max_features) == int\n",
    "    \n",
    "    \n",
    "    m = RandomForestClassifier(**param)   \n",
    "    m.fit(X_train, y_train)\n",
    "\n",
    "    score = metrics.roc_auc_score(m.predict(X_valid), y_valid)\n",
    "    return score"
   ]
  },
  {
   "cell_type": "code",
   "execution_count": 121,
   "metadata": {},
   "outputs": [
    {
     "data": {
      "text/plain": [
       "200"
      ]
     },
     "execution_count": 121,
     "metadata": {},
     "output_type": "execute_result"
    }
   ],
   "source": [
    "import math\n",
    "math.sqrt(len(features))\n",
    "math.log2(len(features))\n",
    "len(features)"
   ]
  },
  {
   "cell_type": "code",
   "execution_count": 25,
   "metadata": {},
   "outputs": [],
   "source": [
    "bounds_RF = {\n",
    "    #'n_estimators':n_estimators, \n",
    "    'min_samples_leaf': (5,50), \n",
    "    'max_features': (5,100)\n",
    "}"
   ]
  },
  {
   "cell_type": "code",
   "execution_count": 26,
   "metadata": {},
   "outputs": [],
   "source": [
    "# BayesianOptimization object\n",
    "RF_BO = BayesianOptimization(RF_bayesian, bounds_RF, random_state=13)"
   ]
  },
  {
   "cell_type": "code",
   "execution_count": 27,
   "metadata": {},
   "outputs": [
    {
     "name": "stdout",
     "output_type": "stream",
     "text": [
      "['max_features', 'min_samples_leaf']\n"
     ]
    }
   ],
   "source": [
    "print(RF_BO.space.keys)"
   ]
  },
  {
   "cell_type": "code",
   "execution_count": 28,
   "metadata": {},
   "outputs": [],
   "source": [
    "init_points = 5\n",
    "n_iter = 5"
   ]
  },
  {
   "cell_type": "code",
   "execution_count": 29,
   "metadata": {},
   "outputs": [
    {
     "name": "stdout",
     "output_type": "stream",
     "text": [
      "----------------------------------------------------------------------------------------------------------------------------------\n",
      "|   iter    |  target   | max_fe... | min_sa... |\n",
      "-------------------------------------------------\n",
      "| \u001b[0m 1       \u001b[0m | \u001b[0m 0.9817  \u001b[0m | \u001b[0m 78.88   \u001b[0m | \u001b[0m 15.69   \u001b[0m |\n",
      "| \u001b[0m 2       \u001b[0m | \u001b[0m 0.9306  \u001b[0m | \u001b[0m 83.31   \u001b[0m | \u001b[0m 48.46   \u001b[0m |\n",
      "| \u001b[0m 3       \u001b[0m | \u001b[0m 0.9655  \u001b[0m | \u001b[0m 97.4    \u001b[0m | \u001b[0m 25.41   \u001b[0m |\n",
      "| \u001b[0m 4       \u001b[0m | \u001b[0m 0.9446  \u001b[0m | \u001b[0m 62.86   \u001b[0m | \u001b[0m 39.9    \u001b[0m |\n",
      "| \u001b[0m 5       \u001b[0m | \u001b[0m 0.9467  \u001b[0m | \u001b[0m 65.95   \u001b[0m | \u001b[0m 37.49   \u001b[0m |\n",
      "| \u001b[95m 6       \u001b[0m | \u001b[95m 0.9977  \u001b[0m | \u001b[95m 5.3     \u001b[0m | \u001b[95m 5.146   \u001b[0m |\n",
      "| \u001b[0m 7       \u001b[0m | \u001b[0m 0.9959  \u001b[0m | \u001b[0m 51.4    \u001b[0m | \u001b[0m 5.008   \u001b[0m |\n",
      "| \u001b[0m 8       \u001b[0m | \u001b[0m 0.9949  \u001b[0m | \u001b[0m 99.31   \u001b[0m | \u001b[0m 5.003   \u001b[0m |\n",
      "| \u001b[0m 9       \u001b[0m | \u001b[0m 0.9975  \u001b[0m | \u001b[0m 5.298   \u001b[0m | \u001b[0m 5.004   \u001b[0m |\n",
      "| \u001b[0m 10      \u001b[0m | \u001b[0m 0.9976  \u001b[0m | \u001b[0m 5.73    \u001b[0m | \u001b[0m 5.001   \u001b[0m |\n",
      "=================================================\n"
     ]
    }
   ],
   "source": [
    "print('-' * 130)\n",
    "\n",
    "with warnings.catch_warnings():\n",
    "    warnings.filterwarnings('ignore')\n",
    "    RF_BO.maximize(init_points=init_points, n_iter=n_iter, acq='ucb', xi=0.0, alpha=1e-6)"
   ]
  },
  {
   "cell_type": "markdown",
   "metadata": {},
   "source": [
    "### RF using LGB library\n"
   ]
  },
  {
   "cell_type": "code",
   "execution_count": 10,
   "metadata": {},
   "outputs": [],
   "source": [
    "df = train[features]\n",
    "y = train ['target']"
   ]
  },
  {
   "cell_type": "code",
   "execution_count": 11,
   "metadata": {},
   "outputs": [],
   "source": [
    "bayesian_tr_index, bayesian_val_index  = list(StratifiedKFold(n_splits=2, shuffle=True, random_state=1).split(train, target))[0]"
   ]
  },
  {
   "cell_type": "code",
   "execution_count": 35,
   "metadata": {},
   "outputs": [],
   "source": [
    "def RF_bayesian2(\n",
    "    num_leaves,\n",
    "    colsample_bytree,\n",
    "    min_child_weight,\n",
    "    reg_alpha,\n",
    "    min_child_samples, \n",
    "    feature_fraction,\n",
    "    reg_lambda):\n",
    "    \n",
    "    param = {\n",
    "        'boosting_type':\"rf\",\n",
    "        'objective': 'binary',\n",
    "        'metric': 'auc',\n",
    "        'num_leaves': int(num_leaves),\n",
    "        #colsample_bytree - a fraction of features to consider when fitting a tree\n",
    "        'colsample_bytree': int(colsample_bytree),\n",
    "        'n_estimators':100,\n",
    "        'min_child_weight': min_child_weight , # minimal sum hessian in one leaf, regularisation parameter\n",
    "        'min_child_samples': int(min_child_samples), # specifies the minimum samples per leaf node\n",
    "        #bagging_fraction,  default =1.0,  type = double,  aliases:sub_row,subsample,bagging,  \n",
    "        #con-straints:0.0 < bagging_fraction <= 1.0\n",
    "        #–like feature_fraction, but this will randomly select part of data without resampling\n",
    "        #–can be used to speed up training–can be used to deal with over-fitting–  ]\n",
    "        #Note: to enable bagging,bagging_freqshould be set to a non zero value as well\n",
    "         'subsample':.632, # Standard RF bagging fraction\n",
    "        #bagging_freq, default =0, type = int, aliases:subsample_freq–frequency for bagging\n",
    "         'subsample_freq':1,\n",
    "         'min_split_gain':0,\n",
    "         'reg_alpha':reg_alpha, # Hard L1 regularization =lambda_l1\n",
    "         'reg_lambda':reg_lambda, #lambda_l2\n",
    "         'n_jobs':-1,\n",
    "         'is_unbalance': True,\n",
    "         'feature_fraction': feature_fraction\n",
    "    }  \n",
    "    \n",
    "    xg_train = lgb.Dataset(train.iloc[bayesian_tr_index][features].values,\n",
    "                           #label=train.iloc[bayesian_tr_index]['target'].values,\n",
    "                           label=target.iloc[bayesian_tr_index].values,\n",
    "                           feature_name=features,\n",
    "                           free_raw_data = False\n",
    "                           )\n",
    "    xg_valid = lgb.Dataset(train.iloc[bayesian_val_index][features].values,\n",
    "                           label=train.iloc[bayesian_val_index]['target'].values,\n",
    "                           feature_name=features,\n",
    "                           free_raw_data = False\n",
    "                           )   \n",
    "\n",
    "    #xg_train, num_round, valid_sets = [xg_valid], verbose_eval=250, early_stopping_rounds = 50\n",
    "    num_round = 5000\n",
    "    clf = lgb.train(param, xg_train, num_round, valid_sets = [xg_valid], verbose_eval=250, early_stopping_rounds = 50)\n",
    "    \n",
    "    #num_iteration\n",
    "    predictions = clf.predict(train.iloc[bayesian_val_index][features].values, num_iteration=clf.best_iteration)   \n",
    "    \n",
    "    score = metrics.roc_auc_score(train.iloc[bayesian_val_index]['target'].values, predictions)\n",
    "    \n",
    "    return score"
   ]
  },
  {
   "cell_type": "code",
   "execution_count": 37,
   "metadata": {},
   "outputs": [],
   "source": [
    "bounds_RF = {\n",
    "    'num_leaves': (20, 50), #  Maximum  tree  leaves  for  baselearners, default=31\n",
    "    'colsample_bytree': (0.6, 0.85), # colsample_bytree - a fraction of features to consider when fitting a tree\n",
    "    'min_child_weight': (0.001, 25), # minimal sum hessian in one leaf\n",
    "    'reg_alpha': (0, 0.7),\n",
    "    'reg_lambda': (0, 0.5),\n",
    "    'min_child_samples': (30, 100), # specifies the minimum samples per leaf node\n",
    "    'feature_fraction': (0.2, 0.5) #feature sub-sampling\n",
    "}"
   ]
  },
  {
   "cell_type": "code",
   "execution_count": 38,
   "metadata": {},
   "outputs": [],
   "source": [
    "# BayesianOptimization object\n",
    "RF_BO = BayesianOptimization(RF_bayesian2, bounds_RF)"
   ]
  },
  {
   "cell_type": "code",
   "execution_count": 39,
   "metadata": {},
   "outputs": [
    {
     "name": "stdout",
     "output_type": "stream",
     "text": [
      "['colsample_bytree', 'feature_fraction', 'min_child_samples', 'min_child_weight', 'num_leaves', 'reg_alpha', 'reg_lambda']\n"
     ]
    }
   ],
   "source": [
    "print(RF_BO.space.keys)"
   ]
  },
  {
   "cell_type": "code",
   "execution_count": 40,
   "metadata": {},
   "outputs": [],
   "source": [
    "init_points = 5\n",
    "n_iter = 100"
   ]
  },
  {
   "cell_type": "code",
   "execution_count": 41,
   "metadata": {},
   "outputs": [
    {
     "name": "stdout",
     "output_type": "stream",
     "text": [
      "----------------------------------------------------------------------------------------------------------------------------------\n",
      "|   iter    |  target   | colsam... | featur... | min_ch... | min_ch... | num_le... | reg_alpha | reg_la... |\n",
      "-------------------------------------------------------------------------------------------------------------\n",
      "Training until validation scores don't improve for 50 rounds.\n",
      "Did not meet early stopping. Best iteration is:\n",
      "[100]\tvalid_0's auc: 0.816161\n",
      "| \u001b[0m 1       \u001b[0m | \u001b[0m 0.8162  \u001b[0m | \u001b[0m 0.8219  \u001b[0m | \u001b[0m 0.2355  \u001b[0m | \u001b[0m 75.99   \u001b[0m | \u001b[0m 23.85   \u001b[0m | \u001b[0m 31.33   \u001b[0m | \u001b[0m 0.09803 \u001b[0m | \u001b[0m 0.09443 \u001b[0m |\n",
      "Training until validation scores don't improve for 50 rounds.\n",
      "Did not meet early stopping. Best iteration is:\n",
      "[100]\tvalid_0's auc: 0.803621\n",
      "| \u001b[0m 2       \u001b[0m | \u001b[0m 0.8036  \u001b[0m | \u001b[0m 0.6901  \u001b[0m | \u001b[0m 0.3238  \u001b[0m | \u001b[0m 88.1    \u001b[0m | \u001b[0m 6.738   \u001b[0m | \u001b[0m 39.29   \u001b[0m | \u001b[0m 0.2694  \u001b[0m | \u001b[0m 0.08829 \u001b[0m |\n",
      "Training until validation scores don't improve for 50 rounds.\n",
      "Did not meet early stopping. Best iteration is:\n",
      "[100]\tvalid_0's auc: 0.812335\n",
      "| \u001b[0m 3       \u001b[0m | \u001b[0m 0.8123  \u001b[0m | \u001b[0m 0.7616  \u001b[0m | \u001b[0m 0.2531  \u001b[0m | \u001b[0m 41.56   \u001b[0m | \u001b[0m 23.03   \u001b[0m | \u001b[0m 31.19   \u001b[0m | \u001b[0m 0.35    \u001b[0m | \u001b[0m 0.2397  \u001b[0m |\n",
      "Training until validation scores don't improve for 50 rounds.\n",
      "Did not meet early stopping. Best iteration is:\n",
      "[100]\tvalid_0's auc: 0.811344\n",
      "| \u001b[0m 4       \u001b[0m | \u001b[0m 0.8113  \u001b[0m | \u001b[0m 0.6636  \u001b[0m | \u001b[0m 0.3007  \u001b[0m | \u001b[0m 81.07   \u001b[0m | \u001b[0m 6.824   \u001b[0m | \u001b[0m 44.72   \u001b[0m | \u001b[0m 0.527   \u001b[0m | \u001b[0m 0.3267  \u001b[0m |\n",
      "Training until validation scores don't improve for 50 rounds.\n",
      "Did not meet early stopping. Best iteration is:\n",
      "[100]\tvalid_0's auc: 0.818107\n",
      "| \u001b[95m 5       \u001b[0m | \u001b[95m 0.8181  \u001b[0m | \u001b[95m 0.783   \u001b[0m | \u001b[95m 0.2021  \u001b[0m | \u001b[95m 52.58   \u001b[0m | \u001b[95m 8.708   \u001b[0m | \u001b[95m 24.86   \u001b[0m | \u001b[95m 0.6305  \u001b[0m | \u001b[95m 0.3945  \u001b[0m |\n",
      "Training until validation scores don't improve for 50 rounds.\n",
      "Did not meet early stopping. Best iteration is:\n",
      "[100]\tvalid_0's auc: 0.806622\n",
      "| \u001b[0m 6       \u001b[0m | \u001b[0m 0.8066  \u001b[0m | \u001b[0m 0.6469  \u001b[0m | \u001b[0m 0.319   \u001b[0m | \u001b[0m 30.2    \u001b[0m | \u001b[0m 0.003432\u001b[0m | \u001b[0m 48.7    \u001b[0m | \u001b[0m 0.2381  \u001b[0m | \u001b[0m 0.2604  \u001b[0m |\n",
      "Training until validation scores don't improve for 50 rounds.\n",
      "Did not meet early stopping. Best iteration is:\n",
      "[98]\tvalid_0's auc: 0.790287\n",
      "| \u001b[0m 7       \u001b[0m | \u001b[0m 0.7903  \u001b[0m | \u001b[0m 0.6542  \u001b[0m | \u001b[0m 0.4303  \u001b[0m | \u001b[0m 57.72   \u001b[0m | \u001b[0m 24.92   \u001b[0m | \u001b[0m 49.6    \u001b[0m | \u001b[0m 0.6722  \u001b[0m | \u001b[0m 0.4887  \u001b[0m |\n",
      "Training until validation scores don't improve for 50 rounds.\n",
      "Did not meet early stopping. Best iteration is:\n",
      "[100]\tvalid_0's auc: 0.771574\n",
      "| \u001b[0m 8       \u001b[0m | \u001b[0m 0.7716  \u001b[0m | \u001b[0m 0.7363  \u001b[0m | \u001b[0m 0.3752  \u001b[0m | \u001b[0m 30.1    \u001b[0m | \u001b[0m 0.7254  \u001b[0m | \u001b[0m 20.68   \u001b[0m | \u001b[0m 0.485   \u001b[0m | \u001b[0m 0.4256  \u001b[0m |\n",
      "Training until validation scores don't improve for 50 rounds.\n",
      "Did not meet early stopping. Best iteration is:\n",
      "[99]\tvalid_0's auc: 0.761245\n",
      "| \u001b[0m 9       \u001b[0m | \u001b[0m 0.7612  \u001b[0m | \u001b[0m 0.6874  \u001b[0m | \u001b[0m 0.4501  \u001b[0m | \u001b[0m 62.15   \u001b[0m | \u001b[0m 24.91   \u001b[0m | \u001b[0m 20.35   \u001b[0m | \u001b[0m 0.6284  \u001b[0m | \u001b[0m 0.09737 \u001b[0m |\n",
      "Training until validation scores don't improve for 50 rounds.\n",
      "Did not meet early stopping. Best iteration is:\n",
      "[100]\tvalid_0's auc: 0.834216\n",
      "| \u001b[95m 10      \u001b[0m | \u001b[95m 0.8342  \u001b[0m | \u001b[95m 0.85    \u001b[0m | \u001b[95m 0.2     \u001b[0m | \u001b[95m 100.0   \u001b[0m | \u001b[95m 25.0    \u001b[0m | \u001b[95m 50.0    \u001b[0m | \u001b[95m 0.0     \u001b[0m | \u001b[95m 0.5     \u001b[0m |\n",
      "Training until validation scores don't improve for 50 rounds.\n",
      "Did not meet early stopping. Best iteration is:\n",
      "[100]\tvalid_0's auc: 0.813941\n",
      "| \u001b[0m 11      \u001b[0m | \u001b[0m 0.8139  \u001b[0m | \u001b[0m 0.85    \u001b[0m | \u001b[0m 0.2     \u001b[0m | \u001b[0m 100.0   \u001b[0m | \u001b[0m 25.0    \u001b[0m | \u001b[0m 20.0    \u001b[0m | \u001b[0m 0.0     \u001b[0m | \u001b[0m 0.5     \u001b[0m |\n",
      "Training until validation scores don't improve for 50 rounds.\n",
      "Did not meet early stopping. Best iteration is:\n",
      "[100]\tvalid_0's auc: 0.80062\n",
      "| \u001b[0m 12      \u001b[0m | \u001b[0m 0.8006  \u001b[0m | \u001b[0m 0.6857  \u001b[0m | \u001b[0m 0.3347  \u001b[0m | \u001b[0m 51.36   \u001b[0m | \u001b[0m 0.1123  \u001b[0m | \u001b[0m 39.84   \u001b[0m | \u001b[0m 0.04988 \u001b[0m | \u001b[0m 0.1071  \u001b[0m |\n",
      "Training until validation scores don't improve for 50 rounds.\n",
      "Did not meet early stopping. Best iteration is:\n",
      "[100]\tvalid_0's auc: 0.829434\n",
      "| \u001b[0m 13      \u001b[0m | \u001b[0m 0.8294  \u001b[0m | \u001b[0m 0.85    \u001b[0m | \u001b[0m 0.2     \u001b[0m | \u001b[0m 30.0    \u001b[0m | \u001b[0m 25.0    \u001b[0m | \u001b[0m 50.0    \u001b[0m | \u001b[0m 0.0     \u001b[0m | \u001b[0m 0.5     \u001b[0m |\n",
      "Training until validation scores don't improve for 50 rounds.\n",
      "Did not meet early stopping. Best iteration is:\n",
      "[100]\tvalid_0's auc: 0.814959\n",
      "| \u001b[0m 14      \u001b[0m | \u001b[0m 0.815   \u001b[0m | \u001b[0m 0.6935  \u001b[0m | \u001b[0m 0.2659  \u001b[0m | \u001b[0m 30.25   \u001b[0m | \u001b[0m 12.57   \u001b[0m | \u001b[0m 40.49   \u001b[0m | \u001b[0m 0.6618  \u001b[0m | \u001b[0m 0.4563  \u001b[0m |\n",
      "Training until validation scores don't improve for 50 rounds.\n",
      "Did not meet early stopping. Best iteration is:\n",
      "[100]\tvalid_0's auc: 0.808747\n",
      "| \u001b[0m 15      \u001b[0m | \u001b[0m 0.8087  \u001b[0m | \u001b[0m 0.7754  \u001b[0m | \u001b[0m 0.2147  \u001b[0m | \u001b[0m 72.18   \u001b[0m | \u001b[0m 0.005558\u001b[0m | \u001b[0m 20.3    \u001b[0m | \u001b[0m 0.2106  \u001b[0m | \u001b[0m 0.3674  \u001b[0m |\n",
      "Training until validation scores don't improve for 50 rounds.\n",
      "Did not meet early stopping. Best iteration is:\n",
      "[100]\tvalid_0's auc: 0.791134\n",
      "| \u001b[0m 16      \u001b[0m | \u001b[0m 0.7911  \u001b[0m | \u001b[0m 0.6815  \u001b[0m | \u001b[0m 0.3742  \u001b[0m | \u001b[0m 99.93   \u001b[0m | \u001b[0m 24.85   \u001b[0m | \u001b[0m 36.94   \u001b[0m | \u001b[0m 0.6583  \u001b[0m | \u001b[0m 0.3571  \u001b[0m |\n",
      "Training until validation scores don't improve for 50 rounds.\n",
      "Did not meet early stopping. Best iteration is:\n",
      "[100]\tvalid_0's auc: 0.813941\n",
      "| \u001b[0m 17      \u001b[0m | \u001b[0m 0.8139  \u001b[0m | \u001b[0m 0.85    \u001b[0m | \u001b[0m 0.2     \u001b[0m | \u001b[0m 100.0   \u001b[0m | \u001b[0m 0.2833  \u001b[0m | \u001b[0m 20.0    \u001b[0m | \u001b[0m 0.0     \u001b[0m | \u001b[0m 0.5     \u001b[0m |\n",
      "Training until validation scores don't improve for 50 rounds.\n",
      "Did not meet early stopping. Best iteration is:\n",
      "[100]\tvalid_0's auc: 0.820192\n",
      "| \u001b[0m 18      \u001b[0m | \u001b[0m 0.8202  \u001b[0m | \u001b[0m 0.8032  \u001b[0m | \u001b[0m 0.2704  \u001b[0m | \u001b[0m 99.93   \u001b[0m | \u001b[0m 1.007   \u001b[0m | \u001b[0m 49.66   \u001b[0m | \u001b[0m 0.1744  \u001b[0m | \u001b[0m 0.208   \u001b[0m |\n",
      "Training until validation scores don't improve for 50 rounds.\n",
      "Did not meet early stopping. Best iteration is:\n",
      "[100]\tvalid_0's auc: 0.812454\n",
      "| \u001b[0m 19      \u001b[0m | \u001b[0m 0.8125  \u001b[0m | \u001b[0m 0.8099  \u001b[0m | \u001b[0m 0.3086  \u001b[0m | \u001b[0m 84.61   \u001b[0m | \u001b[0m 24.24   \u001b[0m | \u001b[0m 50.0    \u001b[0m | \u001b[0m 0.04876 \u001b[0m | \u001b[0m 0.03302 \u001b[0m |\n",
      "Training until validation scores don't improve for 50 rounds.\n",
      "Did not meet early stopping. Best iteration is:\n",
      "[100]\tvalid_0's auc: 0.77723\n",
      "| \u001b[0m 20      \u001b[0m | \u001b[0m 0.7772  \u001b[0m | \u001b[0m 0.7869  \u001b[0m | \u001b[0m 0.3462  \u001b[0m | \u001b[0m 30.11   \u001b[0m | \u001b[0m 23.54   \u001b[0m | \u001b[0m 20.33   \u001b[0m | \u001b[0m 0.175   \u001b[0m | \u001b[0m 0.07082 \u001b[0m |\n",
      "Training until validation scores don't improve for 50 rounds.\n",
      "Did not meet early stopping. Best iteration is:\n",
      "[99]\tvalid_0's auc: 0.793812\n",
      "| \u001b[0m 21      \u001b[0m | \u001b[0m 0.7938  \u001b[0m | \u001b[0m 0.6438  \u001b[0m | \u001b[0m 0.4164  \u001b[0m | \u001b[0m 99.92   \u001b[0m | \u001b[0m 11.97   \u001b[0m | \u001b[0m 49.98   \u001b[0m | \u001b[0m 0.08075 \u001b[0m | \u001b[0m 0.4291  \u001b[0m |\n",
      "Training until validation scores don't improve for 50 rounds.\n",
      "Did not meet early stopping. Best iteration is:\n",
      "[100]\tvalid_0's auc: 0.824782\n",
      "| \u001b[0m 22      \u001b[0m | \u001b[0m 0.8248  \u001b[0m | \u001b[0m 0.6656  \u001b[0m | \u001b[0m 0.2     \u001b[0m | \u001b[0m 66.42   \u001b[0m | \u001b[0m 9.582   \u001b[0m | \u001b[0m 34.18   \u001b[0m | \u001b[0m 0.0     \u001b[0m | \u001b[0m 0.0     \u001b[0m |\n",
      "Training until validation scores don't improve for 50 rounds.\n",
      "Did not meet early stopping. Best iteration is:\n",
      "[100]\tvalid_0's auc: 0.825739\n",
      "| \u001b[0m 23      \u001b[0m | \u001b[0m 0.8257  \u001b[0m | \u001b[0m 0.7687  \u001b[0m | \u001b[0m 0.2389  \u001b[0m | \u001b[0m 77.0    \u001b[0m | \u001b[0m 0.1393  \u001b[0m | \u001b[0m 49.19   \u001b[0m | \u001b[0m 0.02405 \u001b[0m | \u001b[0m 0.1741  \u001b[0m |\n",
      "Training until validation scores don't improve for 50 rounds.\n",
      "Did not meet early stopping. Best iteration is:\n",
      "[100]\tvalid_0's auc: 0.792346\n",
      "| \u001b[0m 24      \u001b[0m | \u001b[0m 0.7923  \u001b[0m | \u001b[0m 0.8459  \u001b[0m | \u001b[0m 0.3489  \u001b[0m | \u001b[0m 75.51   \u001b[0m | \u001b[0m 0.009345\u001b[0m | \u001b[0m 32.15   \u001b[0m | \u001b[0m 0.0436  \u001b[0m | \u001b[0m 0.4488  \u001b[0m |\n",
      "Training until validation scores don't improve for 50 rounds.\n",
      "Did not meet early stopping. Best iteration is:\n",
      "[100]\tvalid_0's auc: 0.802368\n"
     ]
    },
    {
     "name": "stdout",
     "output_type": "stream",
     "text": [
      "| \u001b[0m 25      \u001b[0m | \u001b[0m 0.8024  \u001b[0m | \u001b[0m 0.7626  \u001b[0m | \u001b[0m 0.349   \u001b[0m | \u001b[0m 44.05   \u001b[0m | \u001b[0m 13.76   \u001b[0m | \u001b[0m 49.95   \u001b[0m | \u001b[0m 0.02139 \u001b[0m | \u001b[0m 0.1982  \u001b[0m |\n",
      "Training until validation scores don't improve for 50 rounds.\n",
      "Did not meet early stopping. Best iteration is:\n",
      "[100]\tvalid_0's auc: 0.807313\n",
      "| \u001b[0m 26      \u001b[0m | \u001b[0m 0.8073  \u001b[0m | \u001b[0m 0.7286  \u001b[0m | \u001b[0m 0.2288  \u001b[0m | \u001b[0m 86.04   \u001b[0m | \u001b[0m 14.2    \u001b[0m | \u001b[0m 20.52   \u001b[0m | \u001b[0m 0.1418  \u001b[0m | \u001b[0m 0.0183  \u001b[0m |\n",
      "Training until validation scores don't improve for 50 rounds.\n",
      "Did not meet early stopping. Best iteration is:\n",
      "[100]\tvalid_0's auc: 0.814368\n",
      "| \u001b[0m 27      \u001b[0m | \u001b[0m 0.8144  \u001b[0m | \u001b[0m 0.6718  \u001b[0m | \u001b[0m 0.2644  \u001b[0m | \u001b[0m 30.14   \u001b[0m | \u001b[0m 24.95   \u001b[0m | \u001b[0m 38.92   \u001b[0m | \u001b[0m 0.6253  \u001b[0m | \u001b[0m 0.08536 \u001b[0m |\n",
      "Training until validation scores don't improve for 50 rounds.\n",
      "Did not meet early stopping. Best iteration is:\n",
      "[100]\tvalid_0's auc: 0.822637\n",
      "| \u001b[0m 28      \u001b[0m | \u001b[0m 0.8226  \u001b[0m | \u001b[0m 0.7235  \u001b[0m | \u001b[0m 0.258   \u001b[0m | \u001b[0m 87.31   \u001b[0m | \u001b[0m 0.1731  \u001b[0m | \u001b[0m 49.84   \u001b[0m | \u001b[0m 0.01054 \u001b[0m | \u001b[0m 0.222   \u001b[0m |\n",
      "Training until validation scores don't improve for 50 rounds.\n",
      "Did not meet early stopping. Best iteration is:\n",
      "[100]\tvalid_0's auc: 0.807303\n",
      "| \u001b[0m 29      \u001b[0m | \u001b[0m 0.8073  \u001b[0m | \u001b[0m 0.7562  \u001b[0m | \u001b[0m 0.2308  \u001b[0m | \u001b[0m 50.12   \u001b[0m | \u001b[0m 0.3733  \u001b[0m | \u001b[0m 21.01   \u001b[0m | \u001b[0m 0.07592 \u001b[0m | \u001b[0m 0.01103 \u001b[0m |\n",
      "Training until validation scores don't improve for 50 rounds.\n",
      "Did not meet early stopping. Best iteration is:\n",
      "[100]\tvalid_0's auc: 0.834229\n",
      "| \u001b[95m 30      \u001b[0m | \u001b[95m 0.8342  \u001b[0m | \u001b[95m 0.85    \u001b[0m | \u001b[95m 0.2     \u001b[0m | \u001b[95m 100.0   \u001b[0m | \u001b[95m 25.0    \u001b[0m | \u001b[95m 50.0    \u001b[0m | \u001b[95m 0.7     \u001b[0m | \u001b[95m 3.165e-0\u001b[0m |\n",
      "Training until validation scores don't improve for 50 rounds.\n",
      "Did not meet early stopping. Best iteration is:\n",
      "[100]\tvalid_0's auc: 0.821024\n",
      "| \u001b[0m 31      \u001b[0m | \u001b[0m 0.821   \u001b[0m | \u001b[0m 0.7685  \u001b[0m | \u001b[0m 0.2101  \u001b[0m | \u001b[0m 54.33   \u001b[0m | \u001b[0m 16.8    \u001b[0m | \u001b[0m 35.59   \u001b[0m | \u001b[0m 0.08358 \u001b[0m | \u001b[0m 0.007336\u001b[0m |\n",
      "Training until validation scores don't improve for 50 rounds.\n",
      "Did not meet early stopping. Best iteration is:\n",
      "[100]\tvalid_0's auc: 0.827762\n",
      "| \u001b[0m 32      \u001b[0m | \u001b[0m 0.8278  \u001b[0m | \u001b[0m 0.8295  \u001b[0m | \u001b[0m 0.223   \u001b[0m | \u001b[0m 65.85   \u001b[0m | \u001b[0m 7.299   \u001b[0m | \u001b[0m 49.99   \u001b[0m | \u001b[0m 0.1749  \u001b[0m | \u001b[0m 0.1015  \u001b[0m |\n",
      "Training until validation scores don't improve for 50 rounds.\n",
      "Did not meet early stopping. Best iteration is:\n",
      "[100]\tvalid_0's auc: 0.80605\n",
      "| \u001b[0m 33      \u001b[0m | \u001b[0m 0.8061  \u001b[0m | \u001b[0m 0.7576  \u001b[0m | \u001b[0m 0.3284  \u001b[0m | \u001b[0m 30.15   \u001b[0m | \u001b[0m 12.56   \u001b[0m | \u001b[0m 49.71   \u001b[0m | \u001b[0m 0.6463  \u001b[0m | \u001b[0m 0.002658\u001b[0m |\n",
      "Training until validation scores don't improve for 50 rounds.\n",
      "Did not meet early stopping. Best iteration is:\n",
      "[100]\tvalid_0's auc: 0.817716\n",
      "| \u001b[0m 34      \u001b[0m | \u001b[0m 0.8177  \u001b[0m | \u001b[0m 0.7308  \u001b[0m | \u001b[0m 0.2133  \u001b[0m | \u001b[0m 36.18   \u001b[0m | \u001b[0m 11.71   \u001b[0m | \u001b[0m 31.57   \u001b[0m | \u001b[0m 0.05286 \u001b[0m | \u001b[0m 0.05834 \u001b[0m |\n",
      "Training until validation scores don't improve for 50 rounds.\n",
      "Did not meet early stopping. Best iteration is:\n",
      "[100]\tvalid_0's auc: 0.827983\n",
      "| \u001b[0m 35      \u001b[0m | \u001b[0m 0.828   \u001b[0m | \u001b[0m 0.8064  \u001b[0m | \u001b[0m 0.2061  \u001b[0m | \u001b[0m 71.08   \u001b[0m | \u001b[0m 17.65   \u001b[0m | \u001b[0m 43.21   \u001b[0m | \u001b[0m 0.08042 \u001b[0m | \u001b[0m 0.07738 \u001b[0m |\n",
      "Training until validation scores don't improve for 50 rounds.\n",
      "Did not meet early stopping. Best iteration is:\n",
      "[100]\tvalid_0's auc: 0.832008\n",
      "| \u001b[0m 36      \u001b[0m | \u001b[0m 0.832   \u001b[0m | \u001b[0m 0.85    \u001b[0m | \u001b[0m 0.2     \u001b[0m | \u001b[0m 60.86   \u001b[0m | \u001b[0m 0.001   \u001b[0m | \u001b[0m 50.0    \u001b[0m | \u001b[0m 0.0     \u001b[0m | \u001b[0m 0.5     \u001b[0m |\n",
      "Training until validation scores don't improve for 50 rounds.\n",
      "Did not meet early stopping. Best iteration is:\n",
      "[100]\tvalid_0's auc: 0.824605\n",
      "| \u001b[0m 37      \u001b[0m | \u001b[0m 0.8246  \u001b[0m | \u001b[0m 0.8164  \u001b[0m | \u001b[0m 0.2056  \u001b[0m | \u001b[0m 65.79   \u001b[0m | \u001b[0m 17.45   \u001b[0m | \u001b[0m 36.41   \u001b[0m | \u001b[0m 0.2588  \u001b[0m | \u001b[0m 0.4338  \u001b[0m |\n",
      "Training until validation scores don't improve for 50 rounds.\n",
      "Did not meet early stopping. Best iteration is:\n",
      "[100]\tvalid_0's auc: 0.828725\n",
      "| \u001b[0m 38      \u001b[0m | \u001b[0m 0.8287  \u001b[0m | \u001b[0m 0.7219  \u001b[0m | \u001b[0m 0.2109  \u001b[0m | \u001b[0m 68.21   \u001b[0m | \u001b[0m 0.5886  \u001b[0m | \u001b[0m 49.96   \u001b[0m | \u001b[0m 0.6819  \u001b[0m | \u001b[0m 0.04148 \u001b[0m |\n",
      "Training until validation scores don't improve for 50 rounds.\n",
      "Did not meet early stopping. Best iteration is:\n",
      "[100]\tvalid_0's auc: 0.806357\n",
      "| \u001b[0m 39      \u001b[0m | \u001b[0m 0.8064  \u001b[0m | \u001b[0m 0.8394  \u001b[0m | \u001b[0m 0.2314  \u001b[0m | \u001b[0m 65.84   \u001b[0m | \u001b[0m 10.26   \u001b[0m | \u001b[0m 20.26   \u001b[0m | \u001b[0m 0.1289  \u001b[0m | \u001b[0m 0.2116  \u001b[0m |\n",
      "Training until validation scores don't improve for 50 rounds.\n",
      "Did not meet early stopping. Best iteration is:\n",
      "[100]\tvalid_0's auc: 0.824187\n",
      "| \u001b[0m 40      \u001b[0m | \u001b[0m 0.8242  \u001b[0m | \u001b[0m 0.8146  \u001b[0m | \u001b[0m 0.2093  \u001b[0m | \u001b[0m 76.31   \u001b[0m | \u001b[0m 15.18   \u001b[0m | \u001b[0m 35.61   \u001b[0m | \u001b[0m 0.01334 \u001b[0m | \u001b[0m 0.1866  \u001b[0m |\n",
      "Training until validation scores don't improve for 50 rounds.\n",
      "Did not meet early stopping. Best iteration is:\n",
      "[100]\tvalid_0's auc: 0.807248\n",
      "| \u001b[0m 41      \u001b[0m | \u001b[0m 0.8072  \u001b[0m | \u001b[0m 0.6736  \u001b[0m | \u001b[0m 0.3271  \u001b[0m | \u001b[0m 67.63   \u001b[0m | \u001b[0m 1.338   \u001b[0m | \u001b[0m 49.99   \u001b[0m | \u001b[0m 0.08651 \u001b[0m | \u001b[0m 0.4744  \u001b[0m |\n",
      "Training until validation scores don't improve for 50 rounds.\n",
      "Did not meet early stopping. Best iteration is:\n",
      "[100]\tvalid_0's auc: 0.804983\n",
      "| \u001b[0m 42      \u001b[0m | \u001b[0m 0.805   \u001b[0m | \u001b[0m 0.85    \u001b[0m | \u001b[0m 0.3367  \u001b[0m | \u001b[0m 48.01   \u001b[0m | \u001b[0m 0.001   \u001b[0m | \u001b[0m 50.0    \u001b[0m | \u001b[0m 0.2238  \u001b[0m | \u001b[0m 0.02143 \u001b[0m |\n",
      "Training until validation scores don't improve for 50 rounds.\n",
      "Did not meet early stopping. Best iteration is:\n",
      "[100]\tvalid_0's auc: 0.824891\n",
      "| \u001b[0m 43      \u001b[0m | \u001b[0m 0.8249  \u001b[0m | \u001b[0m 0.85    \u001b[0m | \u001b[0m 0.2     \u001b[0m | \u001b[0m 30.5    \u001b[0m | \u001b[0m 0.001   \u001b[0m | \u001b[0m 37.25   \u001b[0m | \u001b[0m 0.2394  \u001b[0m | \u001b[0m 1.416e-0\u001b[0m |\n",
      "Training until validation scores don't improve for 50 rounds.\n",
      "Did not meet early stopping. Best iteration is:\n",
      "[100]\tvalid_0's auc: 0.82718\n",
      "| \u001b[0m 44      \u001b[0m | \u001b[0m 0.8272  \u001b[0m | \u001b[0m 0.8342  \u001b[0m | \u001b[0m 0.2229  \u001b[0m | \u001b[0m 57.37   \u001b[0m | \u001b[0m 5.268   \u001b[0m | \u001b[0m 47.32   \u001b[0m | \u001b[0m 0.5889  \u001b[0m | \u001b[0m 0.0368  \u001b[0m |\n",
      "Training until validation scores don't improve for 50 rounds.\n",
      "Did not meet early stopping. Best iteration is:\n",
      "[100]\tvalid_0's auc: 0.829594\n",
      "| \u001b[0m 45      \u001b[0m | \u001b[0m 0.8296  \u001b[0m | \u001b[0m 0.85    \u001b[0m | \u001b[0m 0.2     \u001b[0m | \u001b[0m 36.76   \u001b[0m | \u001b[0m 24.6    \u001b[0m | \u001b[0m 46.46   \u001b[0m | \u001b[0m 0.407   \u001b[0m | \u001b[0m 0.1361  \u001b[0m |\n",
      "Training until validation scores don't improve for 50 rounds.\n",
      "Did not meet early stopping. Best iteration is:\n",
      "[100]\tvalid_0's auc: 0.822547\n",
      "| \u001b[0m 46      \u001b[0m | \u001b[0m 0.8225  \u001b[0m | \u001b[0m 0.8465  \u001b[0m | \u001b[0m 0.2077  \u001b[0m | \u001b[0m 99.93   \u001b[0m | \u001b[0m 0.4025  \u001b[0m | \u001b[0m 31.18   \u001b[0m | \u001b[0m 0.6363  \u001b[0m | \u001b[0m 0.1418  \u001b[0m |\n",
      "Training until validation scores don't improve for 50 rounds.\n",
      "Did not meet early stopping. Best iteration is:\n",
      "[100]\tvalid_0's auc: 0.810548\n",
      "| \u001b[0m 47      \u001b[0m | \u001b[0m 0.8105  \u001b[0m | \u001b[0m 0.8461  \u001b[0m | \u001b[0m 0.2199  \u001b[0m | \u001b[0m 99.84   \u001b[0m | \u001b[0m 11.87   \u001b[0m | \u001b[0m 21.59   \u001b[0m | \u001b[0m 0.517   \u001b[0m | \u001b[0m 0.3265  \u001b[0m |\n",
      "Training until validation scores don't improve for 50 rounds.\n",
      "Did not meet early stopping. Best iteration is:\n",
      "[100]\tvalid_0's auc: 0.81113\n",
      "| \u001b[0m 48      \u001b[0m | \u001b[0m 0.8111  \u001b[0m | \u001b[0m 0.8427  \u001b[0m | \u001b[0m 0.2379  \u001b[0m | \u001b[0m 61.78   \u001b[0m | \u001b[0m 0.6503  \u001b[0m | \u001b[0m 25.08   \u001b[0m | \u001b[0m 0.4228  \u001b[0m | \u001b[0m 0.094   \u001b[0m |\n",
      "Training until validation scores don't improve for 50 rounds.\n",
      "Did not meet early stopping. Best iteration is:\n",
      "[100]\tvalid_0's auc: 0.807444\n",
      "| \u001b[0m 49      \u001b[0m | \u001b[0m 0.8074  \u001b[0m | \u001b[0m 0.7883  \u001b[0m | \u001b[0m 0.225   \u001b[0m | \u001b[0m 89.02   \u001b[0m | \u001b[0m 1.965   \u001b[0m | \u001b[0m 20.13   \u001b[0m | \u001b[0m 0.2928  \u001b[0m | \u001b[0m 0.01809 \u001b[0m |\n",
      "Training until validation scores don't improve for 50 rounds.\n",
      "Did not meet early stopping. Best iteration is:\n",
      "[100]\tvalid_0's auc: 0.830356\n",
      "| \u001b[0m 50      \u001b[0m | \u001b[0m 0.8304  \u001b[0m | \u001b[0m 0.8181  \u001b[0m | \u001b[0m 0.2072  \u001b[0m | \u001b[0m 98.41   \u001b[0m | \u001b[0m 0.08344 \u001b[0m | \u001b[0m 44.51   \u001b[0m | \u001b[0m 0.5117  \u001b[0m | \u001b[0m 0.02468 \u001b[0m |\n"
     ]
    },
    {
     "name": "stdout",
     "output_type": "stream",
     "text": [
      "Training until validation scores don't improve for 50 rounds.\n",
      "Did not meet early stopping. Best iteration is:\n",
      "[100]\tvalid_0's auc: 0.827922\n",
      "| \u001b[0m 51      \u001b[0m | \u001b[0m 0.8279  \u001b[0m | \u001b[0m 0.8144  \u001b[0m | \u001b[0m 0.2097  \u001b[0m | \u001b[0m 67.75   \u001b[0m | \u001b[0m 12.36   \u001b[0m | \u001b[0m 42.31   \u001b[0m | \u001b[0m 0.6151  \u001b[0m | \u001b[0m 0.03387 \u001b[0m |\n",
      "Training until validation scores don't improve for 50 rounds.\n",
      "Did not meet early stopping. Best iteration is:\n",
      "[100]\tvalid_0's auc: 0.828091\n",
      "| \u001b[0m 52      \u001b[0m | \u001b[0m 0.8281  \u001b[0m | \u001b[0m 0.6759  \u001b[0m | \u001b[0m 0.2216  \u001b[0m | \u001b[0m 56.72   \u001b[0m | \u001b[0m 0.3881  \u001b[0m | \u001b[0m 49.54   \u001b[0m | \u001b[0m 0.6917  \u001b[0m | \u001b[0m 0.01631 \u001b[0m |\n",
      "Training until validation scores don't improve for 50 rounds.\n",
      "Did not meet early stopping. Best iteration is:\n",
      "[100]\tvalid_0's auc: 0.832359\n",
      "| \u001b[0m 53      \u001b[0m | \u001b[0m 0.8324  \u001b[0m | \u001b[0m 0.8308  \u001b[0m | \u001b[0m 0.2025  \u001b[0m | \u001b[0m 75.11   \u001b[0m | \u001b[0m 13.9    \u001b[0m | \u001b[0m 48.68   \u001b[0m | \u001b[0m 0.3218  \u001b[0m | \u001b[0m 0.01119 \u001b[0m |\n",
      "Training until validation scores don't improve for 50 rounds.\n",
      "Did not meet early stopping. Best iteration is:\n",
      "[100]\tvalid_0's auc: 0.8292\n",
      "| \u001b[0m 54      \u001b[0m | \u001b[0m 0.8292  \u001b[0m | \u001b[0m 0.8318  \u001b[0m | \u001b[0m 0.2149  \u001b[0m | \u001b[0m 77.85   \u001b[0m | \u001b[0m 5.511   \u001b[0m | \u001b[0m 49.88   \u001b[0m | \u001b[0m 0.5637  \u001b[0m | \u001b[0m 0.08528 \u001b[0m |\n",
      "Training until validation scores don't improve for 50 rounds.\n",
      "Did not meet early stopping. Best iteration is:\n",
      "[100]\tvalid_0's auc: 0.82653\n",
      "| \u001b[0m 55      \u001b[0m | \u001b[0m 0.8265  \u001b[0m | \u001b[0m 0.7895  \u001b[0m | \u001b[0m 0.2087  \u001b[0m | \u001b[0m 99.78   \u001b[0m | \u001b[0m 0.04239 \u001b[0m | \u001b[0m 38.43   \u001b[0m | \u001b[0m 0.03059 \u001b[0m | \u001b[0m 0.1027  \u001b[0m |\n",
      "Training until validation scores don't improve for 50 rounds.\n",
      "Did not meet early stopping. Best iteration is:\n",
      "[100]\tvalid_0's auc: 0.826857\n",
      "| \u001b[0m 56      \u001b[0m | \u001b[0m 0.8269  \u001b[0m | \u001b[0m 0.8205  \u001b[0m | \u001b[0m 0.2061  \u001b[0m | \u001b[0m 47.55   \u001b[0m | \u001b[0m 24.81   \u001b[0m | \u001b[0m 44.03   \u001b[0m | \u001b[0m 0.06355 \u001b[0m | \u001b[0m 0.03427 \u001b[0m |\n",
      "Training until validation scores don't improve for 50 rounds.\n",
      "Did not meet early stopping. Best iteration is:\n",
      "[100]\tvalid_0's auc: 0.826486\n",
      "| \u001b[0m 57      \u001b[0m | \u001b[0m 0.8265  \u001b[0m | \u001b[0m 0.8119  \u001b[0m | \u001b[0m 0.2005  \u001b[0m | \u001b[0m 30.23   \u001b[0m | \u001b[0m 20.49   \u001b[0m | \u001b[0m 43.18   \u001b[0m | \u001b[0m 0.01375 \u001b[0m | \u001b[0m 0.01503 \u001b[0m |\n",
      "Training until validation scores don't improve for 50 rounds.\n",
      "Did not meet early stopping. Best iteration is:\n",
      "[100]\tvalid_0's auc: 0.825751\n",
      "| \u001b[0m 58      \u001b[0m | \u001b[0m 0.8258  \u001b[0m | \u001b[0m 0.8256  \u001b[0m | \u001b[0m 0.2382  \u001b[0m | \u001b[0m 61.82   \u001b[0m | \u001b[0m 0.4689  \u001b[0m | \u001b[0m 49.54   \u001b[0m | \u001b[0m 0.2818  \u001b[0m | \u001b[0m 0.03567 \u001b[0m |\n",
      "Training until validation scores don't improve for 50 rounds.\n",
      "Did not meet early stopping. Best iteration is:\n",
      "[100]\tvalid_0's auc: 0.831712\n",
      "| \u001b[0m 59      \u001b[0m | \u001b[0m 0.8317  \u001b[0m | \u001b[0m 0.8483  \u001b[0m | \u001b[0m 0.2002  \u001b[0m | \u001b[0m 57.63   \u001b[0m | \u001b[0m 14.9    \u001b[0m | \u001b[0m 49.5    \u001b[0m | \u001b[0m 0.1745  \u001b[0m | \u001b[0m 0.1241  \u001b[0m |\n",
      "Training until validation scores don't improve for 50 rounds.\n",
      "Did not meet early stopping. Best iteration is:\n",
      "[100]\tvalid_0's auc: 0.82772\n",
      "| \u001b[0m 60      \u001b[0m | \u001b[0m 0.8277  \u001b[0m | \u001b[0m 0.8459  \u001b[0m | \u001b[0m 0.2049  \u001b[0m | \u001b[0m 42.76   \u001b[0m | \u001b[0m 16.54   \u001b[0m | \u001b[0m 40.67   \u001b[0m | \u001b[0m 0.6897  \u001b[0m | \u001b[0m 0.11    \u001b[0m |\n",
      "Training until validation scores don't improve for 50 rounds.\n",
      "Did not meet early stopping. Best iteration is:\n",
      "[100]\tvalid_0's auc: 0.832572\n",
      "| \u001b[0m 61      \u001b[0m | \u001b[0m 0.8326  \u001b[0m | \u001b[0m 0.8176  \u001b[0m | \u001b[0m 0.2002  \u001b[0m | \u001b[0m 67.1    \u001b[0m | \u001b[0m 13.72   \u001b[0m | \u001b[0m 49.43   \u001b[0m | \u001b[0m 0.3412  \u001b[0m | \u001b[0m 0.3692  \u001b[0m |\n",
      "Training until validation scores don't improve for 50 rounds.\n",
      "Did not meet early stopping. Best iteration is:\n",
      "[100]\tvalid_0's auc: 0.821304\n",
      "| \u001b[0m 62      \u001b[0m | \u001b[0m 0.8213  \u001b[0m | \u001b[0m 0.8117  \u001b[0m | \u001b[0m 0.203   \u001b[0m | \u001b[0m 43.05   \u001b[0m | \u001b[0m 2.24    \u001b[0m | \u001b[0m 29.67   \u001b[0m | \u001b[0m 0.6297  \u001b[0m | \u001b[0m 0.02116 \u001b[0m |\n",
      "Training until validation scores don't improve for 50 rounds.\n",
      "Did not meet early stopping. Best iteration is:\n",
      "[100]\tvalid_0's auc: 0.831846\n",
      "| \u001b[0m 63      \u001b[0m | \u001b[0m 0.8318  \u001b[0m | \u001b[0m 0.8278  \u001b[0m | \u001b[0m 0.202   \u001b[0m | \u001b[0m 83.6    \u001b[0m | \u001b[0m 0.1938  \u001b[0m | \u001b[0m 45.0    \u001b[0m | \u001b[0m 0.5389  \u001b[0m | \u001b[0m 0.05072 \u001b[0m |\n",
      "Training until validation scores don't improve for 50 rounds.\n",
      "Did not meet early stopping. Best iteration is:\n",
      "[100]\tvalid_0's auc: 0.826129\n",
      "| \u001b[0m 64      \u001b[0m | \u001b[0m 0.8261  \u001b[0m | \u001b[0m 0.8276  \u001b[0m | \u001b[0m 0.2076  \u001b[0m | \u001b[0m 37.93   \u001b[0m | \u001b[0m 22.34   \u001b[0m | \u001b[0m 42.41   \u001b[0m | \u001b[0m 0.2089  \u001b[0m | \u001b[0m 0.4884  \u001b[0m |\n",
      "Training until validation scores don't improve for 50 rounds.\n",
      "Did not meet early stopping. Best iteration is:\n",
      "[100]\tvalid_0's auc: 0.833191\n",
      "| \u001b[0m 65      \u001b[0m | \u001b[0m 0.8332  \u001b[0m | \u001b[0m 0.7893  \u001b[0m | \u001b[0m 0.2046  \u001b[0m | \u001b[0m 73.03   \u001b[0m | \u001b[0m 17.53   \u001b[0m | \u001b[0m 49.86   \u001b[0m | \u001b[0m 0.6436  \u001b[0m | \u001b[0m 0.03998 \u001b[0m |\n",
      "Training until validation scores don't improve for 50 rounds.\n",
      "Did not meet early stopping. Best iteration is:\n",
      "[100]\tvalid_0's auc: 0.822724\n",
      "| \u001b[0m 66      \u001b[0m | \u001b[0m 0.8227  \u001b[0m | \u001b[0m 0.8456  \u001b[0m | \u001b[0m 0.2057  \u001b[0m | \u001b[0m 60.59   \u001b[0m | \u001b[0m 10.26   \u001b[0m | \u001b[0m 33.26   \u001b[0m | \u001b[0m 0.6934  \u001b[0m | \u001b[0m 0.1047  \u001b[0m |\n",
      "Training until validation scores don't improve for 50 rounds.\n",
      "Did not meet early stopping. Best iteration is:\n",
      "[100]\tvalid_0's auc: 0.826939\n",
      "| \u001b[0m 67      \u001b[0m | \u001b[0m 0.8269  \u001b[0m | \u001b[0m 0.8465  \u001b[0m | \u001b[0m 0.2271  \u001b[0m | \u001b[0m 67.16   \u001b[0m | \u001b[0m 15.77   \u001b[0m | \u001b[0m 49.98   \u001b[0m | \u001b[0m 0.06667 \u001b[0m | \u001b[0m 0.03012 \u001b[0m |\n",
      "Training until validation scores don't improve for 50 rounds.\n",
      "Did not meet early stopping. Best iteration is:\n",
      "[100]\tvalid_0's auc: 0.828858\n",
      "| \u001b[0m 68      \u001b[0m | \u001b[0m 0.8289  \u001b[0m | \u001b[0m 0.6845  \u001b[0m | \u001b[0m 0.2247  \u001b[0m | \u001b[0m 81.49   \u001b[0m | \u001b[0m 0.4622  \u001b[0m | \u001b[0m 49.91   \u001b[0m | \u001b[0m 0.6884  \u001b[0m | \u001b[0m 0.3525  \u001b[0m |\n",
      "Training until validation scores don't improve for 50 rounds.\n",
      "Did not meet early stopping. Best iteration is:\n",
      "[100]\tvalid_0's auc: 0.832355\n",
      "| \u001b[0m 69      \u001b[0m | \u001b[0m 0.8324  \u001b[0m | \u001b[0m 0.8476  \u001b[0m | \u001b[0m 0.2006  \u001b[0m | \u001b[0m 56.84   \u001b[0m | \u001b[0m 13.54   \u001b[0m | \u001b[0m 49.16   \u001b[0m | \u001b[0m 0.5562  \u001b[0m | \u001b[0m 0.4973  \u001b[0m |\n",
      "Training until validation scores don't improve for 50 rounds.\n",
      "Did not meet early stopping. Best iteration is:\n",
      "[100]\tvalid_0's auc: 0.829041\n",
      "| \u001b[0m 70      \u001b[0m | \u001b[0m 0.829   \u001b[0m | \u001b[0m 0.8487  \u001b[0m | \u001b[0m 0.2111  \u001b[0m | \u001b[0m 73.31   \u001b[0m | \u001b[0m 12.05   \u001b[0m | \u001b[0m 49.3    \u001b[0m | \u001b[0m 0.6968  \u001b[0m | \u001b[0m 0.1069  \u001b[0m |\n",
      "Training until validation scores don't improve for 50 rounds.\n",
      "Did not meet early stopping. Best iteration is:\n",
      "[100]\tvalid_0's auc: 0.833451\n",
      "| \u001b[0m 71      \u001b[0m | \u001b[0m 0.8335  \u001b[0m | \u001b[0m 0.785   \u001b[0m | \u001b[0m 0.2038  \u001b[0m | \u001b[0m 83.79   \u001b[0m | \u001b[0m 14.73   \u001b[0m | \u001b[0m 49.78   \u001b[0m | \u001b[0m 0.697   \u001b[0m | \u001b[0m 0.2317  \u001b[0m |\n",
      "Training until validation scores don't improve for 50 rounds.\n",
      "Did not meet early stopping. Best iteration is:\n",
      "[100]\tvalid_0's auc: 0.828432\n",
      "| \u001b[0m 72      \u001b[0m | \u001b[0m 0.8284  \u001b[0m | \u001b[0m 0.8455  \u001b[0m | \u001b[0m 0.2124  \u001b[0m | \u001b[0m 78.85   \u001b[0m | \u001b[0m 18.41   \u001b[0m | \u001b[0m 47.22   \u001b[0m | \u001b[0m 0.6033  \u001b[0m | \u001b[0m 0.03537 \u001b[0m |\n",
      "Training until validation scores don't improve for 50 rounds.\n",
      "Did not meet early stopping. Best iteration is:\n",
      "[100]\tvalid_0's auc: 0.832674\n",
      "| \u001b[0m 73      \u001b[0m | \u001b[0m 0.8327  \u001b[0m | \u001b[0m 0.7681  \u001b[0m | \u001b[0m 0.2033  \u001b[0m | \u001b[0m 62.04   \u001b[0m | \u001b[0m 11.39   \u001b[0m | \u001b[0m 49.59   \u001b[0m | \u001b[0m 0.6431  \u001b[0m | \u001b[0m 0.1509  \u001b[0m |\n",
      "Training until validation scores don't improve for 50 rounds.\n",
      "Did not meet early stopping. Best iteration is:\n",
      "[100]\tvalid_0's auc: 0.833482\n",
      "| \u001b[0m 74      \u001b[0m | \u001b[0m 0.8335  \u001b[0m | \u001b[0m 0.8139  \u001b[0m | \u001b[0m 0.2021  \u001b[0m | \u001b[0m 95.43   \u001b[0m | \u001b[0m 22.27   \u001b[0m | \u001b[0m 49.93   \u001b[0m | \u001b[0m 0.2395  \u001b[0m | \u001b[0m 0.474   \u001b[0m |\n",
      "Training until validation scores don't improve for 50 rounds.\n",
      "Did not meet early stopping. Best iteration is:\n",
      "[100]\tvalid_0's auc: 0.833647\n",
      "| \u001b[0m 75      \u001b[0m | \u001b[0m 0.8336  \u001b[0m | \u001b[0m 0.8319  \u001b[0m | \u001b[0m 0.2032  \u001b[0m | \u001b[0m 92.69   \u001b[0m | \u001b[0m 15.4    \u001b[0m | \u001b[0m 49.4    \u001b[0m | \u001b[0m 0.5545  \u001b[0m | \u001b[0m 0.009946\u001b[0m |\n",
      "Training until validation scores don't improve for 50 rounds.\n",
      "Did not meet early stopping. Best iteration is:\n",
      "[100]\tvalid_0's auc: 0.833282\n",
      "| \u001b[0m 76      \u001b[0m | \u001b[0m 0.8333  \u001b[0m | \u001b[0m 0.828   \u001b[0m | \u001b[0m 0.2049  \u001b[0m | \u001b[0m 98.8    \u001b[0m | \u001b[0m 23.02   \u001b[0m | \u001b[0m 48.74   \u001b[0m | \u001b[0m 0.006476\u001b[0m | \u001b[0m 0.07072 \u001b[0m |\n"
     ]
    },
    {
     "name": "stdout",
     "output_type": "stream",
     "text": [
      "Training until validation scores don't improve for 50 rounds.\n",
      "Did not meet early stopping. Best iteration is:\n",
      "[100]\tvalid_0's auc: 0.829009\n",
      "| \u001b[0m 77      \u001b[0m | \u001b[0m 0.829   \u001b[0m | \u001b[0m 0.7763  \u001b[0m | \u001b[0m 0.2068  \u001b[0m | \u001b[0m 43.99   \u001b[0m | \u001b[0m 24.65   \u001b[0m | \u001b[0m 49.26   \u001b[0m | \u001b[0m 0.2036  \u001b[0m | \u001b[0m 0.4355  \u001b[0m |\n",
      "Training until validation scores don't improve for 50 rounds.\n",
      "Did not meet early stopping. Best iteration is:\n",
      "[100]\tvalid_0's auc: 0.833279\n",
      "| \u001b[0m 78      \u001b[0m | \u001b[0m 0.8333  \u001b[0m | \u001b[0m 0.7579  \u001b[0m | \u001b[0m 0.2044  \u001b[0m | \u001b[0m 87.84   \u001b[0m | \u001b[0m 18.45   \u001b[0m | \u001b[0m 48.82   \u001b[0m | \u001b[0m 0.6976  \u001b[0m | \u001b[0m 0.000593\u001b[0m |\n",
      "Training until validation scores don't improve for 50 rounds.\n",
      "Did not meet early stopping. Best iteration is:\n",
      "[100]\tvalid_0's auc: 0.833499\n",
      "| \u001b[0m 79      \u001b[0m | \u001b[0m 0.8335  \u001b[0m | \u001b[0m 0.7709  \u001b[0m | \u001b[0m 0.2006  \u001b[0m | \u001b[0m 88.87   \u001b[0m | \u001b[0m 17.04   \u001b[0m | \u001b[0m 49.92   \u001b[0m | \u001b[0m 0.3864  \u001b[0m | \u001b[0m 0.2539  \u001b[0m |\n",
      "Training until validation scores don't improve for 50 rounds.\n",
      "Did not meet early stopping. Best iteration is:\n",
      "[100]\tvalid_0's auc: 0.833063\n",
      "| \u001b[0m 80      \u001b[0m | \u001b[0m 0.8331  \u001b[0m | \u001b[0m 0.846   \u001b[0m | \u001b[0m 0.2032  \u001b[0m | \u001b[0m 91.66   \u001b[0m | \u001b[0m 18.97   \u001b[0m | \u001b[0m 48.43   \u001b[0m | \u001b[0m 0.3395  \u001b[0m | \u001b[0m 0.04205 \u001b[0m |\n",
      "Training until validation scores don't improve for 50 rounds.\n",
      "Did not meet early stopping. Best iteration is:\n",
      "[100]\tvalid_0's auc: 0.829083\n",
      "| \u001b[0m 81      \u001b[0m | \u001b[0m 0.8291  \u001b[0m | \u001b[0m 0.8225  \u001b[0m | \u001b[0m 0.2207  \u001b[0m | \u001b[0m 94.35   \u001b[0m | \u001b[0m 24.49   \u001b[0m | \u001b[0m 49.83   \u001b[0m | \u001b[0m 0.08606 \u001b[0m | \u001b[0m 0.1461  \u001b[0m |\n",
      "Training until validation scores don't improve for 50 rounds.\n",
      "Did not meet early stopping. Best iteration is:\n",
      "[100]\tvalid_0's auc: 0.83351\n",
      "| \u001b[0m 82      \u001b[0m | \u001b[0m 0.8335  \u001b[0m | \u001b[0m 0.8375  \u001b[0m | \u001b[0m 0.202   \u001b[0m | \u001b[0m 90.59   \u001b[0m | \u001b[0m 17.38   \u001b[0m | \u001b[0m 49.44   \u001b[0m | \u001b[0m 0.168   \u001b[0m | \u001b[0m 0.04741 \u001b[0m |\n",
      "Training until validation scores don't improve for 50 rounds.\n",
      "Did not meet early stopping. Best iteration is:\n",
      "[100]\tvalid_0's auc: 0.832177\n",
      "| \u001b[0m 83      \u001b[0m | \u001b[0m 0.8322  \u001b[0m | \u001b[0m 0.8226  \u001b[0m | \u001b[0m 0.2068  \u001b[0m | \u001b[0m 98.19   \u001b[0m | \u001b[0m 23.26   \u001b[0m | \u001b[0m 49.89   \u001b[0m | \u001b[0m 0.5059  \u001b[0m | \u001b[0m 0.04251 \u001b[0m |\n",
      "Training until validation scores don't improve for 50 rounds.\n",
      "Did not meet early stopping. Best iteration is:\n",
      "[100]\tvalid_0's auc: 0.829488\n",
      "| \u001b[0m 84      \u001b[0m | \u001b[0m 0.8295  \u001b[0m | \u001b[0m 0.8474  \u001b[0m | \u001b[0m 0.2101  \u001b[0m | \u001b[0m 90.07   \u001b[0m | \u001b[0m 19.03   \u001b[0m | \u001b[0m 50.0    \u001b[0m | \u001b[0m 0.475   \u001b[0m | \u001b[0m 0.1625  \u001b[0m |\n",
      "Training until validation scores don't improve for 50 rounds.\n",
      "Did not meet early stopping. Best iteration is:\n",
      "[100]\tvalid_0's auc: 0.832454\n",
      "| \u001b[0m 85      \u001b[0m | \u001b[0m 0.8325  \u001b[0m | \u001b[0m 0.8316  \u001b[0m | \u001b[0m 0.2044  \u001b[0m | \u001b[0m 86.97   \u001b[0m | \u001b[0m 13.22   \u001b[0m | \u001b[0m 47.0    \u001b[0m | \u001b[0m 0.2656  \u001b[0m | \u001b[0m 0.1923  \u001b[0m |\n",
      "Training until validation scores don't improve for 50 rounds.\n",
      "Did not meet early stopping. Best iteration is:\n",
      "[100]\tvalid_0's auc: 0.833575\n",
      "| \u001b[0m 86      \u001b[0m | \u001b[0m 0.8336  \u001b[0m | \u001b[0m 0.8038  \u001b[0m | \u001b[0m 0.2025  \u001b[0m | \u001b[0m 90.18   \u001b[0m | \u001b[0m 0.1159  \u001b[0m | \u001b[0m 48.46   \u001b[0m | \u001b[0m 0.6892  \u001b[0m | \u001b[0m 0.005232\u001b[0m |\n",
      "Training until validation scores don't improve for 50 rounds.\n",
      "Did not meet early stopping. Best iteration is:\n",
      "[100]\tvalid_0's auc: 0.83255\n",
      "| \u001b[0m 87      \u001b[0m | \u001b[0m 0.8326  \u001b[0m | \u001b[0m 0.7806  \u001b[0m | \u001b[0m 0.2026  \u001b[0m | \u001b[0m 94.31   \u001b[0m | \u001b[0m 18.46   \u001b[0m | \u001b[0m 45.75   \u001b[0m | \u001b[0m 0.6737  \u001b[0m | \u001b[0m 0.4798  \u001b[0m |\n",
      "Training until validation scores don't improve for 50 rounds.\n",
      "Did not meet early stopping. Best iteration is:\n",
      "[100]\tvalid_0's auc: 0.809189\n",
      "| \u001b[0m 88      \u001b[0m | \u001b[0m 0.8092  \u001b[0m | \u001b[0m 0.844   \u001b[0m | \u001b[0m 0.2106  \u001b[0m | \u001b[0m 90.77   \u001b[0m | \u001b[0m 24.85   \u001b[0m | \u001b[0m 20.16   \u001b[0m | \u001b[0m 0.1073  \u001b[0m | \u001b[0m 0.2709  \u001b[0m |\n",
      "Training until validation scores don't improve for 50 rounds.\n",
      "Did not meet early stopping. Best iteration is:\n",
      "[100]\tvalid_0's auc: 0.8295\n",
      "| \u001b[0m 89      \u001b[0m | \u001b[0m 0.8295  \u001b[0m | \u001b[0m 0.7979  \u001b[0m | \u001b[0m 0.2007  \u001b[0m | \u001b[0m 92.23   \u001b[0m | \u001b[0m 17.77   \u001b[0m | \u001b[0m 40.99   \u001b[0m | \u001b[0m 0.3022  \u001b[0m | \u001b[0m 0.02548 \u001b[0m |\n",
      "Training until validation scores don't improve for 50 rounds.\n",
      "Did not meet early stopping. Best iteration is:\n",
      "[100]\tvalid_0's auc: 0.831082\n",
      "| \u001b[0m 90      \u001b[0m | \u001b[0m 0.8311  \u001b[0m | \u001b[0m 0.8478  \u001b[0m | \u001b[0m 0.2018  \u001b[0m | \u001b[0m 45.48   \u001b[0m | \u001b[0m 21.03   \u001b[0m | \u001b[0m 48.41   \u001b[0m | \u001b[0m 0.5433  \u001b[0m | \u001b[0m 0.3452  \u001b[0m |\n",
      "Training until validation scores don't improve for 50 rounds.\n",
      "Did not meet early stopping. Best iteration is:\n",
      "[100]\tvalid_0's auc: 0.833108\n",
      "| \u001b[0m 91      \u001b[0m | \u001b[0m 0.8331  \u001b[0m | \u001b[0m 0.7948  \u001b[0m | \u001b[0m 0.2039  \u001b[0m | \u001b[0m 96.82   \u001b[0m | \u001b[0m 24.93   \u001b[0m | \u001b[0m 47.07   \u001b[0m | \u001b[0m 0.4601  \u001b[0m | \u001b[0m 0.2307  \u001b[0m |\n",
      "Training until validation scores don't improve for 50 rounds.\n",
      "Did not meet early stopping. Best iteration is:\n",
      "[100]\tvalid_0's auc: 0.831085\n",
      "| \u001b[0m 92      \u001b[0m | \u001b[0m 0.8311  \u001b[0m | \u001b[0m 0.8403  \u001b[0m | \u001b[0m 0.2046  \u001b[0m | \u001b[0m 87.82   \u001b[0m | \u001b[0m 21.73   \u001b[0m | \u001b[0m 43.13   \u001b[0m | \u001b[0m 0.4579  \u001b[0m | \u001b[0m 0.1935  \u001b[0m |\n",
      "Training until validation scores don't improve for 50 rounds.\n",
      "Did not meet early stopping. Best iteration is:\n",
      "[100]\tvalid_0's auc: 0.830129\n",
      "| \u001b[0m 93      \u001b[0m | \u001b[0m 0.8301  \u001b[0m | \u001b[0m 0.839   \u001b[0m | \u001b[0m 0.2031  \u001b[0m | \u001b[0m 55.2    \u001b[0m | \u001b[0m 15.09   \u001b[0m | \u001b[0m 44.13   \u001b[0m | \u001b[0m 0.6992  \u001b[0m | \u001b[0m 0.04769 \u001b[0m |\n",
      "Training until validation scores don't improve for 50 rounds.\n",
      "Did not meet early stopping. Best iteration is:\n",
      "[100]\tvalid_0's auc: 0.833915\n",
      "| \u001b[0m 94      \u001b[0m | \u001b[0m 0.8339  \u001b[0m | \u001b[0m 0.8402  \u001b[0m | \u001b[0m 0.2004  \u001b[0m | \u001b[0m 90.72   \u001b[0m | \u001b[0m 5.431   \u001b[0m | \u001b[0m 49.73   \u001b[0m | \u001b[0m 0.6709  \u001b[0m | \u001b[0m 0.02337 \u001b[0m |\n",
      "Training until validation scores don't improve for 50 rounds.\n",
      "Did not meet early stopping. Best iteration is:\n",
      "[100]\tvalid_0's auc: 0.82889\n",
      "| \u001b[0m 95      \u001b[0m | \u001b[0m 0.8289  \u001b[0m | \u001b[0m 0.8102  \u001b[0m | \u001b[0m 0.2118  \u001b[0m | \u001b[0m 86.25   \u001b[0m | \u001b[0m 9.837   \u001b[0m | \u001b[0m 48.74   \u001b[0m | \u001b[0m 0.61    \u001b[0m | \u001b[0m 0.004484\u001b[0m |\n",
      "Training until validation scores don't improve for 50 rounds.\n",
      "Did not meet early stopping. Best iteration is:\n",
      "[100]\tvalid_0's auc: 0.829266\n",
      "| \u001b[0m 96      \u001b[0m | \u001b[0m 0.8293  \u001b[0m | \u001b[0m 0.8317  \u001b[0m | \u001b[0m 0.2118  \u001b[0m | \u001b[0m 85.68   \u001b[0m | \u001b[0m 0.09734 \u001b[0m | \u001b[0m 49.62   \u001b[0m | \u001b[0m 0.5767  \u001b[0m | \u001b[0m 0.06367 \u001b[0m |\n",
      "Training until validation scores don't improve for 50 rounds.\n",
      "Did not meet early stopping. Best iteration is:\n",
      "[100]\tvalid_0's auc: 0.831907\n",
      "| \u001b[0m 97      \u001b[0m | \u001b[0m 0.8319  \u001b[0m | \u001b[0m 0.7477  \u001b[0m | \u001b[0m 0.2086  \u001b[0m | \u001b[0m 95.0    \u001b[0m | \u001b[0m 0.425   \u001b[0m | \u001b[0m 49.47   \u001b[0m | \u001b[0m 0.5571  \u001b[0m | \u001b[0m 0.4864  \u001b[0m |\n",
      "Training until validation scores don't improve for 50 rounds.\n",
      "Did not meet early stopping. Best iteration is:\n",
      "[100]\tvalid_0's auc: 0.829038\n",
      "| \u001b[0m 98      \u001b[0m | \u001b[0m 0.829   \u001b[0m | \u001b[0m 0.849   \u001b[0m | \u001b[0m 0.2063  \u001b[0m | \u001b[0m 91.26   \u001b[0m | \u001b[0m 0.4746  \u001b[0m | \u001b[0m 42.61   \u001b[0m | \u001b[0m 0.5117  \u001b[0m | \u001b[0m 0.3923  \u001b[0m |\n",
      "Training until validation scores don't improve for 50 rounds.\n",
      "Did not meet early stopping. Best iteration is:\n",
      "[100]\tvalid_0's auc: 0.832779\n",
      "| \u001b[0m 99      \u001b[0m | \u001b[0m 0.8328  \u001b[0m | \u001b[0m 0.8477  \u001b[0m | \u001b[0m 0.2041  \u001b[0m | \u001b[0m 88.56   \u001b[0m | \u001b[0m 14.78   \u001b[0m | \u001b[0m 46.74   \u001b[0m | \u001b[0m 0.6908  \u001b[0m | \u001b[0m 0.3933  \u001b[0m |\n",
      "Training until validation scores don't improve for 50 rounds.\n",
      "Did not meet early stopping. Best iteration is:\n",
      "[100]\tvalid_0's auc: 0.832043\n",
      "| \u001b[0m 100     \u001b[0m | \u001b[0m 0.832   \u001b[0m | \u001b[0m 0.6803  \u001b[0m | \u001b[0m 0.2015  \u001b[0m | \u001b[0m 91.7    \u001b[0m | \u001b[0m 20.75   \u001b[0m | \u001b[0m 45.91   \u001b[0m | \u001b[0m 0.08228 \u001b[0m | \u001b[0m 0.1724  \u001b[0m |\n",
      "Training until validation scores don't improve for 50 rounds.\n",
      "Did not meet early stopping. Best iteration is:\n",
      "[100]\tvalid_0's auc: 0.833542\n",
      "| \u001b[0m 101     \u001b[0m | \u001b[0m 0.8335  \u001b[0m | \u001b[0m 0.775   \u001b[0m | \u001b[0m 0.2045  \u001b[0m | \u001b[0m 87.98   \u001b[0m | \u001b[0m 14.07   \u001b[0m | \u001b[0m 49.13   \u001b[0m | \u001b[0m 0.6813  \u001b[0m | \u001b[0m 0.05412 \u001b[0m |\n",
      "Training until validation scores don't improve for 50 rounds.\n",
      "Did not meet early stopping. Best iteration is:\n",
      "[100]\tvalid_0's auc: 0.831707\n",
      "| \u001b[0m 102     \u001b[0m | \u001b[0m 0.8317  \u001b[0m | \u001b[0m 0.8244  \u001b[0m | \u001b[0m 0.2017  \u001b[0m | \u001b[0m 86.64   \u001b[0m | \u001b[0m 18.44   \u001b[0m | \u001b[0m 45.72   \u001b[0m | \u001b[0m 0.2196  \u001b[0m | \u001b[0m 0.02817 \u001b[0m |\n"
     ]
    },
    {
     "name": "stdout",
     "output_type": "stream",
     "text": [
      "Training until validation scores don't improve for 50 rounds.\n",
      "Did not meet early stopping. Best iteration is:\n",
      "[100]\tvalid_0's auc: 0.833003\n",
      "| \u001b[0m 103     \u001b[0m | \u001b[0m 0.833   \u001b[0m | \u001b[0m 0.847   \u001b[0m | \u001b[0m 0.202   \u001b[0m | \u001b[0m 94.96   \u001b[0m | \u001b[0m 1.616   \u001b[0m | \u001b[0m 48.45   \u001b[0m | \u001b[0m 0.3139  \u001b[0m | \u001b[0m 0.166   \u001b[0m |\n",
      "Training until validation scores don't improve for 50 rounds.\n",
      "Did not meet early stopping. Best iteration is:\n",
      "[100]\tvalid_0's auc: 0.813566\n",
      "| \u001b[0m 104     \u001b[0m | \u001b[0m 0.8136  \u001b[0m | \u001b[0m 0.7255  \u001b[0m | \u001b[0m 0.2034  \u001b[0m | \u001b[0m 42.37   \u001b[0m | \u001b[0m 13.93   \u001b[0m | \u001b[0m 20.48   \u001b[0m | \u001b[0m 0.6924  \u001b[0m | \u001b[0m 0.02184 \u001b[0m |\n",
      "Training until validation scores don't improve for 50 rounds.\n",
      "Did not meet early stopping. Best iteration is:\n",
      "[100]\tvalid_0's auc: 0.831304\n",
      "| \u001b[0m 105     \u001b[0m | \u001b[0m 0.8313  \u001b[0m | \u001b[0m 0.8391  \u001b[0m | \u001b[0m 0.2015  \u001b[0m | \u001b[0m 95.18   \u001b[0m | \u001b[0m 24.19   \u001b[0m | \u001b[0m 43.51   \u001b[0m | \u001b[0m 0.005699\u001b[0m | \u001b[0m 0.1771  \u001b[0m |\n",
      "=============================================================================================================\n"
     ]
    }
   ],
   "source": [
    "print('-' * 130)\n",
    "\n",
    "with warnings.catch_warnings():\n",
    "    warnings.filterwarnings('ignore')\n",
    "    RF_BO.maximize(init_points=init_points, n_iter=n_iter, acq='ucb', xi=0.0, alpha=1e-6)"
   ]
  },
  {
   "cell_type": "code",
   "execution_count": 31,
   "metadata": {},
   "outputs": [
    {
     "name": "stdout",
     "output_type": "stream",
     "text": [
      "Iteration 0: \n",
      "\t{'target': 0.7451345285733285, 'params': {'colsample_bytree': 0.2871684576128982, 'feature_fraction': 0.6594180235308411, 'min_child_samples': 44.8844746872853, 'min_child_weight': 2.064219296736871, 'num_leaves': 26.2304720973986, 'reg_alpha': 0.25164377471522836}}\n",
      "Iteration 1: \n",
      "\t{'target': 0.7778843273744026, 'params': {'colsample_bytree': 0.6990740474974501, 'feature_fraction': 0.41569701705075285, 'min_child_samples': 13.738249162611563, 'min_child_weight': 4.208431877067897, 'num_leaves': 31.066097599094643, 'reg_alpha': 0.1214976107073582}}\n",
      "Iteration 2: \n",
      "\t{'target': 0.7725947185590752, 'params': {'colsample_bytree': 0.5473833495573677, 'feature_fraction': 0.5522692232873746, 'min_child_samples': 34.401867540028874, 'min_child_weight': 1.6446957936570799, 'num_leaves': 49.93481956085077, 'reg_alpha': 0.11638075625353089}}\n",
      "Iteration 3: \n",
      "\t{'target': 0.7772222349440062, 'params': {'colsample_bytree': 0.4216833955519628, 'feature_fraction': 0.47677273112769414, 'min_child_samples': 7.344374657030728, 'min_child_weight': 1.2818308337896658, 'num_leaves': 43.79500631736626, 'reg_alpha': 0.3691661802618628}}\n",
      "Iteration 4: \n",
      "\t{'target': 0.8290746920173637, 'params': {'colsample_bytree': 0.4183520894404708, 'feature_fraction': 0.20075766066750833, 'min_child_samples': 47.816078187550225, 'min_child_weight': 5.905389431329523, 'num_leaves': 45.97570570284615, 'reg_alpha': 0.20686093103081726}}\n",
      "Iteration 5: \n",
      "\t{'target': 0.7456039347453838, 'params': {'colsample_bytree': 0.25, 'feature_fraction': 0.8, 'min_child_samples': 5.0, 'min_child_weight': 10.0, 'num_leaves': 50.0, 'reg_alpha': 0.0}}\n",
      "Iteration 6: \n",
      "\t{'target': 0.8128487373327489, 'params': {'colsample_bytree': 0.25, 'feature_fraction': 0.2, 'min_child_samples': 5.0, 'min_child_weight': 0.001000000000000334, 'num_leaves': 20.0, 'reg_alpha': 0.5}}\n",
      "Iteration 7: \n",
      "\t{'target': 0.8312097229119221, 'params': {'colsample_bytree': 0.75, 'feature_fraction': 0.2, 'min_child_samples': 50.0, 'min_child_weight': 0.001, 'num_leaves': 50.0, 'reg_alpha': 0.0}}\n",
      "Iteration 8: \n",
      "\t{'target': 0.8319112990298134, 'params': {'colsample_bytree': 0.75, 'feature_fraction': 0.2000000042224347, 'min_child_samples': 50.0, 'min_child_weight': 10.0, 'num_leaves': 50.0, 'reg_alpha': 0.5}}\n",
      "Iteration 9: \n",
      "\t{'target': 0.7220262231004533, 'params': {'colsample_bytree': 0.25, 'feature_fraction': 0.8, 'min_child_samples': 5.0, 'min_child_weight': 10.0, 'num_leaves': 20.047880026884155, 'reg_alpha': 0.0}}\n",
      "Iteration 10: \n",
      "\t{'target': 0.7487211043890738, 'params': {'colsample_bytree': 0.6472413699842807, 'feature_fraction': 0.7577461137720454, 'min_child_samples': 49.74671690321345, 'min_child_weight': 0.6106184320329161, 'num_leaves': 42.51362750122482, 'reg_alpha': 0.4924582164625667}}\n",
      "Iteration 11: \n",
      "\t{'target': 0.8124938498957138, 'params': {'colsample_bytree': 0.25, 'feature_fraction': 0.2, 'min_child_samples': 31.757293290661877, 'min_child_weight': 10.0, 'num_leaves': 20.0, 'reg_alpha': 0.0}}\n",
      "Iteration 12: \n",
      "\t{'target': 0.8129265784988882, 'params': {'colsample_bytree': 0.25, 'feature_fraction': 0.2, 'min_child_samples': 50.0, 'min_child_weight': 10.0, 'num_leaves': 20.0, 'reg_alpha': 0.0}}\n",
      "Iteration 13: \n",
      "\t{'target': 0.8120954230917679, 'params': {'colsample_bytree': 0.25, 'feature_fraction': 0.2, 'min_child_samples': 21.846988571171366, 'min_child_weight': 0.001, 'num_leaves': 20.0, 'reg_alpha': 0.0}}\n",
      "Iteration 14: \n",
      "\t{'target': 0.8237020308307993, 'params': {'colsample_bytree': 0.25, 'feature_fraction': 0.2, 'min_child_samples': 39.30854390170742, 'min_child_weight': 10.0, 'num_leaves': 35.076031765124576, 'reg_alpha': 0.0}}\n",
      "Iteration 15: \n",
      "\t{'target': 0.8293221979849957, 'params': {'colsample_bytree': 0.25, 'feature_fraction': 0.2, 'min_child_samples': 37.71231502866263, 'min_child_weight': 10.0, 'num_leaves': 49.99999999999985, 'reg_alpha': 0.0}}\n",
      "Iteration 16: \n",
      "\t{'target': 0.8208224730006611, 'params': {'colsample_bytree': 0.25, 'feature_fraction': 0.2, 'min_child_samples': 5.0, 'min_child_weight': 0.001000000000000334, 'num_leaves': 35.03231006960273, 'reg_alpha': 0.0}}\n",
      "Iteration 17: \n",
      "\t{'target': 0.8304241258610565, 'params': {'colsample_bytree': 0.25, 'feature_fraction': 0.2, 'min_child_samples': 47.01706973922481, 'min_child_weight': 8.55138978994479, 'num_leaves': 49.999999999978, 'reg_alpha': 0.0}}\n",
      "Iteration 18: \n",
      "\t{'target': 0.82591113706151, 'params': {'colsample_bytree': 0.25, 'feature_fraction': 0.2, 'min_child_samples': 23.21269787693633, 'min_child_weight': 9.87353146190743, 'num_leaves': 43.766119147960744, 'reg_alpha': 0.0}}\n",
      "Iteration 19: \n",
      "\t{'target': 0.8227513921874641, 'params': {'colsample_bytree': 0.75, 'feature_fraction': 0.2, 'min_child_samples': 50.0, 'min_child_weight': 9.999999999076206, 'num_leaves': 32.25643586028345, 'reg_alpha': 0.0}}\n",
      "Iteration 20: \n",
      "\t{'target': 0.828125835616129, 'params': {'colsample_bytree': 0.6586234620966891, 'feature_fraction': 0.2027768980082787, 'min_child_samples': 24.637659442195208, 'min_child_weight': 9.788655130704495, 'num_leaves': 49.7121264876928, 'reg_alpha': 0.07240751839046505}}\n",
      "Iteration 21: \n",
      "\t{'target': 0.813135780090061, 'params': {'colsample_bytree': 0.75, 'feature_fraction': 0.2, 'min_child_samples': 33.337129357193376, 'min_child_weight': 0.001, 'num_leaves': 20.0, 'reg_alpha': 0.48979276919767}}\n",
      "Iteration 22: \n",
      "\t{'target': 0.8231392793138879, 'params': {'colsample_bytree': 0.7481175681217975, 'feature_fraction': 0.21652465923111558, 'min_child_samples': 32.179005983460726, 'min_child_weight': 9.91484082852728, 'num_leaves': 43.98984875953484, 'reg_alpha': 0.14836413575317875}}\n",
      "Iteration 23: \n",
      "\t{'target': 0.7959389681049899, 'params': {'colsample_bytree': 0.6940467182634218, 'feature_fraction': 0.2797899793421875, 'min_child_samples': 41.7053658166411, 'min_child_weight': 9.705135158480083, 'num_leaves': 20.11876724710825, 'reg_alpha': 0.39426549670248007}}\n",
      "Iteration 24: \n",
      "\t{'target': 0.8205894816303936, 'params': {'colsample_bytree': 0.26601292800672605, 'feature_fraction': 0.24232047701992238, 'min_child_samples': 49.83398125069588, 'min_child_weight': 9.946565477919725, 'num_leaves': 41.618764204589155, 'reg_alpha': 0.4380751907256789}}\n",
      "Iteration 25: \n",
      "\t{'target': 0.8223642064524069, 'params': {'colsample_bytree': 0.2500000017407755, 'feature_fraction': 0.2, 'min_child_samples': 28.12305772369802, 'min_child_weight': 10.0, 'num_leaves': 32.07637115602204, 'reg_alpha': 0.5}}\n",
      "Iteration 26: \n",
      "\t{'target': 0.8197474989089133, 'params': {'colsample_bytree': 0.30549918726881126, 'feature_fraction': 0.2, 'min_child_samples': 27.61768885177956, 'min_child_weight': 0.5183743172033071, 'num_leaves': 29.42402969577601, 'reg_alpha': 0.0}}\n",
      "Iteration 27: \n",
      "\t{'target': 0.8129457284745266, 'params': {'colsample_bytree': 0.7169940949529479, 'feature_fraction': 0.23081881841085297, 'min_child_samples': 30.823716195451578, 'min_child_weight': 7.350492660652434, 'num_leaves': 27.127443144474626, 'reg_alpha': 0.014958732488160043}}\n",
      "Iteration 28: \n",
      "\t{'target': 0.8215309988670771, 'params': {'colsample_bytree': 0.27592622748911766, 'feature_fraction': 0.2580953793744308, 'min_child_samples': 49.935814816980255, 'min_child_weight': 5.94735137228741, 'num_leaves': 49.02080879971315, 'reg_alpha': 0.374083398458811}}\n",
      "Iteration 29: \n",
      "\t{'target': 0.8284810881306892, 'params': {'colsample_bytree': 0.6463088557470911, 'feature_fraction': 0.20060327727402258, 'min_child_samples': 43.43488944717094, 'min_child_weight': 9.851082690190424, 'num_leaves': 45.92777936811132, 'reg_alpha': 0.08793907056963546}}\n",
      "Iteration 30: \n",
      "\t{'target': 0.8133865518421, 'params': {'colsample_bytree': 0.33223536265185083, 'feature_fraction': 0.2508386996374099, 'min_child_samples': 5.900050337412744, 'min_child_weight': 9.821061299798567, 'num_leaves': 38.52359447038285, 'reg_alpha': 0.06978004570381402}}\n",
      "Iteration 31: \n",
      "\t{'target': 0.8273171988545386, 'params': {'colsample_bytree': 0.7447862921816754, 'feature_fraction': 0.21219176122011196, 'min_child_samples': 44.019712678430594, 'min_child_weight': 0.4936583099458568, 'num_leaves': 49.81018682682008, 'reg_alpha': 0.47978654516693414}}\n",
      "Iteration 32: \n",
      "\t{'target': 0.8237738471114776, 'params': {'colsample_bytree': 0.739926360113216, 'feature_fraction': 0.21175338989989956, 'min_child_samples': 14.099788132222981, 'min_child_weight': 9.893541526234964, 'num_leaves': 46.4780294041173, 'reg_alpha': 0.4640328175889392}}\n",
      "Iteration 33: \n",
      "\t{'target': 0.8151592410803367, 'params': {'colsample_bytree': 0.7245627107133973, 'feature_fraction': 0.24861796756096705, 'min_child_samples': 18.317402153179167, 'min_child_weight': 9.929673221912255, 'num_leaves': 38.425477407466836, 'reg_alpha': 0.09179076161783728}}\n",
      "Iteration 34: \n",
      "\t{'target': 0.8303089494333432, 'params': {'colsample_bytree': 0.7499999999999745, 'feature_fraction': 0.2, 'min_child_samples': 46.06373863413546, 'min_child_weight': 2.5584575235926392, 'num_leaves': 49.998343264266175, 'reg_alpha': 0.06440840611126951}}\n"
     ]
    }
   ],
   "source": [
    "# parametres tested and the corresponding auc\n",
    "for i, res in enumerate(RF_BO.res):\n",
    "    print(\"Iteration {}: \\n\\t{}\".format(i, res))"
   ]
  },
  {
   "cell_type": "code",
   "execution_count": 42,
   "metadata": {},
   "outputs": [
    {
     "data": {
      "text/plain": [
       "0.8342287602699943"
      ]
     },
     "execution_count": 42,
     "metadata": {},
     "output_type": "execute_result"
    }
   ],
   "source": [
    "#what is the max auc that we've got\n",
    "RF_BO.max['target']"
   ]
  },
  {
   "cell_type": "code",
   "execution_count": 43,
   "metadata": {},
   "outputs": [
    {
     "data": {
      "text/plain": [
       "{'colsample_bytree': 0.8499999999669705,\n",
       " 'feature_fraction': 0.20000000681901517,\n",
       " 'min_child_samples': 99.99999999511712,\n",
       " 'min_child_weight': 24.99999999764361,\n",
       " 'num_leaves': 49.99999999918492,\n",
       " 'reg_alpha': 0.6999999999075175,\n",
       " 'reg_lambda': 3.16496075971691e-08}"
      ]
     },
     "execution_count": 43,
     "metadata": {},
     "output_type": "execute_result"
    }
   ],
   "source": [
    "#parametrs that have been found\n",
    "RF_BO.max['params']"
   ]
  },
  {
   "cell_type": "markdown",
   "metadata": {},
   "source": [
    "### RF the best model"
   ]
  },
  {
   "cell_type": "code",
   "execution_count": 46,
   "metadata": {},
   "outputs": [],
   "source": [
    "y = df_upsampled['target']\n",
    "df = df_upsampled[features]"
   ]
  },
  {
   "cell_type": "code",
   "execution_count": 49,
   "metadata": {},
   "outputs": [],
   "source": [
    "param = {\n",
    "        'boosting_type':\"rf\",\n",
    "        'objective': 'binary',\n",
    "        'metric': 'auc',\n",
    "        'num_leaves': int(RF_BO.max['params']['num_leaves']),\n",
    "        'colsample_bytree': int(RF_BO.max['params']['colsample_bytree']),\n",
    "        'n_estimators':500,\n",
    "        'min_child_weight': RF_BO.max['params']['min_child_weight'] , \n",
    "        'min_child_samples': int(RF_BO.max['params']['min_child_samples']), \n",
    "         'subsample':.632, \n",
    "         'subsample_freq':1,\n",
    "         'min_split_gain':0,\n",
    "         'reg_alpha':RF_BO.max['params']['reg_alpha'], \n",
    "         'reg_lambda':RF_BO.max['params']['reg_lambda'], \n",
    "         'n_jobs':-1,\n",
    "         'is_unbalance': True,\n",
    "         'feature_fraction': RF_BO.max['params']['feature_fraction']\n",
    "}"
   ]
  },
  {
   "cell_type": "code",
   "execution_count": 48,
   "metadata": {},
   "outputs": [],
   "source": [
    "xg_train = lgb.Dataset(df.values,\n",
    "                           #label=train.iloc[bayesian_tr_index]['target'].values,\n",
    "                           label=y.values,\n",
    "                           feature_name=features,\n",
    "                           free_raw_data = False\n",
    "                           )\n"
   ]
  },
  {
   "cell_type": "code",
   "execution_count": 50,
   "metadata": {},
   "outputs": [
    {
     "name": "stderr",
     "output_type": "stream",
     "text": [
      "C:\\Users\\Agata\\Anaconda3\\envs\\fastai\\lib\\site-packages\\lightgbm\\engine.py:113: UserWarning: Found `n_estimators` in params. Will use it instead of argument\n",
      "  warnings.warn(\"Found `{}` in params. Will use it instead of argument\".format(alias))\n"
     ]
    },
    {
     "name": "stdout",
     "output_type": "stream",
     "text": [
      "Training until validation scores don't improve for 50 rounds.\n",
      "[250]\ttraining's auc: 0.873516\n",
      "Early stopping, best iteration is:\n",
      "[274]\ttraining's auc: 0.874126\n"
     ]
    }
   ],
   "source": [
    "num_round = 5000\n",
    "clf = lgb.train(param, xg_train, num_round, valid_sets = [xg_train], verbose_eval=250, early_stopping_rounds = 50)\n",
    "    \n",
    "predictions = clf.predict(df.values, num_iteration=clf.best_iteration)   \n",
    "score = metrics.roc_auc_score(y.values, predictions)"
   ]
  },
  {
   "cell_type": "code",
   "execution_count": 54,
   "metadata": {},
   "outputs": [],
   "source": [
    "predictions = clf.predict(test.drop('ID_code', axis=1), num_iteration=clf.best_iteration) "
   ]
  },
  {
   "cell_type": "code",
   "execution_count": 55,
   "metadata": {},
   "outputs": [
    {
     "data": {
      "text/html": [
       "<div>\n",
       "<style scoped>\n",
       "    .dataframe tbody tr th:only-of-type {\n",
       "        vertical-align: middle;\n",
       "    }\n",
       "\n",
       "    .dataframe tbody tr th {\n",
       "        vertical-align: top;\n",
       "    }\n",
       "\n",
       "    .dataframe thead th {\n",
       "        text-align: right;\n",
       "    }\n",
       "</style>\n",
       "<table border=\"1\" class=\"dataframe\">\n",
       "  <thead>\n",
       "    <tr style=\"text-align: right;\">\n",
       "      <th></th>\n",
       "      <th>ID_code</th>\n",
       "      <th>target</th>\n",
       "    </tr>\n",
       "  </thead>\n",
       "  <tbody>\n",
       "    <tr>\n",
       "      <th>0</th>\n",
       "      <td>test_0</td>\n",
       "      <td>0.540942</td>\n",
       "    </tr>\n",
       "    <tr>\n",
       "      <th>1</th>\n",
       "      <td>test_1</td>\n",
       "      <td>0.517759</td>\n",
       "    </tr>\n",
       "    <tr>\n",
       "      <th>2</th>\n",
       "      <td>test_2</td>\n",
       "      <td>0.516442</td>\n",
       "    </tr>\n",
       "    <tr>\n",
       "      <th>3</th>\n",
       "      <td>test_3</td>\n",
       "      <td>0.468894</td>\n",
       "    </tr>\n",
       "    <tr>\n",
       "      <th>4</th>\n",
       "      <td>test_4</td>\n",
       "      <td>0.442610</td>\n",
       "    </tr>\n",
       "    <tr>\n",
       "      <th>5</th>\n",
       "      <td>test_5</td>\n",
       "      <td>0.380616</td>\n",
       "    </tr>\n",
       "    <tr>\n",
       "      <th>6</th>\n",
       "      <td>test_6</td>\n",
       "      <td>0.436250</td>\n",
       "    </tr>\n",
       "    <tr>\n",
       "      <th>7</th>\n",
       "      <td>test_7</td>\n",
       "      <td>0.505666</td>\n",
       "    </tr>\n",
       "    <tr>\n",
       "      <th>8</th>\n",
       "      <td>test_8</td>\n",
       "      <td>0.383355</td>\n",
       "    </tr>\n",
       "    <tr>\n",
       "      <th>9</th>\n",
       "      <td>test_9</td>\n",
       "      <td>0.412262</td>\n",
       "    </tr>\n",
       "  </tbody>\n",
       "</table>\n",
       "</div>"
      ],
      "text/plain": [
       "  ID_code    target\n",
       "0  test_0  0.540942\n",
       "1  test_1  0.517759\n",
       "2  test_2  0.516442\n",
       "3  test_3  0.468894\n",
       "4  test_4  0.442610\n",
       "5  test_5  0.380616\n",
       "6  test_6  0.436250\n",
       "7  test_7  0.505666\n",
       "8  test_8  0.383355\n",
       "9  test_9  0.412262"
      ]
     },
     "execution_count": 55,
     "metadata": {},
     "output_type": "execute_result"
    }
   ],
   "source": [
    "sub_df = pd.DataFrame({\"ID_code\": test.ID_code.values})\n",
    "sub_df[\"target\"] = predictions\n",
    "sub_df[:10]"
   ]
  },
  {
   "cell_type": "code",
   "execution_count": 57,
   "metadata": {},
   "outputs": [],
   "source": [
    "sub_df.to_csv(f'{PATH}submission.csv', index=False)"
   ]
  },
  {
   "cell_type": "markdown",
   "metadata": {},
   "source": [
    "### LGB"
   ]
  },
  {
   "cell_type": "markdown",
   "metadata": {},
   "source": [
    "StratifiedKFold -> returns an object with indices to split data in train/val sets; preserves the percentage of samples in each class\n",
    "\n",
    "split method -> Generate indices to split data into training and test set.\n",
    "\n",
    "list -> we transform a generator object into a list\n",
    "\n",
    "we take only the first element (the first split)\n",
    "\n",
    "so it is equivalent to jest spliting the data in half.. one half is a train set and the other is the validation set"
   ]
  },
  {
   "cell_type": "code",
   "execution_count": 8,
   "metadata": {},
   "outputs": [],
   "source": [
    "bayesian_tr_index, bayesian_val_index  = list(StratifiedKFold(n_splits=2, shuffle=True, random_state=1).split(train, target))[0]"
   ]
  },
  {
   "cell_type": "markdown",
   "metadata": {},
   "source": [
    "We will try to tune:\n",
    "\n",
    "**num_leaves**\n",
    "\n",
    "**min_data_in_leaf**\n",
    "\n",
    "**learning_rate**\n",
    "\n",
    "**min_sum_hessian_in_leaf** - minimal sum hessian in one leaf. Likemin_data_in_leaf, it can be used to deal with over-fitting\n",
    "\n",
    "**feature_fraction** - feature sub-sampling\n",
    "\n",
    "**lambda_l1**\n",
    "\n",
    "**lambda_l2**\n",
    "\n",
    "**min_gain_to_split**\n",
    "\n",
    "**max_depth**\n",
    "\n",
    "max_depth,\n",
    "          num_leaves,\n",
    "          min_data_in_leaf,\n",
    "          feature_fraction,\n",
    "          bagging_fraction,\n",
    "          lambda_l1"
   ]
  },
  {
   "cell_type": "code",
   "execution_count": 89,
   "metadata": {},
   "outputs": [],
   "source": [
    "def LGB_bayesian(\n",
    "    num_leaves,  # int\n",
    "    min_data_in_leaf,  # int\n",
    "    #learning_rate,\n",
    "    min_sum_hessian_in_leaf,    # int  \n",
    "    feature_fraction,\n",
    "    lambda_l1,\n",
    "    lambda_l2,\n",
    "    min_gain_to_split,\n",
    "    bagging_fraction,\n",
    "    bagging_freq):\n",
    "\n",
    "    param = {\n",
    "        'num_leaves': int(num_leaves),\n",
    "        'n_estimators': 100,\n",
    "        'min_data_in_leaf': int(min_data_in_leaf),\n",
    "        'learning_rate': 0.07,\n",
    "        'min_sum_hessian_in_leaf': min_sum_hessian_in_leaf,\n",
    "        'bagging_fraction': 1.0,\n",
    "        'bagging_freq': bagging_freq,\n",
    "        \"bagging_fraction\": bagging_fraction,\n",
    "        'feature_fraction': feature_fraction,\n",
    "        'lambda_l1': lambda_l1,\n",
    "        'lambda_l2': lambda_l2,\n",
    "        'min_gain_to_split': min_gain_to_split,\n",
    "        'max_depth': -1,\n",
    "        #save_binary - iftrue, LightGBM will save the dataset (including validation data) to a binary file.  \n",
    "        #This speed ups thedata loading for the next time\n",
    "        'save_binary': True, \n",
    "        'objective': 'binary',\n",
    "        'boosting_type': 'gbdt',\n",
    "        'verbose': 1,\n",
    "        'metric': 'auc',\n",
    "        #is_unbalance - used only inbinaryapplication; set this totrue if training data are unbalanced\n",
    "        'is_unbalance': True,\n",
    "        #boost_from_average - adjusts initial score to the mean of labels for faster convergence\n",
    "        'boost_from_average': False,  \n",
    "        \"tree_learner\": \"serial\",\n",
    "        'bagging_freq': int(bagging_freq)\n",
    "    }    \n",
    "    \n",
    "    \n",
    "    xg_train = lgb.Dataset(train.iloc[bayesian_tr_index][features].values,\n",
    "                           #label=train.iloc[bayesian_tr_index]['target'].values,\n",
    "                           label=target.iloc[bayesian_tr_index].values,\n",
    "                           feature_name=features,\n",
    "                           free_raw_data = False\n",
    "                           )\n",
    "    xg_valid = lgb.Dataset(train.iloc[bayesian_val_index][features].values,\n",
    "                           label=train.iloc[bayesian_val_index]['target'].values,\n",
    "                           feature_name=features,\n",
    "                           free_raw_data = False\n",
    "                           )   \n",
    "\n",
    "    #xg_train, num_round, valid_sets = [xg_valid], verbose_eval=250, early_stopping_rounds = 50\n",
    "    num_round = 5000\n",
    "    clf = lgb.train(param, xg_train, num_round, valid_sets = [xg_valid], verbose_eval=250, early_stopping_rounds = 50)\n",
    "    \n",
    "    #num_iteration\n",
    "    predictions = clf.predict(train.iloc[bayesian_val_index][features].values, num_iteration=clf.best_iteration)   \n",
    "    \n",
    "    score = metrics.roc_auc_score(train.iloc[bayesian_val_index]['target'].values, predictions)\n",
    "    \n",
    "    return score"
   ]
  },
  {
   "cell_type": "code",
   "execution_count": 90,
   "metadata": {},
   "outputs": [],
   "source": [
    "# Bounded region of parameter space\n",
    "bounds_LGB = {\n",
    "    'num_leaves': (5, 20), \n",
    "    'min_data_in_leaf': (30, 120),  \n",
    "    #'learning_rate': (0.01, 0.3),\n",
    "    'min_sum_hessian_in_leaf': (0.001, 20),    \n",
    "    'feature_fraction': (0.03, 0.5),\n",
    "    'lambda_l1': (0, 5.0), \n",
    "    'lambda_l2': (0, 5.0), \n",
    "    'min_gain_to_split': (0, 1.0),\n",
    "    'bagging_fraction':(0.2, 0.6),\n",
    "    \"bagging_freq\":(3,10)\n",
    "}"
   ]
  },
  {
   "cell_type": "code",
   "execution_count": null,
   "metadata": {},
   "outputs": [],
   "source": [
    "param = {\n",
    "    'bagging_freq': 5,\n",
    "    'bagging_fraction': 0.335,\n",
    "    'boost_from_average':'false',\n",
    "    'boost': 'gbdt',\n",
    "    'feature_fraction': 0.041,\n",
    "    'learning_rate': 0.0083,\n",
    "    'max_depth': -1,\n",
    "    'metric':'auc',\n",
    "    'min_data_in_leaf': 80,\n",
    "    'min_sum_hessian_in_leaf': 10.0,\n",
    "    'num_leaves': 13,\n",
    "    'num_threads': 8,\n",
    "    'tree_learner': 'serial',\n",
    "    'objective': 'binary', \n",
    "    'verbosity': -1\n",
    "}"
   ]
  },
  {
   "cell_type": "code",
   "execution_count": 91,
   "metadata": {},
   "outputs": [],
   "source": [
    "# BayesianOptimization object\n",
    "LGB_BO = BayesianOptimization(LGB_bayesian, bounds_LGB, random_state=13)"
   ]
  },
  {
   "cell_type": "code",
   "execution_count": 92,
   "metadata": {},
   "outputs": [
    {
     "name": "stdout",
     "output_type": "stream",
     "text": [
      "['bagging_fraction', 'bagging_freq', 'feature_fraction', 'lambda_l1', 'lambda_l2', 'min_data_in_leaf', 'min_gain_to_split', 'min_sum_hessian_in_leaf', 'num_leaves']\n"
     ]
    }
   ],
   "source": [
    "#the parameters we are gaoing to optimise\n",
    "print(LGB_BO.space.keys)"
   ]
  },
  {
   "cell_type": "markdown",
   "metadata": {},
   "source": [
    "\n",
    "    init_points: How many initial random runs of random exploration we want to perform. In our case LGB_bayesian will be called n_iter times.\n",
    "    n_iter: How many runs of bayesian optimization we want to perform after number of init_points runs.\n"
   ]
  },
  {
   "cell_type": "code",
   "execution_count": 93,
   "metadata": {},
   "outputs": [],
   "source": [
    "init_points = 5\n",
    "n_iter = 100"
   ]
  },
  {
   "cell_type": "code",
   "execution_count": 94,
   "metadata": {},
   "outputs": [
    {
     "name": "stdout",
     "output_type": "stream",
     "text": [
      "----------------------------------------------------------------------------------------------------------------------------------\n",
      "|   iter    |  target   | baggin... | baggin... | featur... | lambda_l1 | lambda_l2 | min_da... | min_ga... | min_su... | num_le... |\n",
      "-------------------------------------------------------------------------------------------------------------------------------------\n",
      "Training until validation scores don't improve for 50 rounds.\n",
      "Did not meet early stopping. Best iteration is:\n",
      "[100]\tvalid_0's auc: 0.78505\n",
      "| \u001b[0m 1       \u001b[0m | \u001b[0m 0.7851  \u001b[0m | \u001b[0m 0.5111  \u001b[0m | \u001b[0m 4.663   \u001b[0m | \u001b[0m 0.4174  \u001b[0m | \u001b[0m 4.829   \u001b[0m | \u001b[0m 4.863   \u001b[0m | \u001b[0m 70.81   \u001b[0m | \u001b[0m 0.609   \u001b[0m | \u001b[0m 15.51   \u001b[0m | \u001b[0m 14.62   \u001b[0m |\n",
      "Training until validation scores don't improve for 50 rounds.\n",
      "Did not meet early stopping. Best iteration is:\n",
      "[95]\tvalid_0's auc: 0.814066\n",
      "| \u001b[95m 2       \u001b[0m | \u001b[95m 0.8141  \u001b[0m | \u001b[95m 0.4888  \u001b[0m | \u001b[95m 3.245   \u001b[0m | \u001b[95m 0.1703  \u001b[0m | \u001b[95m 0.2926  \u001b[0m | \u001b[95m 4.285   \u001b[0m | \u001b[95m 63.56   \u001b[0m | \u001b[95m 0.6798  \u001b[0m | \u001b[95m 5.126   \u001b[0m | \u001b[95m 10.21   \u001b[0m |\n",
      "Training until validation scores don't improve for 50 rounds.\n",
      "Did not meet early stopping. Best iteration is:\n",
      "[99]\tvalid_0's auc: 0.794991\n",
      "| \u001b[0m 3       \u001b[0m | \u001b[0m 0.795   \u001b[0m | \u001b[0m 0.2038  \u001b[0m | \u001b[0m 5.508   \u001b[0m | \u001b[0m 0.4761  \u001b[0m | \u001b[0m 1.089   \u001b[0m | \u001b[0m 1.597   \u001b[0m | \u001b[0m 112.6   \u001b[0m | \u001b[0m 0.0319  \u001b[0m | \u001b[0m 1.302   \u001b[0m | \u001b[0m 14.45   \u001b[0m |\n",
      "Training until validation scores don't improve for 50 rounds.\n",
      "Did not meet early stopping. Best iteration is:\n",
      "[99]\tvalid_0's auc: 0.794856\n",
      "| \u001b[0m 4       \u001b[0m | \u001b[0m 0.7949  \u001b[0m | \u001b[0m 0.5495  \u001b[0m | \u001b[0m 3.061   \u001b[0m | \u001b[0m 0.3809  \u001b[0m | \u001b[0m 4.064   \u001b[0m | \u001b[0m 0.3786  \u001b[0m | \u001b[0m 89.08   \u001b[0m | \u001b[0m 0.5093  \u001b[0m | \u001b[0m 9.598   \u001b[0m | \u001b[0m 19.33   \u001b[0m |\n",
      "Training until validation scores don't improve for 50 rounds.\n",
      "Did not meet early stopping. Best iteration is:\n",
      "[100]\tvalid_0's auc: 0.792994\n",
      "| \u001b[0m 5       \u001b[0m | \u001b[0m 0.793   \u001b[0m | \u001b[0m 0.2     \u001b[0m | \u001b[0m 4.729   \u001b[0m | \u001b[0m 0.3647  \u001b[0m | \u001b[0m 1.623   \u001b[0m | \u001b[0m 1.385   \u001b[0m | \u001b[0m 92.59   \u001b[0m | \u001b[0m 0.9186  \u001b[0m | \u001b[0m 4.89    \u001b[0m | \u001b[0m 11.87   \u001b[0m |\n",
      "Training until validation scores don't improve for 50 rounds.\n",
      "Did not meet early stopping. Best iteration is:\n",
      "[100]\tvalid_0's auc: 0.853442\n",
      "| \u001b[95m 6       \u001b[0m | \u001b[95m 0.8534  \u001b[0m | \u001b[95m 0.4809  \u001b[0m | \u001b[95m 9.992   \u001b[0m | \u001b[95m 0.09183 \u001b[0m | \u001b[95m 1.479   \u001b[0m | \u001b[95m 0.2391  \u001b[0m | \u001b[95m 31.67   \u001b[0m | \u001b[95m 0.1533  \u001b[0m | \u001b[95m 0.3646  \u001b[0m | \u001b[95m 17.39   \u001b[0m |\n",
      "Training until validation scores don't improve for 50 rounds.\n",
      "Did not meet early stopping. Best iteration is:\n",
      "[99]\tvalid_0's auc: 0.80104\n",
      "| \u001b[0m 7       \u001b[0m | \u001b[0m 0.801   \u001b[0m | \u001b[0m 0.2687  \u001b[0m | \u001b[0m 3.94    \u001b[0m | \u001b[0m 0.457   \u001b[0m | \u001b[0m 4.709   \u001b[0m | \u001b[0m 2.764   \u001b[0m | \u001b[0m 30.72   \u001b[0m | \u001b[0m 0.7739  \u001b[0m | \u001b[0m 0.3543  \u001b[0m | \u001b[0m 18.4    \u001b[0m |\n",
      "Training until validation scores don't improve for 50 rounds.\n",
      "Did not meet early stopping. Best iteration is:\n",
      "[99]\tvalid_0's auc: 0.723343\n",
      "| \u001b[0m 8       \u001b[0m | \u001b[0m 0.7233  \u001b[0m | \u001b[0m 0.6     \u001b[0m | \u001b[0m 10.0    \u001b[0m | \u001b[0m 0.5     \u001b[0m | \u001b[0m 0.0     \u001b[0m | \u001b[0m 0.0     \u001b[0m | \u001b[0m 30.0    \u001b[0m | \u001b[0m 0.0     \u001b[0m | \u001b[0m 20.0    \u001b[0m | \u001b[0m 5.0     \u001b[0m |\n",
      "Training until validation scores don't improve for 50 rounds.\n",
      "Did not meet early stopping. Best iteration is:\n",
      "[99]\tvalid_0's auc: 0.803556\n",
      "| \u001b[0m 9       \u001b[0m | \u001b[0m 0.8036  \u001b[0m | \u001b[0m 0.2121  \u001b[0m | \u001b[0m 10.0    \u001b[0m | \u001b[0m 0.5     \u001b[0m | \u001b[0m 0.0     \u001b[0m | \u001b[0m 5.0     \u001b[0m | \u001b[0m 71.99   \u001b[0m | \u001b[0m 0.0     \u001b[0m | \u001b[0m 1e-05   \u001b[0m | \u001b[0m 20.0    \u001b[0m |\n",
      "Training until validation scores don't improve for 50 rounds.\n",
      "Did not meet early stopping. Best iteration is:\n",
      "[100]\tvalid_0's auc: 0.837641\n",
      "| \u001b[0m 10      \u001b[0m | \u001b[0m 0.8376  \u001b[0m | \u001b[0m 0.6     \u001b[0m | \u001b[0m 10.0    \u001b[0m | \u001b[0m 0.03    \u001b[0m | \u001b[0m 0.0     \u001b[0m | \u001b[0m 0.0     \u001b[0m | \u001b[0m 120.0   \u001b[0m | \u001b[0m 0.0     \u001b[0m | \u001b[0m 20.0    \u001b[0m | \u001b[0m 5.0     \u001b[0m |\n",
      "Training until validation scores don't improve for 50 rounds.\n",
      "Did not meet early stopping. Best iteration is:\n",
      "[100]\tvalid_0's auc: 0.837403\n",
      "| \u001b[0m 11      \u001b[0m | \u001b[0m 0.8374  \u001b[0m | \u001b[0m 0.6     \u001b[0m | \u001b[0m 10.0    \u001b[0m | \u001b[0m 0.03    \u001b[0m | \u001b[0m 5.0     \u001b[0m | \u001b[0m 0.0     \u001b[0m | \u001b[0m 52.15   \u001b[0m | \u001b[0m 0.0     \u001b[0m | \u001b[0m 1e-05   \u001b[0m | \u001b[0m 5.0     \u001b[0m |\n",
      "Training until validation scores don't improve for 50 rounds.\n",
      "Did not meet early stopping. Best iteration is:\n",
      "[100]\tvalid_0's auc: 0.850587\n",
      "| \u001b[0m 12      \u001b[0m | \u001b[0m 0.8506  \u001b[0m | \u001b[0m 0.6     \u001b[0m | \u001b[0m 3.0     \u001b[0m | \u001b[0m 0.03    \u001b[0m | \u001b[0m 0.0     \u001b[0m | \u001b[0m 5.0     \u001b[0m | \u001b[0m 120.0   \u001b[0m | \u001b[0m 1.0     \u001b[0m | \u001b[0m 20.0    \u001b[0m | \u001b[0m 20.0    \u001b[0m |\n",
      "Training until validation scores don't improve for 50 rounds.\n",
      "Did not meet early stopping. Best iteration is:\n",
      "[100]\tvalid_0's auc: 0.837829\n",
      "| \u001b[0m 13      \u001b[0m | \u001b[0m 0.8378  \u001b[0m | \u001b[0m 0.6     \u001b[0m | \u001b[0m 10.0    \u001b[0m | \u001b[0m 0.03    \u001b[0m | \u001b[0m 0.0     \u001b[0m | \u001b[0m 5.0     \u001b[0m | \u001b[0m 30.0    \u001b[0m | \u001b[0m 0.0     \u001b[0m | \u001b[0m 1e-05   \u001b[0m | \u001b[0m 5.0     \u001b[0m |\n",
      "Training until validation scores don't improve for 50 rounds.\n",
      "Did not meet early stopping. Best iteration is:\n",
      "[100]\tvalid_0's auc: 0.834881\n",
      "| \u001b[0m 14      \u001b[0m | \u001b[0m 0.8349  \u001b[0m | \u001b[0m 0.4017  \u001b[0m | \u001b[0m 3.0     \u001b[0m | \u001b[0m 0.03    \u001b[0m | \u001b[0m 5.0     \u001b[0m | \u001b[0m 5.0     \u001b[0m | \u001b[0m 120.0   \u001b[0m | \u001b[0m 0.0     \u001b[0m | \u001b[0m 18.76   \u001b[0m | \u001b[0m 5.0     \u001b[0m |\n",
      "Training until validation scores don't improve for 50 rounds.\n",
      "Did not meet early stopping. Best iteration is:\n",
      "[100]\tvalid_0's auc: 0.850412\n",
      "| \u001b[0m 15      \u001b[0m | \u001b[0m 0.8504  \u001b[0m | \u001b[0m 0.6     \u001b[0m | \u001b[0m 3.0     \u001b[0m | \u001b[0m 0.03    \u001b[0m | \u001b[0m 0.0     \u001b[0m | \u001b[0m 0.0     \u001b[0m | \u001b[0m 120.0   \u001b[0m | \u001b[0m 0.0     \u001b[0m | \u001b[0m 20.0    \u001b[0m | \u001b[0m 20.0    \u001b[0m |\n",
      "Training until validation scores don't improve for 50 rounds.\n",
      "Did not meet early stopping. Best iteration is:\n",
      "[99]\tvalid_0's auc: 0.786439\n",
      "| \u001b[0m 16      \u001b[0m | \u001b[0m 0.7864  \u001b[0m | \u001b[0m 0.5796  \u001b[0m | \u001b[0m 9.88    \u001b[0m | \u001b[0m 0.4407  \u001b[0m | \u001b[0m 4.377   \u001b[0m | \u001b[0m 2.007   \u001b[0m | \u001b[0m 119.9   \u001b[0m | \u001b[0m 0.2685  \u001b[0m | \u001b[0m 19.63   \u001b[0m | \u001b[0m 18.6    \u001b[0m |\n",
      "Training until validation scores don't improve for 50 rounds.\n",
      "Did not meet early stopping. Best iteration is:\n",
      "[100]\tvalid_0's auc: 0.849449\n",
      "| \u001b[0m 17      \u001b[0m | \u001b[0m 0.8494  \u001b[0m | \u001b[0m 0.578   \u001b[0m | \u001b[0m 10.0    \u001b[0m | \u001b[0m 0.03    \u001b[0m | \u001b[0m 0.9954  \u001b[0m | \u001b[0m 0.4811  \u001b[0m | \u001b[0m 43.25   \u001b[0m | \u001b[0m 0.8724  \u001b[0m | \u001b[0m 0.3422  \u001b[0m | \u001b[0m 17.74   \u001b[0m |\n",
      "Training until validation scores don't improve for 50 rounds.\n",
      "Did not meet early stopping. Best iteration is:\n",
      "[95]\tvalid_0's auc: 0.786366\n",
      "| \u001b[0m 18      \u001b[0m | \u001b[0m 0.7864  \u001b[0m | \u001b[0m 0.226   \u001b[0m | \u001b[0m 8.928   \u001b[0m | \u001b[0m 0.1746  \u001b[0m | \u001b[0m 0.2323  \u001b[0m | \u001b[0m 0.0631  \u001b[0m | \u001b[0m 40.61   \u001b[0m | \u001b[0m 0.1377  \u001b[0m | \u001b[0m 0.3759  \u001b[0m | \u001b[0m 5.248   \u001b[0m |\n",
      "Training until validation scores don't improve for 50 rounds.\n",
      "Did not meet early stopping. Best iteration is:\n",
      "[100]\tvalid_0's auc: 0.85062\n",
      "| \u001b[0m 19      \u001b[0m | \u001b[0m 0.8506  \u001b[0m | \u001b[0m 0.6     \u001b[0m | \u001b[0m 10.0    \u001b[0m | \u001b[0m 0.03    \u001b[0m | \u001b[0m 5.0     \u001b[0m | \u001b[0m 5.0     \u001b[0m | \u001b[0m 30.0    \u001b[0m | \u001b[0m 0.0     \u001b[0m | \u001b[0m 19.3    \u001b[0m | \u001b[0m 20.0    \u001b[0m |\n",
      "Training until validation scores don't improve for 50 rounds.\n",
      "Did not meet early stopping. Best iteration is:\n",
      "[100]\tvalid_0's auc: 0.835008\n",
      "| \u001b[0m 20      \u001b[0m | \u001b[0m 0.835   \u001b[0m | \u001b[0m 0.6     \u001b[0m | \u001b[0m 3.0     \u001b[0m | \u001b[0m 0.03    \u001b[0m | \u001b[0m 0.0     \u001b[0m | \u001b[0m 5.0     \u001b[0m | \u001b[0m 120.0   \u001b[0m | \u001b[0m 1.0     \u001b[0m | \u001b[0m 1e-05   \u001b[0m | \u001b[0m 5.0     \u001b[0m |\n",
      "Training until validation scores don't improve for 50 rounds.\n",
      "Did not meet early stopping. Best iteration is:\n",
      "[100]\tvalid_0's auc: 0.830892\n",
      "| \u001b[0m 21      \u001b[0m | \u001b[0m 0.8309  \u001b[0m | \u001b[0m 0.2442  \u001b[0m | \u001b[0m 9.971   \u001b[0m | \u001b[0m 0.2128  \u001b[0m | \u001b[0m 4.782   \u001b[0m | \u001b[0m 4.33    \u001b[0m | \u001b[0m 36.69   \u001b[0m | \u001b[0m 0.3716  \u001b[0m | \u001b[0m 0.3027  \u001b[0m | \u001b[0m 19.54   \u001b[0m |\n",
      "Training until validation scores don't improve for 50 rounds.\n",
      "Did not meet early stopping. Best iteration is:\n",
      "[100]\tvalid_0's auc: 0.850025\n",
      "| \u001b[0m 22      \u001b[0m | \u001b[0m 0.85    \u001b[0m | \u001b[0m 0.6     \u001b[0m | \u001b[0m 10.0    \u001b[0m | \u001b[0m 0.03    \u001b[0m | \u001b[0m 0.0     \u001b[0m | \u001b[0m 5.0     \u001b[0m | \u001b[0m 30.0    \u001b[0m | \u001b[0m 1.0     \u001b[0m | \u001b[0m 10.18   \u001b[0m | \u001b[0m 20.0    \u001b[0m |\n"
     ]
    },
    {
     "name": "stdout",
     "output_type": "stream",
     "text": [
      "Training until validation scores don't improve for 50 rounds.\n",
      "Did not meet early stopping. Best iteration is:\n",
      "[100]\tvalid_0's auc: 0.849521\n",
      "| \u001b[0m 23      \u001b[0m | \u001b[0m 0.8495  \u001b[0m | \u001b[0m 0.6     \u001b[0m | \u001b[0m 10.0    \u001b[0m | \u001b[0m 0.03    \u001b[0m | \u001b[0m 0.0     \u001b[0m | \u001b[0m 0.0     \u001b[0m | \u001b[0m 62.55   \u001b[0m | \u001b[0m 1.0     \u001b[0m | \u001b[0m 20.0    \u001b[0m | \u001b[0m 20.0    \u001b[0m |\n",
      "Training until validation scores don't improve for 50 rounds.\n",
      "Did not meet early stopping. Best iteration is:\n",
      "[100]\tvalid_0's auc: 0.835008\n",
      "| \u001b[0m 24      \u001b[0m | \u001b[0m 0.835   \u001b[0m | \u001b[0m 0.6     \u001b[0m | \u001b[0m 3.0     \u001b[0m | \u001b[0m 0.03    \u001b[0m | \u001b[0m 0.0     \u001b[0m | \u001b[0m 5.0     \u001b[0m | \u001b[0m 105.5   \u001b[0m | \u001b[0m 0.0     \u001b[0m | \u001b[0m 20.0    \u001b[0m | \u001b[0m 5.0     \u001b[0m |\n",
      "Training until validation scores don't improve for 50 rounds.\n",
      "Did not meet early stopping. Best iteration is:\n",
      "[100]\tvalid_0's auc: 0.835053\n",
      "| \u001b[0m 25      \u001b[0m | \u001b[0m 0.8351  \u001b[0m | \u001b[0m 0.6     \u001b[0m | \u001b[0m 9.358   \u001b[0m | \u001b[0m 0.03    \u001b[0m | \u001b[0m 3.584   \u001b[0m | \u001b[0m 0.0     \u001b[0m | \u001b[0m 70.19   \u001b[0m | \u001b[0m 1.0     \u001b[0m | \u001b[0m 1e-05   \u001b[0m | \u001b[0m 5.282   \u001b[0m |\n",
      "Training until validation scores don't improve for 50 rounds.\n",
      "Did not meet early stopping. Best iteration is:\n",
      "[100]\tvalid_0's auc: 0.841185\n",
      "| \u001b[0m 26      \u001b[0m | \u001b[0m 0.8412  \u001b[0m | \u001b[0m 0.6     \u001b[0m | \u001b[0m 3.0     \u001b[0m | \u001b[0m 0.03    \u001b[0m | \u001b[0m 0.0     \u001b[0m | \u001b[0m 0.1077  \u001b[0m | \u001b[0m 117.4   \u001b[0m | \u001b[0m 1.0     \u001b[0m | \u001b[0m 12.21   \u001b[0m | \u001b[0m 6.858   \u001b[0m |\n",
      "Training until validation scores don't improve for 50 rounds.\n",
      "Did not meet early stopping. Best iteration is:\n",
      "[100]\tvalid_0's auc: 0.808238\n",
      "| \u001b[0m 27      \u001b[0m | \u001b[0m 0.8082  \u001b[0m | \u001b[0m 0.5725  \u001b[0m | \u001b[0m 4.258   \u001b[0m | \u001b[0m 0.3031  \u001b[0m | \u001b[0m 0.6975  \u001b[0m | \u001b[0m 0.00751 \u001b[0m | \u001b[0m 65.71   \u001b[0m | \u001b[0m 0.7689  \u001b[0m | \u001b[0m 0.3747  \u001b[0m | \u001b[0m 19.25   \u001b[0m |\n",
      "Training until validation scores don't improve for 50 rounds.\n",
      "Did not meet early stopping. Best iteration is:\n",
      "[100]\tvalid_0's auc: 0.850012\n",
      "| \u001b[0m 28      \u001b[0m | \u001b[0m 0.85    \u001b[0m | \u001b[0m 0.6     \u001b[0m | \u001b[0m 10.0    \u001b[0m | \u001b[0m 0.03    \u001b[0m | \u001b[0m 0.0     \u001b[0m | \u001b[0m 5.0     \u001b[0m | \u001b[0m 50.1    \u001b[0m | \u001b[0m 1.0     \u001b[0m | \u001b[0m 20.0    \u001b[0m | \u001b[0m 20.0    \u001b[0m |\n",
      "Training until validation scores don't improve for 50 rounds.\n",
      "Did not meet early stopping. Best iteration is:\n",
      "[100]\tvalid_0's auc: 0.850667\n",
      "| \u001b[0m 29      \u001b[0m | \u001b[0m 0.8507  \u001b[0m | \u001b[0m 0.6     \u001b[0m | \u001b[0m 10.0    \u001b[0m | \u001b[0m 0.03    \u001b[0m | \u001b[0m 0.0     \u001b[0m | \u001b[0m 5.0     \u001b[0m | \u001b[0m 94.22   \u001b[0m | \u001b[0m 0.06921 \u001b[0m | \u001b[0m 19.77   \u001b[0m | \u001b[0m 19.67   \u001b[0m |\n",
      "Training until validation scores don't improve for 50 rounds.\n",
      "Did not meet early stopping. Best iteration is:\n",
      "[100]\tvalid_0's auc: 0.837245\n",
      "| \u001b[0m 30      \u001b[0m | \u001b[0m 0.8372  \u001b[0m | \u001b[0m 0.2704  \u001b[0m | \u001b[0m 3.656   \u001b[0m | \u001b[0m 0.03025 \u001b[0m | \u001b[0m 0.4209  \u001b[0m | \u001b[0m 0.1637  \u001b[0m | \u001b[0m 108.7   \u001b[0m | \u001b[0m 0.4805  \u001b[0m | \u001b[0m 19.86   \u001b[0m | \u001b[0m 19.42   \u001b[0m |\n",
      "Training until validation scores don't improve for 50 rounds.\n",
      "Did not meet early stopping. Best iteration is:\n",
      "[100]\tvalid_0's auc: 0.850372\n",
      "| \u001b[0m 31      \u001b[0m | \u001b[0m 0.8504  \u001b[0m | \u001b[0m 0.6     \u001b[0m | \u001b[0m 10.0    \u001b[0m | \u001b[0m 0.03    \u001b[0m | \u001b[0m 3.906   \u001b[0m | \u001b[0m 0.0     \u001b[0m | \u001b[0m 42.28   \u001b[0m | \u001b[0m 0.0     \u001b[0m | \u001b[0m 8.979   \u001b[0m | \u001b[0m 20.0    \u001b[0m |\n",
      "Training until validation scores don't improve for 50 rounds.\n",
      "Did not meet early stopping. Best iteration is:\n",
      "[100]\tvalid_0's auc: 0.847849\n",
      "| \u001b[0m 32      \u001b[0m | \u001b[0m 0.8478  \u001b[0m | \u001b[0m 0.6     \u001b[0m | \u001b[0m 10.0    \u001b[0m | \u001b[0m 0.03    \u001b[0m | \u001b[0m 0.0     \u001b[0m | \u001b[0m 3.922   \u001b[0m | \u001b[0m 69.51   \u001b[0m | \u001b[0m 0.0     \u001b[0m | \u001b[0m 14.02   \u001b[0m | \u001b[0m 8.152   \u001b[0m |\n",
      "Training until validation scores don't improve for 50 rounds.\n",
      "Did not meet early stopping. Best iteration is:\n",
      "[100]\tvalid_0's auc: 0.85073\n",
      "| \u001b[0m 33      \u001b[0m | \u001b[0m 0.8507  \u001b[0m | \u001b[0m 0.6     \u001b[0m | \u001b[0m 3.0     \u001b[0m | \u001b[0m 0.03    \u001b[0m | \u001b[0m 0.0     \u001b[0m | \u001b[0m 5.0     \u001b[0m | \u001b[0m 30.0    \u001b[0m | \u001b[0m 0.0     \u001b[0m | \u001b[0m 20.0    \u001b[0m | \u001b[0m 20.0    \u001b[0m |\n",
      "Training until validation scores don't improve for 50 rounds.\n",
      "Did not meet early stopping. Best iteration is:\n",
      "[100]\tvalid_0's auc: 0.789209\n",
      "| \u001b[0m 34      \u001b[0m | \u001b[0m 0.7892  \u001b[0m | \u001b[0m 0.555   \u001b[0m | \u001b[0m 9.5     \u001b[0m | \u001b[0m 0.4693  \u001b[0m | \u001b[0m 0.6499  \u001b[0m | \u001b[0m 0.5151  \u001b[0m | \u001b[0m 51.92   \u001b[0m | \u001b[0m 0.004752\u001b[0m | \u001b[0m 3.838   \u001b[0m | \u001b[0m 19.28   \u001b[0m |\n",
      "Training until validation scores don't improve for 50 rounds.\n",
      "Did not meet early stopping. Best iteration is:\n",
      "[100]\tvalid_0's auc: 0.837641\n",
      "| \u001b[0m 35      \u001b[0m | \u001b[0m 0.8376  \u001b[0m | \u001b[0m 0.6     \u001b[0m | \u001b[0m 10.0    \u001b[0m | \u001b[0m 0.03    \u001b[0m | \u001b[0m 1.073e-0\u001b[0m | \u001b[0m 0.0     \u001b[0m | \u001b[0m 79.87   \u001b[0m | \u001b[0m 1.0     \u001b[0m | \u001b[0m 20.0    \u001b[0m | \u001b[0m 5.0     \u001b[0m |\n",
      "Training until validation scores don't improve for 50 rounds.\n",
      "Did not meet early stopping. Best iteration is:\n",
      "[100]\tvalid_0's auc: 0.850885\n",
      "| \u001b[0m 36      \u001b[0m | \u001b[0m 0.8509  \u001b[0m | \u001b[0m 0.6     \u001b[0m | \u001b[0m 4.4     \u001b[0m | \u001b[0m 0.03    \u001b[0m | \u001b[0m 5.0     \u001b[0m | \u001b[0m 0.0     \u001b[0m | \u001b[0m 30.0    \u001b[0m | \u001b[0m 1.0     \u001b[0m | \u001b[0m 20.0    \u001b[0m | \u001b[0m 20.0    \u001b[0m |\n",
      "Training until validation scores don't improve for 50 rounds.\n",
      "Did not meet early stopping. Best iteration is:\n",
      "[100]\tvalid_0's auc: 0.835008\n",
      "| \u001b[0m 37      \u001b[0m | \u001b[0m 0.835   \u001b[0m | \u001b[0m 0.6     \u001b[0m | \u001b[0m 3.0     \u001b[0m | \u001b[0m 0.03    \u001b[0m | \u001b[0m 0.4244  \u001b[0m | \u001b[0m 5.0     \u001b[0m | \u001b[0m 62.35   \u001b[0m | \u001b[0m 1.0     \u001b[0m | \u001b[0m 20.0    \u001b[0m | \u001b[0m 5.405   \u001b[0m |\n",
      "Training until validation scores don't improve for 50 rounds.\n",
      "Did not meet early stopping. Best iteration is:\n",
      "[100]\tvalid_0's auc: 0.849407\n",
      "| \u001b[0m 38      \u001b[0m | \u001b[0m 0.8494  \u001b[0m | \u001b[0m 0.6     \u001b[0m | \u001b[0m 10.0    \u001b[0m | \u001b[0m 0.03    \u001b[0m | \u001b[0m 1.793e-1\u001b[0m | \u001b[0m 0.0     \u001b[0m | \u001b[0m 30.0    \u001b[0m | \u001b[0m 1.0     \u001b[0m | \u001b[0m 20.0    \u001b[0m | \u001b[0m 20.0    \u001b[0m |\n",
      "Training until validation scores don't improve for 50 rounds.\n",
      "Did not meet early stopping. Best iteration is:\n",
      "[100]\tvalid_0's auc: 0.85071\n",
      "| \u001b[0m 39      \u001b[0m | \u001b[0m 0.8507  \u001b[0m | \u001b[0m 0.6     \u001b[0m | \u001b[0m 3.0     \u001b[0m | \u001b[0m 0.03    \u001b[0m | \u001b[0m 0.0     \u001b[0m | \u001b[0m 2.752   \u001b[0m | \u001b[0m 120.0   \u001b[0m | \u001b[0m 1.0     \u001b[0m | \u001b[0m 0.8241  \u001b[0m | \u001b[0m 20.0    \u001b[0m |\n",
      "Training until validation scores don't improve for 50 rounds.\n",
      "Did not meet early stopping. Best iteration is:\n",
      "[100]\tvalid_0's auc: 0.849492\n",
      "| \u001b[0m 40      \u001b[0m | \u001b[0m 0.8495  \u001b[0m | \u001b[0m 0.6     \u001b[0m | \u001b[0m 10.0    \u001b[0m | \u001b[0m 0.03    \u001b[0m | \u001b[0m 0.0     \u001b[0m | \u001b[0m 0.0     \u001b[0m | \u001b[0m 88.32   \u001b[0m | \u001b[0m 1.0     \u001b[0m | \u001b[0m 0.1682  \u001b[0m | \u001b[0m 19.09   \u001b[0m |\n",
      "Training until validation scores don't improve for 50 rounds.\n",
      "Did not meet early stopping. Best iteration is:\n",
      "[96]\tvalid_0's auc: 0.832154\n",
      "| \u001b[0m 41      \u001b[0m | \u001b[0m 0.8322  \u001b[0m | \u001b[0m 0.4956  \u001b[0m | \u001b[0m 9.782   \u001b[0m | \u001b[0m 0.1331  \u001b[0m | \u001b[0m 4.917   \u001b[0m | \u001b[0m 4.341   \u001b[0m | \u001b[0m 43.11   \u001b[0m | \u001b[0m 0.8308  \u001b[0m | \u001b[0m 19.35   \u001b[0m | \u001b[0m 12.93   \u001b[0m |\n",
      "Training until validation scores don't improve for 50 rounds.\n",
      "Did not meet early stopping. Best iteration is:\n",
      "[100]\tvalid_0's auc: 0.825263\n",
      "| \u001b[0m 42      \u001b[0m | \u001b[0m 0.8253  \u001b[0m | \u001b[0m 0.412   \u001b[0m | \u001b[0m 3.582   \u001b[0m | \u001b[0m 0.2395  \u001b[0m | \u001b[0m 0.2823  \u001b[0m | \u001b[0m 0.1457  \u001b[0m | \u001b[0m 80.49   \u001b[0m | \u001b[0m 0.5555  \u001b[0m | \u001b[0m 19.19   \u001b[0m | \u001b[0m 18.8    \u001b[0m |\n",
      "Training until validation scores don't improve for 50 rounds.\n",
      "Did not meet early stopping. Best iteration is:\n",
      "[100]\tvalid_0's auc: 0.851057\n",
      "| \u001b[0m 43      \u001b[0m | \u001b[0m 0.8511  \u001b[0m | \u001b[0m 0.6     \u001b[0m | \u001b[0m 3.0     \u001b[0m | \u001b[0m 0.03    \u001b[0m | \u001b[0m 0.0     \u001b[0m | \u001b[0m 4.769   \u001b[0m | \u001b[0m 104.6   \u001b[0m | \u001b[0m 0.8714  \u001b[0m | \u001b[0m 4.078   \u001b[0m | \u001b[0m 19.19   \u001b[0m |\n",
      "Training until validation scores don't improve for 50 rounds.\n",
      "Did not meet early stopping. Best iteration is:\n",
      "[100]\tvalid_0's auc: 0.83503\n",
      "| \u001b[0m 44      \u001b[0m | \u001b[0m 0.835   \u001b[0m | \u001b[0m 0.6     \u001b[0m | \u001b[0m 9.864   \u001b[0m | \u001b[0m 0.03    \u001b[0m | \u001b[0m 1.526e-0\u001b[0m | \u001b[0m 5.0     \u001b[0m | \u001b[0m 100.6   \u001b[0m | \u001b[0m 1.0     \u001b[0m | \u001b[0m 1.003e-0\u001b[0m | \u001b[0m 5.0     \u001b[0m |\n",
      "Training until validation scores don't improve for 50 rounds.\n",
      "Did not meet early stopping. Best iteration is:\n",
      "[98]\tvalid_0's auc: 0.805644\n",
      "| \u001b[0m 45      \u001b[0m | \u001b[0m 0.8056  \u001b[0m | \u001b[0m 0.4933  \u001b[0m | \u001b[0m 5.628   \u001b[0m | \u001b[0m 0.1207  \u001b[0m | \u001b[0m 0.02651 \u001b[0m | \u001b[0m 4.764   \u001b[0m | \u001b[0m 80.33   \u001b[0m | \u001b[0m 0.864   \u001b[0m | \u001b[0m 0.1662  \u001b[0m | \u001b[0m 6.061   \u001b[0m |\n"
     ]
    },
    {
     "name": "stdout",
     "output_type": "stream",
     "text": [
      "Training until validation scores don't improve for 50 rounds.\n",
      "Did not meet early stopping. Best iteration is:\n",
      "[100]\tvalid_0's auc: 0.850734\n",
      "| \u001b[0m 46      \u001b[0m | \u001b[0m 0.8507  \u001b[0m | \u001b[0m 0.6     \u001b[0m | \u001b[0m 10.0    \u001b[0m | \u001b[0m 0.03    \u001b[0m | \u001b[0m 0.0     \u001b[0m | \u001b[0m 5.0     \u001b[0m | \u001b[0m 97.95   \u001b[0m | \u001b[0m 1.0     \u001b[0m | \u001b[0m 1.002e-0\u001b[0m | \u001b[0m 19.29   \u001b[0m |\n",
      "Training until validation scores don't improve for 50 rounds.\n",
      "Did not meet early stopping. Best iteration is:\n",
      "[100]\tvalid_0's auc: 0.849684\n",
      "| \u001b[0m 47      \u001b[0m | \u001b[0m 0.8497  \u001b[0m | \u001b[0m 0.6     \u001b[0m | \u001b[0m 7.781   \u001b[0m | \u001b[0m 0.03    \u001b[0m | \u001b[0m 0.6049  \u001b[0m | \u001b[0m 5.0     \u001b[0m | \u001b[0m 119.3   \u001b[0m | \u001b[0m 0.9773  \u001b[0m | \u001b[0m 10.6    \u001b[0m | \u001b[0m 10.55   \u001b[0m |\n",
      "Training until validation scores don't improve for 50 rounds.\n",
      "Did not meet early stopping. Best iteration is:\n",
      "[100]\tvalid_0's auc: 0.851246\n",
      "| \u001b[0m 48      \u001b[0m | \u001b[0m 0.8512  \u001b[0m | \u001b[0m 0.6     \u001b[0m | \u001b[0m 3.975   \u001b[0m | \u001b[0m 0.03    \u001b[0m | \u001b[0m 2.789   \u001b[0m | \u001b[0m 0.4504  \u001b[0m | \u001b[0m 47.53   \u001b[0m | \u001b[0m 0.6563  \u001b[0m | \u001b[0m 19.74   \u001b[0m | \u001b[0m 19.89   \u001b[0m |\n",
      "Training until validation scores don't improve for 50 rounds.\n",
      "Did not meet early stopping. Best iteration is:\n",
      "[100]\tvalid_0's auc: 0.851729\n",
      "| \u001b[0m 49      \u001b[0m | \u001b[0m 0.8517  \u001b[0m | \u001b[0m 0.6     \u001b[0m | \u001b[0m 10.0    \u001b[0m | \u001b[0m 0.03    \u001b[0m | \u001b[0m 5.0     \u001b[0m | \u001b[0m 2.961   \u001b[0m | \u001b[0m 31.73   \u001b[0m | \u001b[0m 0.9729  \u001b[0m | \u001b[0m 6.427   \u001b[0m | \u001b[0m 14.15   \u001b[0m |\n",
      "Training until validation scores don't improve for 50 rounds.\n",
      "Did not meet early stopping. Best iteration is:\n",
      "[100]\tvalid_0's auc: 0.840816\n",
      "| \u001b[0m 50      \u001b[0m | \u001b[0m 0.8408  \u001b[0m | \u001b[0m 0.5659  \u001b[0m | \u001b[0m 4.757   \u001b[0m | \u001b[0m 0.0735  \u001b[0m | \u001b[0m 0.3396  \u001b[0m | \u001b[0m 4.936   \u001b[0m | \u001b[0m 119.5   \u001b[0m | \u001b[0m 0.8391  \u001b[0m | \u001b[0m 19.17   \u001b[0m | \u001b[0m 7.096   \u001b[0m |\n",
      "Training until validation scores don't improve for 50 rounds.\n",
      "Did not meet early stopping. Best iteration is:\n",
      "[100]\tvalid_0's auc: 0.836355\n",
      "| \u001b[0m 51      \u001b[0m | \u001b[0m 0.8364  \u001b[0m | \u001b[0m 0.2     \u001b[0m | \u001b[0m 10.0    \u001b[0m | \u001b[0m 0.03    \u001b[0m | \u001b[0m 5.0     \u001b[0m | \u001b[0m 0.0     \u001b[0m | \u001b[0m 30.0    \u001b[0m | \u001b[0m 1.0     \u001b[0m | \u001b[0m 1e-05   \u001b[0m | \u001b[0m 5.0     \u001b[0m |\n",
      "Training until validation scores don't improve for 50 rounds.\n",
      "Did not meet early stopping. Best iteration is:\n",
      "[100]\tvalid_0's auc: 0.837963\n",
      "| \u001b[0m 52      \u001b[0m | \u001b[0m 0.838   \u001b[0m | \u001b[0m 0.3717  \u001b[0m | \u001b[0m 9.607   \u001b[0m | \u001b[0m 0.03547 \u001b[0m | \u001b[0m 0.6179  \u001b[0m | \u001b[0m 4.454   \u001b[0m | \u001b[0m 119.9   \u001b[0m | \u001b[0m 0.627   \u001b[0m | \u001b[0m 6.88    \u001b[0m | \u001b[0m 5.088   \u001b[0m |\n",
      "Training until validation scores don't improve for 50 rounds.\n",
      "Did not meet early stopping. Best iteration is:\n",
      "[98]\tvalid_0's auc: 0.862647\n",
      "| \u001b[95m 53      \u001b[0m | \u001b[95m 0.8626  \u001b[0m | \u001b[95m 0.5626  \u001b[0m | \u001b[95m 9.523   \u001b[0m | \u001b[95m 0.05239 \u001b[0m | \u001b[95m 0.07048 \u001b[0m | \u001b[95m 4.86    \u001b[0m | \u001b[95m 94.39   \u001b[0m | \u001b[95m 0.6004  \u001b[0m | \u001b[95m 11.91   \u001b[0m | \u001b[95m 19.58   \u001b[0m |\n",
      "Training until validation scores don't improve for 50 rounds.\n",
      "Did not meet early stopping. Best iteration is:\n",
      "[82]\tvalid_0's auc: 0.81072\n",
      "| \u001b[0m 54      \u001b[0m | \u001b[0m 0.8107  \u001b[0m | \u001b[0m 0.5959  \u001b[0m | \u001b[0m 9.934   \u001b[0m | \u001b[0m 0.08956 \u001b[0m | \u001b[0m 1.82    \u001b[0m | \u001b[0m 4.715   \u001b[0m | \u001b[0m 99.12   \u001b[0m | \u001b[0m 0.9713  \u001b[0m | \u001b[0m 15.63   \u001b[0m | \u001b[0m 5.869   \u001b[0m |\n",
      "Training until validation scores don't improve for 50 rounds.\n",
      "Did not meet early stopping. Best iteration is:\n",
      "[94]\tvalid_0's auc: 0.841875\n",
      "| \u001b[0m 55      \u001b[0m | \u001b[0m 0.8419  \u001b[0m | \u001b[0m 0.5835  \u001b[0m | \u001b[0m 3.12    \u001b[0m | \u001b[0m 0.127   \u001b[0m | \u001b[0m 1.089   \u001b[0m | \u001b[0m 4.864   \u001b[0m | \u001b[0m 119.6   \u001b[0m | \u001b[0m 0.2932  \u001b[0m | \u001b[0m 10.27   \u001b[0m | \u001b[0m 18.89   \u001b[0m |\n",
      "Training until validation scores don't improve for 50 rounds.\n",
      "Did not meet early stopping. Best iteration is:\n",
      "[98]\tvalid_0's auc: 0.858804\n",
      "| \u001b[0m 56      \u001b[0m | \u001b[0m 0.8588  \u001b[0m | \u001b[0m 0.3704  \u001b[0m | \u001b[0m 9.55    \u001b[0m | \u001b[0m 0.05277 \u001b[0m | \u001b[0m 0.0617  \u001b[0m | \u001b[0m 1.611   \u001b[0m | \u001b[0m 116.9   \u001b[0m | \u001b[0m 0.857   \u001b[0m | \u001b[0m 5.675   \u001b[0m | \u001b[0m 19.59   \u001b[0m |\n",
      "Training until validation scores don't improve for 50 rounds.\n",
      "Did not meet early stopping. Best iteration is:\n",
      "[87]\tvalid_0's auc: 0.857621\n",
      "| \u001b[0m 57      \u001b[0m | \u001b[0m 0.8576  \u001b[0m | \u001b[0m 0.3806  \u001b[0m | \u001b[0m 9.847   \u001b[0m | \u001b[0m 0.08038 \u001b[0m | \u001b[0m 0.3889  \u001b[0m | \u001b[0m 0.4046  \u001b[0m | \u001b[0m 93.85   \u001b[0m | \u001b[0m 0.418   \u001b[0m | \u001b[0m 12.46   \u001b[0m | \u001b[0m 19.97   \u001b[0m |\n",
      "Training until validation scores don't improve for 50 rounds.\n",
      "Did not meet early stopping. Best iteration is:\n",
      "[100]\tvalid_0's auc: 0.829249\n",
      "| \u001b[0m 58      \u001b[0m | \u001b[0m 0.8292  \u001b[0m | \u001b[0m 0.2     \u001b[0m | \u001b[0m 10.0    \u001b[0m | \u001b[0m 0.03    \u001b[0m | \u001b[0m 0.0     \u001b[0m | \u001b[0m 1.976e-0\u001b[0m | \u001b[0m 120.0   \u001b[0m | \u001b[0m 1.0     \u001b[0m | \u001b[0m 1.028e-0\u001b[0m | \u001b[0m 18.89   \u001b[0m |\n",
      "Training until validation scores don't improve for 50 rounds.\n",
      "Did not meet early stopping. Best iteration is:\n",
      "[98]\tvalid_0's auc: 0.862999\n",
      "| \u001b[95m 59      \u001b[0m | \u001b[95m 0.863   \u001b[0m | \u001b[95m 0.591   \u001b[0m | \u001b[95m 9.917   \u001b[0m | \u001b[95m 0.0534  \u001b[0m | \u001b[95m 0.1721  \u001b[0m | \u001b[95m 4.908   \u001b[0m | \u001b[95m 107.1   \u001b[0m | \u001b[95m 0.4172  \u001b[0m | \u001b[95m 14.88   \u001b[0m | \u001b[95m 19.88   \u001b[0m |\n",
      "Training until validation scores don't improve for 50 rounds.\n",
      "Did not meet early stopping. Best iteration is:\n",
      "[100]\tvalid_0's auc: 0.840575\n",
      "| \u001b[0m 60      \u001b[0m | \u001b[0m 0.8406  \u001b[0m | \u001b[0m 0.4397  \u001b[0m | \u001b[0m 9.812   \u001b[0m | \u001b[0m 0.1491  \u001b[0m | \u001b[0m 4.222   \u001b[0m | \u001b[0m 0.2728  \u001b[0m | \u001b[0m 43.68   \u001b[0m | \u001b[0m 0.8895  \u001b[0m | \u001b[0m 19.9    \u001b[0m | \u001b[0m 19.85   \u001b[0m |\n",
      "Training until validation scores don't improve for 50 rounds.\n",
      "Did not meet early stopping. Best iteration is:\n",
      "[100]\tvalid_0's auc: 0.862296\n",
      "| \u001b[0m 61      \u001b[0m | \u001b[0m 0.8623  \u001b[0m | \u001b[0m 0.5397  \u001b[0m | \u001b[0m 3.602   \u001b[0m | \u001b[0m 0.06244 \u001b[0m | \u001b[0m 4.052   \u001b[0m | \u001b[0m 3.865   \u001b[0m | \u001b[0m 38.96   \u001b[0m | \u001b[0m 0.934   \u001b[0m | \u001b[0m 19.17   \u001b[0m | \u001b[0m 19.72   \u001b[0m |\n",
      "Training until validation scores don't improve for 50 rounds.\n",
      "Did not meet early stopping. Best iteration is:\n",
      "[87]\tvalid_0's auc: 0.857579\n",
      "| \u001b[0m 62      \u001b[0m | \u001b[0m 0.8576  \u001b[0m | \u001b[0m 0.5481  \u001b[0m | \u001b[0m 9.818   \u001b[0m | \u001b[0m 0.08033 \u001b[0m | \u001b[0m 0.1058  \u001b[0m | \u001b[0m 0.5758  \u001b[0m | \u001b[0m 76.83   \u001b[0m | \u001b[0m 0.9981  \u001b[0m | \u001b[0m 15.83   \u001b[0m | \u001b[0m 18.97   \u001b[0m |\n",
      "Training until validation scores don't improve for 50 rounds.\n",
      "Did not meet early stopping. Best iteration is:\n",
      "[100]\tvalid_0's auc: 0.852139\n",
      "| \u001b[0m 63      \u001b[0m | \u001b[0m 0.8521  \u001b[0m | \u001b[0m 0.4412  \u001b[0m | \u001b[0m 9.363   \u001b[0m | \u001b[0m 0.03816 \u001b[0m | \u001b[0m 0.5365  \u001b[0m | \u001b[0m 2.291   \u001b[0m | \u001b[0m 109.6   \u001b[0m | \u001b[0m 0.9377  \u001b[0m | \u001b[0m 8.829   \u001b[0m | \u001b[0m 19.83   \u001b[0m |\n",
      "Training until validation scores don't improve for 50 rounds.\n",
      "Did not meet early stopping. Best iteration is:\n",
      "[100]\tvalid_0's auc: 0.824668\n",
      "| \u001b[0m 64      \u001b[0m | \u001b[0m 0.8247  \u001b[0m | \u001b[0m 0.4756  \u001b[0m | \u001b[0m 8.954   \u001b[0m | \u001b[0m 0.2254  \u001b[0m | \u001b[0m 0.1277  \u001b[0m | \u001b[0m 4.999   \u001b[0m | \u001b[0m 119.5   \u001b[0m | \u001b[0m 0.3728  \u001b[0m | \u001b[0m 12.0    \u001b[0m | \u001b[0m 19.17   \u001b[0m |\n",
      "Training until validation scores don't improve for 50 rounds.\n",
      "Did not meet early stopping. Best iteration is:\n",
      "[100]\tvalid_0's auc: 0.834494\n",
      "| \u001b[0m 65      \u001b[0m | \u001b[0m 0.8345  \u001b[0m | \u001b[0m 0.3906  \u001b[0m | \u001b[0m 9.749   \u001b[0m | \u001b[0m 0.03283 \u001b[0m | \u001b[0m 1.959   \u001b[0m | \u001b[0m 4.514   \u001b[0m | \u001b[0m 58.94   \u001b[0m | \u001b[0m 0.7818  \u001b[0m | \u001b[0m 11.4    \u001b[0m | \u001b[0m 5.507   \u001b[0m |\n",
      "Training until validation scores don't improve for 50 rounds.\n",
      "Did not meet early stopping. Best iteration is:\n",
      "[100]\tvalid_0's auc: 0.851422\n",
      "| \u001b[0m 66      \u001b[0m | \u001b[0m 0.8514  \u001b[0m | \u001b[0m 0.589   \u001b[0m | \u001b[0m 9.932   \u001b[0m | \u001b[0m 0.04934 \u001b[0m | \u001b[0m 0.1107  \u001b[0m | \u001b[0m 0.2715  \u001b[0m | \u001b[0m 66.27   \u001b[0m | \u001b[0m 0.9333  \u001b[0m | \u001b[0m 5.609   \u001b[0m | \u001b[0m 8.786   \u001b[0m |\n",
      "Training until validation scores don't improve for 50 rounds.\n",
      "Did not meet early stopping. Best iteration is:\n",
      "[100]\tvalid_0's auc: 0.860909\n",
      "| \u001b[0m 67      \u001b[0m | \u001b[0m 0.8609  \u001b[0m | \u001b[0m 0.5503  \u001b[0m | \u001b[0m 9.123   \u001b[0m | \u001b[0m 0.04774 \u001b[0m | \u001b[0m 0.0773  \u001b[0m | \u001b[0m 0.1467  \u001b[0m | \u001b[0m 83.27   \u001b[0m | \u001b[0m 0.7617  \u001b[0m | \u001b[0m 6.799   \u001b[0m | \u001b[0m 18.02   \u001b[0m |\n",
      "Training until validation scores don't improve for 50 rounds.\n",
      "Did not meet early stopping. Best iteration is:\n",
      "[100]\tvalid_0's auc: 0.833365\n",
      "| \u001b[0m 68      \u001b[0m | \u001b[0m 0.8334  \u001b[0m | \u001b[0m 0.5597  \u001b[0m | \u001b[0m 9.691   \u001b[0m | \u001b[0m 0.09472 \u001b[0m | \u001b[0m 0.09661 \u001b[0m | \u001b[0m 0.2779  \u001b[0m | \u001b[0m 63.33   \u001b[0m | \u001b[0m 0.7692  \u001b[0m | \u001b[0m 18.34   \u001b[0m | \u001b[0m 8.08    \u001b[0m |\n"
     ]
    },
    {
     "name": "stdout",
     "output_type": "stream",
     "text": [
      "Training until validation scores don't improve for 50 rounds.\n",
      "Did not meet early stopping. Best iteration is:\n",
      "[100]\tvalid_0's auc: 0.853914\n",
      "| \u001b[0m 69      \u001b[0m | \u001b[0m 0.8539  \u001b[0m | \u001b[0m 0.5401  \u001b[0m | \u001b[0m 3.087   \u001b[0m | \u001b[0m 0.0941  \u001b[0m | \u001b[0m 0.6851  \u001b[0m | \u001b[0m 0.5551  \u001b[0m | \u001b[0m 38.01   \u001b[0m | \u001b[0m 0.5801  \u001b[0m | \u001b[0m 16.75   \u001b[0m | \u001b[0m 19.36   \u001b[0m |\n",
      "Training until validation scores don't improve for 50 rounds.\n",
      "Did not meet early stopping. Best iteration is:\n",
      "[97]\tvalid_0's auc: 0.856095\n",
      "| \u001b[0m 70      \u001b[0m | \u001b[0m 0.8561  \u001b[0m | \u001b[0m 0.3928  \u001b[0m | \u001b[0m 3.599   \u001b[0m | \u001b[0m 0.04373 \u001b[0m | \u001b[0m 0.7207  \u001b[0m | \u001b[0m 4.532   \u001b[0m | \u001b[0m 41.81   \u001b[0m | \u001b[0m 0.9988  \u001b[0m | \u001b[0m 19.02   \u001b[0m | \u001b[0m 18.9    \u001b[0m |\n",
      "Training until validation scores don't improve for 50 rounds.\n",
      "Did not meet early stopping. Best iteration is:\n",
      "[100]\tvalid_0's auc: 0.863252\n",
      "| \u001b[95m 71      \u001b[0m | \u001b[95m 0.8633  \u001b[0m | \u001b[95m 0.5877  \u001b[0m | \u001b[95m 9.611   \u001b[0m | \u001b[95m 0.06521 \u001b[0m | \u001b[95m 4.713   \u001b[0m | \u001b[95m 0.8566  \u001b[0m | \u001b[95m 31.58   \u001b[0m | \u001b[95m 0.8832  \u001b[0m | \u001b[95m 5.781   \u001b[0m | \u001b[95m 19.42   \u001b[0m |\n",
      "Training until validation scores don't improve for 50 rounds.\n",
      "Did not meet early stopping. Best iteration is:\n",
      "[100]\tvalid_0's auc: 0.847195\n",
      "| \u001b[0m 72      \u001b[0m | \u001b[0m 0.8472  \u001b[0m | \u001b[0m 0.6     \u001b[0m | \u001b[0m 3.0     \u001b[0m | \u001b[0m 0.03    \u001b[0m | \u001b[0m 0.0     \u001b[0m | \u001b[0m 5.0     \u001b[0m | \u001b[0m 114.8   \u001b[0m | \u001b[0m 1.0     \u001b[0m | \u001b[0m 10.1    \u001b[0m | \u001b[0m 8.768   \u001b[0m |\n",
      "Training until validation scores don't improve for 50 rounds.\n",
      "Did not meet early stopping. Best iteration is:\n",
      "[100]\tvalid_0's auc: 0.860855\n",
      "| \u001b[0m 73      \u001b[0m | \u001b[0m 0.8609  \u001b[0m | \u001b[0m 0.5859  \u001b[0m | \u001b[0m 9.157   \u001b[0m | \u001b[0m 0.0454  \u001b[0m | \u001b[0m 0.1067  \u001b[0m | \u001b[0m 0.6771  \u001b[0m | \u001b[0m 117.2   \u001b[0m | \u001b[0m 0.6506  \u001b[0m | \u001b[0m 9.62    \u001b[0m | \u001b[0m 19.67   \u001b[0m |\n",
      "Training until validation scores don't improve for 50 rounds.\n",
      "Did not meet early stopping. Best iteration is:\n",
      "[93]\tvalid_0's auc: 0.845419\n",
      "| \u001b[0m 74      \u001b[0m | \u001b[0m 0.8454  \u001b[0m | \u001b[0m 0.5922  \u001b[0m | \u001b[0m 3.679   \u001b[0m | \u001b[0m 0.1176  \u001b[0m | \u001b[0m 0.01333 \u001b[0m | \u001b[0m 4.023   \u001b[0m | \u001b[0m 81.59   \u001b[0m | \u001b[0m 0.9823  \u001b[0m | \u001b[0m 5.744   \u001b[0m | \u001b[0m 19.74   \u001b[0m |\n",
      "Training until validation scores don't improve for 50 rounds.\n",
      "Did not meet early stopping. Best iteration is:\n",
      "[100]\tvalid_0's auc: 0.852323\n",
      "| \u001b[0m 75      \u001b[0m | \u001b[0m 0.8523  \u001b[0m | \u001b[0m 0.5637  \u001b[0m | \u001b[0m 9.917   \u001b[0m | \u001b[0m 0.105   \u001b[0m | \u001b[0m 0.01143 \u001b[0m | \u001b[0m 0.3259  \u001b[0m | \u001b[0m 86.26   \u001b[0m | \u001b[0m 0.2315  \u001b[0m | \u001b[0m 12.17   \u001b[0m | \u001b[0m 19.49   \u001b[0m |\n",
      "Training until validation scores don't improve for 50 rounds.\n",
      "Did not meet early stopping. Best iteration is:\n",
      "[100]\tvalid_0's auc: 0.817417\n",
      "| \u001b[0m 76      \u001b[0m | \u001b[0m 0.8174  \u001b[0m | \u001b[0m 0.583   \u001b[0m | \u001b[0m 9.354   \u001b[0m | \u001b[0m 0.2517  \u001b[0m | \u001b[0m 0.02689 \u001b[0m | \u001b[0m 0.0629  \u001b[0m | \u001b[0m 98.92   \u001b[0m | \u001b[0m 0.8196  \u001b[0m | \u001b[0m 15.5    \u001b[0m | \u001b[0m 18.57   \u001b[0m |\n",
      "Training until validation scores don't improve for 50 rounds.\n",
      "Did not meet early stopping. Best iteration is:\n",
      "[100]\tvalid_0's auc: 0.855635\n",
      "| \u001b[0m 77      \u001b[0m | \u001b[0m 0.8556  \u001b[0m | \u001b[0m 0.5321  \u001b[0m | \u001b[0m 9.595   \u001b[0m | \u001b[0m 0.0352  \u001b[0m | \u001b[0m 0.5037  \u001b[0m | \u001b[0m 4.746   \u001b[0m | \u001b[0m 71.48   \u001b[0m | \u001b[0m 0.3201  \u001b[0m | \u001b[0m 19.27   \u001b[0m | \u001b[0m 19.44   \u001b[0m |\n",
      "Training until validation scores don't improve for 50 rounds.\n",
      "Did not meet early stopping. Best iteration is:\n",
      "[100]\tvalid_0's auc: 0.827194\n",
      "| \u001b[0m 78      \u001b[0m | \u001b[0m 0.8272  \u001b[0m | \u001b[0m 0.2     \u001b[0m | \u001b[0m 9.81    \u001b[0m | \u001b[0m 0.03    \u001b[0m | \u001b[0m 4.749e-0\u001b[0m | \u001b[0m 0.0     \u001b[0m | \u001b[0m 74.46   \u001b[0m | \u001b[0m 1.0     \u001b[0m | \u001b[0m 8.55    \u001b[0m | \u001b[0m 19.96   \u001b[0m |\n",
      "Training until validation scores don't improve for 50 rounds.\n",
      "Did not meet early stopping. Best iteration is:\n",
      "[100]\tvalid_0's auc: 0.837459\n",
      "| \u001b[0m 79      \u001b[0m | \u001b[0m 0.8375  \u001b[0m | \u001b[0m 0.6     \u001b[0m | \u001b[0m 10.0    \u001b[0m | \u001b[0m 0.03    \u001b[0m | \u001b[0m 6.794e-1\u001b[0m | \u001b[0m 5.0     \u001b[0m | \u001b[0m 113.5   \u001b[0m | \u001b[0m 1.0     \u001b[0m | \u001b[0m 19.63   \u001b[0m | \u001b[0m 5.0     \u001b[0m |\n",
      "Training until validation scores don't improve for 50 rounds.\n",
      "Did not meet early stopping. Best iteration is:\n",
      "[93]\tvalid_0's auc: 0.823448\n",
      "| \u001b[0m 80      \u001b[0m | \u001b[0m 0.8234  \u001b[0m | \u001b[0m 0.3899  \u001b[0m | \u001b[0m 9.934   \u001b[0m | \u001b[0m 0.1166  \u001b[0m | \u001b[0m 0.22    \u001b[0m | \u001b[0m 4.873   \u001b[0m | \u001b[0m 65.79   \u001b[0m | \u001b[0m 0.7295  \u001b[0m | \u001b[0m 0.5758  \u001b[0m | \u001b[0m 8.852   \u001b[0m |\n",
      "Training until validation scores don't improve for 50 rounds.\n",
      "Did not meet early stopping. Best iteration is:\n",
      "[88]\tvalid_0's auc: 0.837839\n",
      "| \u001b[0m 81      \u001b[0m | \u001b[0m 0.8378  \u001b[0m | \u001b[0m 0.516   \u001b[0m | \u001b[0m 9.417   \u001b[0m | \u001b[0m 0.1415  \u001b[0m | \u001b[0m 4.856   \u001b[0m | \u001b[0m 4.934   \u001b[0m | \u001b[0m 86.12   \u001b[0m | \u001b[0m 0.83    \u001b[0m | \u001b[0m 4.57    \u001b[0m | \u001b[0m 19.3    \u001b[0m |\n",
      "Training until validation scores don't improve for 50 rounds.\n",
      "Did not meet early stopping. Best iteration is:\n",
      "[100]\tvalid_0's auc: 0.860413\n",
      "| \u001b[0m 82      \u001b[0m | \u001b[0m 0.8604  \u001b[0m | \u001b[0m 0.5296  \u001b[0m | \u001b[0m 9.974   \u001b[0m | \u001b[0m 0.04765 \u001b[0m | \u001b[0m 0.04169 \u001b[0m | \u001b[0m 2.425   \u001b[0m | \u001b[0m 96.23   \u001b[0m | \u001b[0m 0.207   \u001b[0m | \u001b[0m 6.503   \u001b[0m | \u001b[0m 19.39   \u001b[0m |\n",
      "Training until validation scores don't improve for 50 rounds.\n",
      "Did not meet early stopping. Best iteration is:\n",
      "[100]\tvalid_0's auc: 0.835406\n",
      "| \u001b[0m 83      \u001b[0m | \u001b[0m 0.8354  \u001b[0m | \u001b[0m 0.4025  \u001b[0m | \u001b[0m 9.988   \u001b[0m | \u001b[0m 0.03181 \u001b[0m | \u001b[0m 0.07057 \u001b[0m | \u001b[0m 0.5878  \u001b[0m | \u001b[0m 86.05   \u001b[0m | \u001b[0m 0.5721  \u001b[0m | \u001b[0m 5.943   \u001b[0m | \u001b[0m 5.242   \u001b[0m |\n",
      "Training until validation scores don't improve for 50 rounds.\n",
      "Did not meet early stopping. Best iteration is:\n",
      "[100]\tvalid_0's auc: 0.860807\n",
      "| \u001b[0m 84      \u001b[0m | \u001b[0m 0.8608  \u001b[0m | \u001b[0m 0.5365  \u001b[0m | \u001b[0m 8.353   \u001b[0m | \u001b[0m 0.05894 \u001b[0m | \u001b[0m 4.966   \u001b[0m | \u001b[0m 3.715   \u001b[0m | \u001b[0m 116.2   \u001b[0m | \u001b[0m 0.9811  \u001b[0m | \u001b[0m 2.307   \u001b[0m | \u001b[0m 19.8    \u001b[0m |\n",
      "Training until validation scores don't improve for 50 rounds.\n",
      "Did not meet early stopping. Best iteration is:\n",
      "[100]\tvalid_0's auc: 0.834597\n",
      "| \u001b[0m 85      \u001b[0m | \u001b[0m 0.8346  \u001b[0m | \u001b[0m 0.6     \u001b[0m | \u001b[0m 3.0     \u001b[0m | \u001b[0m 0.03    \u001b[0m | \u001b[0m 4.833   \u001b[0m | \u001b[0m 5.0     \u001b[0m | \u001b[0m 30.0    \u001b[0m | \u001b[0m 2.337e-0\u001b[0m | \u001b[0m 1.108   \u001b[0m | \u001b[0m 5.0     \u001b[0m |\n",
      "Training until validation scores don't improve for 50 rounds.\n",
      "Did not meet early stopping. Best iteration is:\n",
      "[100]\tvalid_0's auc: 0.843825\n",
      "| \u001b[0m 86      \u001b[0m | \u001b[0m 0.8438  \u001b[0m | \u001b[0m 0.2734  \u001b[0m | \u001b[0m 8.759   \u001b[0m | \u001b[0m 0.03185 \u001b[0m | \u001b[0m 4.724   \u001b[0m | \u001b[0m 0.1465  \u001b[0m | \u001b[0m 119.3   \u001b[0m | \u001b[0m 0.9353  \u001b[0m | \u001b[0m 3.167   \u001b[0m | \u001b[0m 8.319   \u001b[0m |\n",
      "Training until validation scores don't improve for 50 rounds.\n",
      "Did not meet early stopping. Best iteration is:\n",
      "[100]\tvalid_0's auc: 0.837937\n",
      "| \u001b[0m 87      \u001b[0m | \u001b[0m 0.8379  \u001b[0m | \u001b[0m 0.4842  \u001b[0m | \u001b[0m 9.909   \u001b[0m | \u001b[0m 0.03891 \u001b[0m | \u001b[0m 4.449   \u001b[0m | \u001b[0m 0.5055  \u001b[0m | \u001b[0m 75.05   \u001b[0m | \u001b[0m 0.9426  \u001b[0m | \u001b[0m 13.0    \u001b[0m | \u001b[0m 5.702   \u001b[0m |\n",
      "Training until validation scores don't improve for 50 rounds.\n",
      "Did not meet early stopping. Best iteration is:\n",
      "[100]\tvalid_0's auc: 0.863583\n",
      "| \u001b[95m 88      \u001b[0m | \u001b[95m 0.8636  \u001b[0m | \u001b[95m 0.5754  \u001b[0m | \u001b[95m 6.408   \u001b[0m | \u001b[95m 0.06643 \u001b[0m | \u001b[95m 3.055   \u001b[0m | \u001b[95m 0.1189  \u001b[0m | \u001b[95m 119.4   \u001b[0m | \u001b[95m 0.9805  \u001b[0m | \u001b[95m 8.9     \u001b[0m | \u001b[95m 19.52   \u001b[0m |\n",
      "Training until validation scores don't improve for 50 rounds.\n",
      "Did not meet early stopping. Best iteration is:\n",
      "[96]\tvalid_0's auc: 0.8482\n",
      "| \u001b[0m 89      \u001b[0m | \u001b[0m 0.8482  \u001b[0m | \u001b[0m 0.4652  \u001b[0m | \u001b[0m 3.144   \u001b[0m | \u001b[0m 0.1117  \u001b[0m | \u001b[0m 3.986   \u001b[0m | \u001b[0m 0.4633  \u001b[0m | \u001b[0m 119.4   \u001b[0m | \u001b[0m 0.4953  \u001b[0m | \u001b[0m 3.278   \u001b[0m | \u001b[0m 19.96   \u001b[0m |\n",
      "Training until validation scores don't improve for 50 rounds.\n",
      "Did not meet early stopping. Best iteration is:\n",
      "[100]\tvalid_0's auc: 0.837505\n",
      "| \u001b[0m 90      \u001b[0m | \u001b[0m 0.8375  \u001b[0m | \u001b[0m 0.6     \u001b[0m | \u001b[0m 7.407   \u001b[0m | \u001b[0m 0.03    \u001b[0m | \u001b[0m 5.0     \u001b[0m | \u001b[0m 5.0     \u001b[0m | \u001b[0m 34.63   \u001b[0m | \u001b[0m 1.0     \u001b[0m | \u001b[0m 9.665   \u001b[0m | \u001b[0m 5.0     \u001b[0m |\n",
      "Training until validation scores don't improve for 50 rounds.\n",
      "Did not meet early stopping. Best iteration is:\n",
      "[100]\tvalid_0's auc: 0.849748\n",
      "| \u001b[0m 91      \u001b[0m | \u001b[0m 0.8497  \u001b[0m | \u001b[0m 0.6     \u001b[0m | \u001b[0m 10.0    \u001b[0m | \u001b[0m 0.03    \u001b[0m | \u001b[0m 4.711   \u001b[0m | \u001b[0m 5.0     \u001b[0m | \u001b[0m 105.1   \u001b[0m | \u001b[0m 1.0     \u001b[0m | \u001b[0m 19.28   \u001b[0m | \u001b[0m 19.49   \u001b[0m |\n"
     ]
    },
    {
     "name": "stdout",
     "output_type": "stream",
     "text": [
      "Training until validation scores don't improve for 50 rounds.\n",
      "Did not meet early stopping. Best iteration is:\n",
      "[100]\tvalid_0's auc: 0.844943\n",
      "| \u001b[0m 92      \u001b[0m | \u001b[0m 0.8449  \u001b[0m | \u001b[0m 0.351   \u001b[0m | \u001b[0m 4.672   \u001b[0m | \u001b[0m 0.03969 \u001b[0m | \u001b[0m 4.93    \u001b[0m | \u001b[0m 4.991   \u001b[0m | \u001b[0m 116.3   \u001b[0m | \u001b[0m 0.7158  \u001b[0m | \u001b[0m 5.41    \u001b[0m | \u001b[0m 6.045   \u001b[0m |\n",
      "Training until validation scores don't improve for 50 rounds.\n",
      "Did not meet early stopping. Best iteration is:\n",
      "[100]\tvalid_0's auc: 0.862834\n",
      "| \u001b[0m 93      \u001b[0m | \u001b[0m 0.8628  \u001b[0m | \u001b[0m 0.3752  \u001b[0m | \u001b[0m 3.15    \u001b[0m | \u001b[0m 0.06603 \u001b[0m | \u001b[0m 0.2695  \u001b[0m | \u001b[0m 3.828   \u001b[0m | \u001b[0m 65.79   \u001b[0m | \u001b[0m 0.6582  \u001b[0m | \u001b[0m 19.87   \u001b[0m | \u001b[0m 19.58   \u001b[0m |\n",
      "Training until validation scores don't improve for 50 rounds.\n",
      "Did not meet early stopping. Best iteration is:\n",
      "[100]\tvalid_0's auc: 0.854895\n",
      "| \u001b[0m 94      \u001b[0m | \u001b[0m 0.8549  \u001b[0m | \u001b[0m 0.5064  \u001b[0m | \u001b[0m 4.837   \u001b[0m | \u001b[0m 0.03728 \u001b[0m | \u001b[0m 0.6861  \u001b[0m | \u001b[0m 0.2673  \u001b[0m | \u001b[0m 35.89   \u001b[0m | \u001b[0m 0.6711  \u001b[0m | \u001b[0m 1.393   \u001b[0m | \u001b[0m 19.86   \u001b[0m |\n",
      "Training until validation scores don't improve for 50 rounds.\n",
      "Did not meet early stopping. Best iteration is:\n",
      "[100]\tvalid_0's auc: 0.859114\n",
      "| \u001b[0m 95      \u001b[0m | \u001b[0m 0.8591  \u001b[0m | \u001b[0m 0.59    \u001b[0m | \u001b[0m 3.733   \u001b[0m | \u001b[0m 0.07306 \u001b[0m | \u001b[0m 0.01587 \u001b[0m | \u001b[0m 0.9114  \u001b[0m | \u001b[0m 71.96   \u001b[0m | \u001b[0m 0.9646  \u001b[0m | \u001b[0m 19.45   \u001b[0m | \u001b[0m 14.91   \u001b[0m |\n",
      "Training until validation scores don't improve for 50 rounds.\n",
      "Did not meet early stopping. Best iteration is:\n",
      "[100]\tvalid_0's auc: 0.849602\n",
      "| \u001b[0m 96      \u001b[0m | \u001b[0m 0.8496  \u001b[0m | \u001b[0m 0.6     \u001b[0m | \u001b[0m 9.971   \u001b[0m | \u001b[0m 0.03    \u001b[0m | \u001b[0m 3.688   \u001b[0m | \u001b[0m 2.095   \u001b[0m | \u001b[0m 95.47   \u001b[0m | \u001b[0m 1.0     \u001b[0m | \u001b[0m 4.918   \u001b[0m | \u001b[0m 19.71   \u001b[0m |\n",
      "Training until validation scores don't improve for 50 rounds.\n",
      "Did not meet early stopping. Best iteration is:\n",
      "[100]\tvalid_0's auc: 0.857096\n",
      "| \u001b[0m 97      \u001b[0m | \u001b[0m 0.8571  \u001b[0m | \u001b[0m 0.595   \u001b[0m | \u001b[0m 6.854   \u001b[0m | \u001b[0m 0.03806 \u001b[0m | \u001b[0m 4.4     \u001b[0m | \u001b[0m 0.4497  \u001b[0m | \u001b[0m 40.57   \u001b[0m | \u001b[0m 0.7838  \u001b[0m | \u001b[0m 0.3597  \u001b[0m | \u001b[0m 19.08   \u001b[0m |\n",
      "Training until validation scores don't improve for 50 rounds.\n",
      "Did not meet early stopping. Best iteration is:\n",
      "[100]\tvalid_0's auc: 0.85667\n",
      "| \u001b[0m 98      \u001b[0m | \u001b[0m 0.8567  \u001b[0m | \u001b[0m 0.2839  \u001b[0m | \u001b[0m 9.569   \u001b[0m | \u001b[0m 0.07068 \u001b[0m | \u001b[0m 0.05944 \u001b[0m | \u001b[0m 4.601   \u001b[0m | \u001b[0m 75.18   \u001b[0m | \u001b[0m 0.7303  \u001b[0m | \u001b[0m 19.67   \u001b[0m | \u001b[0m 12.65   \u001b[0m |\n",
      "Training until validation scores don't improve for 50 rounds.\n",
      "Did not meet early stopping. Best iteration is:\n",
      "[86]\tvalid_0's auc: 0.855707\n",
      "| \u001b[0m 99      \u001b[0m | \u001b[0m 0.8557  \u001b[0m | \u001b[0m 0.5145  \u001b[0m | \u001b[0m 7.838   \u001b[0m | \u001b[0m 0.08548 \u001b[0m | \u001b[0m 0.03881 \u001b[0m | \u001b[0m 4.557   \u001b[0m | \u001b[0m 87.51   \u001b[0m | \u001b[0m 0.8206  \u001b[0m | \u001b[0m 3.745   \u001b[0m | \u001b[0m 19.89   \u001b[0m |\n",
      "Training until validation scores don't improve for 50 rounds.\n",
      "Did not meet early stopping. Best iteration is:\n",
      "[100]\tvalid_0's auc: 0.860696\n",
      "| \u001b[0m 100     \u001b[0m | \u001b[0m 0.8607  \u001b[0m | \u001b[0m 0.5869  \u001b[0m | \u001b[0m 4.202   \u001b[0m | \u001b[0m 0.04941 \u001b[0m | \u001b[0m 0.2994  \u001b[0m | \u001b[0m 4.638   \u001b[0m | \u001b[0m 60.97   \u001b[0m | \u001b[0m 0.9946  \u001b[0m | \u001b[0m 19.36   \u001b[0m | \u001b[0m 15.13   \u001b[0m |\n",
      "Training until validation scores don't improve for 50 rounds.\n",
      "Did not meet early stopping. Best iteration is:\n",
      "[100]\tvalid_0's auc: 0.854264\n",
      "| \u001b[0m 101     \u001b[0m | \u001b[0m 0.8543  \u001b[0m | \u001b[0m 0.5618  \u001b[0m | \u001b[0m 9.738   \u001b[0m | \u001b[0m 0.09216 \u001b[0m | \u001b[0m 4.519   \u001b[0m | \u001b[0m 0.1619  \u001b[0m | \u001b[0m 117.0   \u001b[0m | \u001b[0m 0.9151  \u001b[0m | \u001b[0m 5.751   \u001b[0m | \u001b[0m 19.78   \u001b[0m |\n",
      "Training until validation scores don't improve for 50 rounds.\n",
      "Did not meet early stopping. Best iteration is:\n",
      "[100]\tvalid_0's auc: 0.848778\n",
      "| \u001b[0m 102     \u001b[0m | \u001b[0m 0.8488  \u001b[0m | \u001b[0m 0.5327  \u001b[0m | \u001b[0m 9.518   \u001b[0m | \u001b[0m 0.03103 \u001b[0m | \u001b[0m 0.6478  \u001b[0m | \u001b[0m 4.747   \u001b[0m | \u001b[0m 79.63   \u001b[0m | \u001b[0m 0.708   \u001b[0m | \u001b[0m 6.641   \u001b[0m | \u001b[0m 13.43   \u001b[0m |\n",
      "Training until validation scores don't improve for 50 rounds.\n",
      "Did not meet early stopping. Best iteration is:\n",
      "[100]\tvalid_0's auc: 0.83388\n",
      "| \u001b[0m 103     \u001b[0m | \u001b[0m 0.8339  \u001b[0m | \u001b[0m 0.5947  \u001b[0m | \u001b[0m 3.025   \u001b[0m | \u001b[0m 0.1616  \u001b[0m | \u001b[0m 0.8833  \u001b[0m | \u001b[0m 4.828   \u001b[0m | \u001b[0m 107.4   \u001b[0m | \u001b[0m 0.879   \u001b[0m | \u001b[0m 16.38   \u001b[0m | \u001b[0m 19.99   \u001b[0m |\n",
      "Training until validation scores don't improve for 50 rounds.\n",
      "Did not meet early stopping. Best iteration is:\n",
      "[100]\tvalid_0's auc: 0.846448\n",
      "| \u001b[0m 104     \u001b[0m | \u001b[0m 0.8464  \u001b[0m | \u001b[0m 0.4275  \u001b[0m | \u001b[0m 3.528   \u001b[0m | \u001b[0m 0.03125 \u001b[0m | \u001b[0m 4.784   \u001b[0m | \u001b[0m 0.2047  \u001b[0m | \u001b[0m 38.09   \u001b[0m | \u001b[0m 0.9087  \u001b[0m | \u001b[0m 10.29   \u001b[0m | \u001b[0m 19.0    \u001b[0m |\n",
      "Training until validation scores don't improve for 50 rounds.\n",
      "Did not meet early stopping. Best iteration is:\n",
      "[96]\tvalid_0's auc: 0.856816\n",
      "| \u001b[0m 105     \u001b[0m | \u001b[0m 0.8568  \u001b[0m | \u001b[0m 0.4083  \u001b[0m | \u001b[0m 9.81    \u001b[0m | \u001b[0m 0.04482 \u001b[0m | \u001b[0m 0.01795 \u001b[0m | \u001b[0m 3.155   \u001b[0m | \u001b[0m 78.36   \u001b[0m | \u001b[0m 0.598   \u001b[0m | \u001b[0m 19.95   \u001b[0m | \u001b[0m 19.82   \u001b[0m |\n",
      "=====================================================================================================================================\n"
     ]
    }
   ],
   "source": [
    "print('-' * 130)\n",
    "\n",
    "with warnings.catch_warnings():\n",
    "    warnings.filterwarnings('ignore')\n",
    "    LGB_BO.maximize(init_points=init_points, n_iter=n_iter, acq='ucb', xi=0.0, alpha=1e-6)"
   ]
  },
  {
   "cell_type": "code",
   "execution_count": 1,
   "metadata": {},
   "outputs": [],
   "source": [
    "# parametres tested and the corresponding auc\n",
    "#for i, res in enumerate(LGB_BO.res):\n",
    "#    print(\"Iteration {}: \\n\\t{}\".format(i, res))"
   ]
  },
  {
   "cell_type": "code",
   "execution_count": 95,
   "metadata": {},
   "outputs": [
    {
     "data": {
      "text/plain": [
       "0.8635832357546565"
      ]
     },
     "execution_count": 95,
     "metadata": {},
     "output_type": "execute_result"
    }
   ],
   "source": [
    "#what is the max auc that we've got\n",
    "LGB_BO.max['target']"
   ]
  },
  {
   "cell_type": "code",
   "execution_count": 96,
   "metadata": {
    "scrolled": true
   },
   "outputs": [
    {
     "data": {
      "text/plain": [
       "{'bagging_fraction': 0.5753998339245148,\n",
       " 'bagging_freq': 6.408385370603334,\n",
       " 'feature_fraction': 0.06643110789635034,\n",
       " 'lambda_l1': 3.0552634836492882,\n",
       " 'lambda_l2': 0.11888476928475944,\n",
       " 'min_data_in_leaf': 119.43637202941925,\n",
       " 'min_gain_to_split': 0.9804715370021717,\n",
       " 'min_sum_hessian_in_leaf': 8.89962183049432,\n",
       " 'num_leaves': 19.519708853802882}"
      ]
     },
     "execution_count": 96,
     "metadata": {},
     "output_type": "execute_result"
    }
   ],
   "source": [
    "#parametrs the have benn found\n",
    "LGB_BO.max['params']"
   ]
  },
  {
   "cell_type": "markdown",
   "metadata": {},
   "source": [
    "0.89:\n",
    "{'feature_fraction': 0.0725311213806508,\n",
    " 'lambda_l1': 4.778909939998174,\n",
    " 'lambda_l2': 3.220122059503974,\n",
    " 'learning_rate': 0.07663544326133201,\n",
    " 'max_depth': 14.99504485809263,\n",
    " 'min_data_in_leaf': 6.071757005556453,\n",
    " 'min_gain_to_split': 0.4634735801572327,\n",
    " 'min_sum_hessian_in_leaf': 0.007510919138894667,\n",
    " 'num_leaves': 5.001626877554514}"
   ]
  },
  {
   "cell_type": "markdown",
   "metadata": {},
   "source": [
    "### LGB optimisation with cross validation"
   ]
  },
  {
   "cell_type": "code",
   "execution_count": 16,
   "metadata": {},
   "outputs": [],
   "source": [
    "def LGB_CV(\n",
    "          max_depth,\n",
    "          num_leaves,\n",
    "          min_data_in_leaf,\n",
    "          feature_fraction,\n",
    "          bagging_fraction,\n",
    "          lambda_l1,\n",
    "          learning_rate\n",
    "         ):\n",
    "    \n",
    "    folds = StratifiedKFold(n_splits=5, shuffle=True, random_state=15)\n",
    "    #oof - out of fold\n",
    "    oof = np.zeros(train.shape[0])\n",
    "    \n",
    "    #enumerate - allows us to loop over something and have an automatic counter\n",
    "\n",
    "    for fold_, (trn_idx, val_idx) in enumerate(folds.split(train.values, target.values)):\n",
    "        print(\"fold n°{}\".format(fold_))\n",
    "        trn_data = lgb.Dataset(train.iloc[trn_idx][features],\n",
    "                               label=target.iloc[trn_idx])\n",
    "        val_data = lgb.Dataset(train.iloc[val_idx][features],\n",
    "                               label=target.iloc[val_idx])\n",
    "    \n",
    "        param = {\n",
    "            'num_leaves': int(num_leaves),\n",
    "            'min_data_in_leaf': int(min_data_in_leaf), \n",
    "            'objective': 'binary',\n",
    "            'max_depth': int(max_depth),\n",
    "            'learning_rate': 0.01,\n",
    "            \"boosting\": \"gbdt\",\n",
    "            \"feature_fraction\": feature_fraction,\n",
    "            \"bagging_freq\": 1,\n",
    "            \"bagging_fraction\": bagging_fraction,\n",
    "            \"bagging_seed\": 11,\n",
    "            \"metric\": 'auc',\n",
    "            \"lambda_l1\": lambda_l1,\n",
    "            \"verbosity\": -1,\n",
    "            'is_unbalance': True,\n",
    "            'save_binary': True,\n",
    "            'learning_rate':learning_rate\n",
    "        }\n",
    "        \n",
    "        \n",
    "    \n",
    "        \n",
    "        clf = lgb.train(param,\n",
    "                        trn_data,\n",
    "                        10000,\n",
    "                        valid_sets = [trn_data, val_data],\n",
    "                        verbose_eval=500,\n",
    "                        early_stopping_rounds = 200)\n",
    "        \n",
    "        oof[val_idx] = clf.predict(train.iloc[val_idx][features],\n",
    "                                   num_iteration=clf.best_iteration)\n",
    "        \n",
    "        del clf, trn_idx, val_idx\n",
    "        gc.collect()      \n",
    "        \n",
    "    return metrics.roc_auc_score(oof, target)"
   ]
  },
  {
   "cell_type": "code",
   "execution_count": 17,
   "metadata": {},
   "outputs": [],
   "source": [
    "# Bounded region of parameter space\n",
    "bounds_LGB = {\n",
    "     \n",
    "    'learning_rate': (0.01, 0.3),   \n",
    "    'max_depth': (4, 10),\n",
    "    'num_leaves': (5, 130),\n",
    "    'min_data_in_leaf': (10, 150),\n",
    "    'feature_fraction': (0.7, 1.0),\n",
    "    'bagging_fraction': (0.7, 1.0),\n",
    "    'lambda_l1': (0, 6)\n",
    "}"
   ]
  },
  {
   "cell_type": "code",
   "execution_count": 18,
   "metadata": {},
   "outputs": [],
   "source": [
    "# BayesianOptimization object\n",
    "LGB_BO = BayesianOptimization(LGB_CV, bounds_LGB, random_state=13)"
   ]
  },
  {
   "cell_type": "code",
   "execution_count": 19,
   "metadata": {},
   "outputs": [
    {
     "name": "stdout",
     "output_type": "stream",
     "text": [
      "['bagging_fraction', 'feature_fraction', 'lambda_l1', 'learning_rate', 'max_depth', 'min_data_in_leaf', 'num_leaves']\n"
     ]
    }
   ],
   "source": [
    "#the parameters we are gaoing to optimise\n",
    "print(LGB_BO.space.keys)"
   ]
  },
  {
   "cell_type": "code",
   "execution_count": 20,
   "metadata": {},
   "outputs": [],
   "source": [
    "init_points = 5\n",
    "n_iter = 20"
   ]
  },
  {
   "cell_type": "code",
   "execution_count": 2,
   "metadata": {},
   "outputs": [],
   "source": [
    "#to do\n",
    "#print('-' * 130)\n",
    "\n",
    "#with warnings.catch_warnings():\n",
    "#    warnings.filterwarnings('ignore')\n",
    "#    LGB_BO.maximize(init_points=init_points, n_iter=n_iter, acq='ucb', xi=0.0, alpha=1e-6)"
   ]
  },
  {
   "cell_type": "markdown",
   "metadata": {},
   "source": [
    "### LGB model"
   ]
  },
  {
   "cell_type": "code",
   "execution_count": null,
   "metadata": {},
   "outputs": [],
   "source": [
    "param_lgb = {\n",
    "        'num_leaves': int(LGB_BO.max['params']['num_leaves']), # remember to int here\n",
    "        'max_bin': 63,\n",
    "        'min_data_in_leaf': int(LGB_BO.max['params']['min_data_in_leaf']), # remember to int here\n",
    "        'learning_rate': LGB_BO.max['params']['learning_rate'],\n",
    "        'min_sum_hessian_in_leaf': LGB_BO.max['params']['min_sum_hessian_in_leaf'],\n",
    "        'bagging_fraction': 1.0, \n",
    "        'bagging_freq': 5, \n",
    "        'feature_fraction': LGB_BO.max['params']['feature_fraction'],\n",
    "        'lambda_l1': LGB_BO.max['params']['lambda_l1'],\n",
    "        'lambda_l2': LGB_BO.max['params']['lambda_l2'],\n",
    "        'min_gain_to_split': LGB_BO.max['params']['min_gain_to_split'],\n",
    "        'max_depth': int(LGB_BO.max['params']['max_depth']), # remember to int here\n",
    "        'save_binary': True,\n",
    "        'seed': 1337,\n",
    "        'feature_fraction_seed': 1337,\n",
    "        'bagging_seed': 1337,\n",
    "        'drop_seed': 1337,\n",
    "        'data_random_seed': 1337,\n",
    "        'objective': 'binary',\n",
    "        'boosting_type': 'gbdt',\n",
    "        'verbose': 1,\n",
    "        'metric': 'auc',\n",
    "        'is_unbalance': True,\n",
    "        'boost_from_average': False,\n",
    "    }"
   ]
  },
  {
   "cell_type": "code",
   "execution_count": 37,
   "metadata": {},
   "outputs": [],
   "source": [
    "nfold = 5"
   ]
  },
  {
   "cell_type": "code",
   "execution_count": 38,
   "metadata": {},
   "outputs": [],
   "source": [
    "skf = StratifiedKFold(n_splits=nfold, shuffle=True, random_state=2019)"
   ]
  },
  {
   "cell_type": "code",
   "execution_count": null,
   "metadata": {},
   "outputs": [],
   "source": [
    "#\n",
    "oof = np.zeros(len(train))\n",
    "predictions = np.zeros((len(test),nfold))\n",
    "\n",
    "i = 1\n",
    "for train_index, valid_index in skf.split(train, target.values):\n",
    "    print(\"\\nfold {}\".format(i))\n",
    "    xg_train = lgb.Dataset(train_df.iloc[train_index][predictors].values,\n",
    "                           label=train_df.iloc[train_index][target].values,\n",
    "                           feature_name=predictors,\n",
    "                           free_raw_data = False\n",
    "                           )\n",
    "    xg_valid = lgb.Dataset(train_df.iloc[valid_index][predictors].values,\n",
    "                           label=train_df.iloc[valid_index][target].values,\n",
    "                           feature_name=predictors,\n",
    "                           free_raw_data = False\n",
    "                           )   \n",
    "\n",
    "    \n",
    "    clf = lgb.train(param_lgb, xg_train, 5000, valid_sets = [xg_valid], verbose_eval=250, early_stopping_rounds = 50)\n",
    "    oof[valid_index] = clf.predict(train_df.iloc[valid_index][predictors].values, num_iteration=clf.best_iteration) \n",
    "    \n",
    "    predictions[:,i-1] += clf.predict(test_df[predictors], num_iteration=clf.best_iteration)\n",
    "    i = i + 1\n",
    "\n",
    "print(\"\\n\\nCV AUC: {:<0.2f}\".format(metrics.roc_auc_score(train_df.target.values, oof)))"
   ]
  },
  {
   "cell_type": "markdown",
   "metadata": {},
   "source": [
    "### Rank averaging"
   ]
  },
  {
   "cell_type": "code",
   "execution_count": null,
   "metadata": {},
   "outputs": [],
   "source": [
    "#todo\n",
    "print(\"Rank averaging on\", nfold, \"fold predictions\")\n",
    "rank_predictions = np.zeros((predictions.shape[0],1))\n",
    "for i in range(nfold):\n",
    "    rank_predictions[:, 0] = np.add(rank_predictions[:, 0], rankdata(predictions[:, i].reshape(-1,1))/rank_predictions.shape[0]) \n",
    "\n",
    "rank_predictions /= nfold"
   ]
  },
  {
   "cell_type": "markdown",
   "metadata": {},
   "source": [
    "### Submission"
   ]
  },
  {
   "cell_type": "code",
   "execution_count": 118,
   "metadata": {},
   "outputs": [],
   "source": [
    "sample_submission=pd.read_csv(f'{PATH}sample_submission.csv')"
   ]
  },
  {
   "cell_type": "code",
   "execution_count": 119,
   "metadata": {
    "scrolled": true
   },
   "outputs": [
    {
     "data": {
      "text/html": [
       "<div>\n",
       "<style scoped>\n",
       "    .dataframe tbody tr th:only-of-type {\n",
       "        vertical-align: middle;\n",
       "    }\n",
       "\n",
       "    .dataframe tbody tr th {\n",
       "        vertical-align: top;\n",
       "    }\n",
       "\n",
       "    .dataframe thead th {\n",
       "        text-align: right;\n",
       "    }\n",
       "</style>\n",
       "<table border=\"1\" class=\"dataframe\">\n",
       "  <thead>\n",
       "    <tr style=\"text-align: right;\">\n",
       "      <th></th>\n",
       "      <th>ID_code</th>\n",
       "      <th>target</th>\n",
       "    </tr>\n",
       "  </thead>\n",
       "  <tbody>\n",
       "    <tr>\n",
       "      <th>0</th>\n",
       "      <td>test_0</td>\n",
       "      <td>0</td>\n",
       "    </tr>\n",
       "    <tr>\n",
       "      <th>1</th>\n",
       "      <td>test_1</td>\n",
       "      <td>0</td>\n",
       "    </tr>\n",
       "    <tr>\n",
       "      <th>2</th>\n",
       "      <td>test_2</td>\n",
       "      <td>0</td>\n",
       "    </tr>\n",
       "    <tr>\n",
       "      <th>3</th>\n",
       "      <td>test_3</td>\n",
       "      <td>0</td>\n",
       "    </tr>\n",
       "    <tr>\n",
       "      <th>4</th>\n",
       "      <td>test_4</td>\n",
       "      <td>0</td>\n",
       "    </tr>\n",
       "  </tbody>\n",
       "</table>\n",
       "</div>"
      ],
      "text/plain": [
       "  ID_code  target\n",
       "0  test_0       0\n",
       "1  test_1       0\n",
       "2  test_2       0\n",
       "3  test_3       0\n",
       "4  test_4       0"
      ]
     },
     "execution_count": 119,
     "metadata": {},
     "output_type": "execute_result"
    }
   ],
   "source": [
    "sample_submission.head(5)"
   ]
  },
  {
   "cell_type": "code",
   "execution_count": null,
   "metadata": {},
   "outputs": [],
   "source": []
  },
  {
   "cell_type": "code",
   "execution_count": null,
   "metadata": {},
   "outputs": [],
   "source": [
    "#todo\n",
    "sub_df = pd.DataFrame({\"ID_code\": test.ID_code.values})\n",
    "sub_df[\"target\"] = rank_predictions\n",
    "sub_df[:10]"
   ]
  }
 ],
 "metadata": {
  "kernelspec": {
   "display_name": "Python 3",
   "language": "python",
   "name": "python3"
  },
  "language_info": {
   "codemirror_mode": {
    "name": "ipython",
    "version": 3
   },
   "file_extension": ".py",
   "mimetype": "text/x-python",
   "name": "python",
   "nbconvert_exporter": "python",
   "pygments_lexer": "ipython3",
   "version": "3.6.8"
  }
 },
 "nbformat": 4,
 "nbformat_minor": 2
}
